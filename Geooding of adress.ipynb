{
 "cells": [
  {
   "cell_type": "markdown",
   "metadata": {},
   "source": [
    "# Programmet har til formål at få geocoded apoteker og apoteksåbninger. Dette skal bruges til at skabe konkurrence og forbruger parametre. "
   ]
  },
  {
   "cell_type": "code",
   "execution_count": 1,
   "metadata": {},
   "outputs": [],
   "source": [
    "import numpy             as np\n",
    "import matplotlib.pyplot as plt           #We use it for construction of graphs, both 3D and 2D\n",
    "\n",
    "import pandas as pd\n",
    "\n",
    "import json\n",
    "import os\n",
    "import requests\n",
    "\n",
    "# spatial stuff\n",
    "import geopandas as gpd\n",
    "import fiona\n",
    "import folium\n",
    "import shapely\n"
   ]
  },
  {
   "cell_type": "code",
   "execution_count": 2,
   "metadata": {},
   "outputs": [
    {
     "name": "stdout",
     "output_type": "stream",
     "text": [
      "Collecting geopy\n",
      "  Downloading https://files.pythonhosted.org/packages/07/e1/9c72de674d5c2b8fcb0738a5ceeb5424941fefa080bfe4e240d0bacb5a38/geopy-2.0.0-py3-none-any.whl (111kB)\n",
      "Collecting geographiclib<2,>=1.49 (from geopy)\n",
      "  Downloading https://files.pythonhosted.org/packages/8b/62/26ec95a98ba64299163199e95ad1b0e34ad3f4e176e221c40245f211e425/geographiclib-1.50-py3-none-any.whl\n",
      "Installing collected packages: geographiclib, geopy\n",
      "Successfully installed geographiclib-1.50 geopy-2.0.0\n",
      "Note: you may need to restart the kernel to use updated packages.\n"
     ]
    }
   ],
   "source": [
    "pip install geopy"
   ]
  },
  {
   "cell_type": "markdown",
   "metadata": {},
   "source": [
    "Importering af Excel oversigt over apoteker"
   ]
  },
  {
   "cell_type": "code",
   "execution_count": 31,
   "metadata": {},
   "outputs": [
    {
     "data": {
      "text/html": [
       "<div>\n",
       "<style scoped>\n",
       "    .dataframe tbody tr th:only-of-type {\n",
       "        vertical-align: middle;\n",
       "    }\n",
       "\n",
       "    .dataframe tbody tr th {\n",
       "        vertical-align: top;\n",
       "    }\n",
       "\n",
       "    .dataframe thead th {\n",
       "        text-align: right;\n",
       "    }\n",
       "</style>\n",
       "<table border=\"1\" class=\"dataframe\">\n",
       "  <thead>\n",
       "    <tr style=\"text-align: right;\">\n",
       "      <th></th>\n",
       "      <th>ApotekNr</th>\n",
       "      <th>Navn</th>\n",
       "      <th>TypeID</th>\n",
       "      <th>Adresse</th>\n",
       "      <th>PostNr</th>\n",
       "      <th>Startdato</th>\n",
       "      <th>Slutdato</th>\n",
       "      <th>amt</th>\n",
       "      <th>Kommune</th>\n",
       "      <th>Region</th>\n",
       "    </tr>\n",
       "  </thead>\n",
       "  <tbody>\n",
       "    <tr>\n",
       "      <td>0</td>\n",
       "      <td>359</td>\n",
       "      <td>Albertslund Apotek</td>\n",
       "      <td>6</td>\n",
       "      <td>Bytorvet 5</td>\n",
       "      <td>2620.0</td>\n",
       "      <td>1966-01-01 00:00:00</td>\n",
       "      <td>NaN</td>\n",
       "      <td>1084.0</td>\n",
       "      <td>165.0</td>\n",
       "      <td>1084.0</td>\n",
       "    </tr>\n",
       "    <tr>\n",
       "      <td>1</td>\n",
       "      <td>346-1</td>\n",
       "      <td>Allerød Apotek</td>\n",
       "      <td>7</td>\n",
       "      <td>Allerød Stationsvej 9</td>\n",
       "      <td>3450.0</td>\n",
       "      <td>NaN</td>\n",
       "      <td>NaN</td>\n",
       "      <td>1084.0</td>\n",
       "      <td>201.0</td>\n",
       "      <td>1084.0</td>\n",
       "    </tr>\n",
       "    <tr>\n",
       "      <td>2</td>\n",
       "      <td>082-1</td>\n",
       "      <td>Allinge Apotek</td>\n",
       "      <td>7</td>\n",
       "      <td>Kirkegade 13</td>\n",
       "      <td>3770.0</td>\n",
       "      <td>2016-05-01 00:00:00</td>\n",
       "      <td>NaN</td>\n",
       "      <td>1084.0</td>\n",
       "      <td>400.0</td>\n",
       "      <td>1084.0</td>\n",
       "    </tr>\n",
       "    <tr>\n",
       "      <td>3</td>\n",
       "      <td>175</td>\n",
       "      <td>Allinge Apotek</td>\n",
       "      <td>6</td>\n",
       "      <td>Kirkegade 13</td>\n",
       "      <td>3770.0</td>\n",
       "      <td>01-01-1898 00:00</td>\n",
       "      <td>2016-05-01 00:00:00</td>\n",
       "      <td>1084.0</td>\n",
       "      <td>400.0</td>\n",
       "      <td>1084.0</td>\n",
       "    </tr>\n",
       "    <tr>\n",
       "      <td>4</td>\n",
       "      <td>243-1</td>\n",
       "      <td>Amager Strand Apotek</td>\n",
       "      <td>7</td>\n",
       "      <td>Strandlodsvej 41</td>\n",
       "      <td>2300.0</td>\n",
       "      <td>2015-09-21 00:00:00</td>\n",
       "      <td>NaN</td>\n",
       "      <td>1084.0</td>\n",
       "      <td>101.0</td>\n",
       "      <td>1084.0</td>\n",
       "    </tr>\n",
       "    <tr>\n",
       "      <td>...</td>\n",
       "      <td>...</td>\n",
       "      <td>...</td>\n",
       "      <td>...</td>\n",
       "      <td>...</td>\n",
       "      <td>...</td>\n",
       "      <td>...</td>\n",
       "      <td>...</td>\n",
       "      <td>...</td>\n",
       "      <td>...</td>\n",
       "      <td>...</td>\n",
       "    </tr>\n",
       "    <tr>\n",
       "      <td>790</td>\n",
       "      <td>331</td>\n",
       "      <td>Aarhus Viby Apotek</td>\n",
       "      <td>6</td>\n",
       "      <td>Viby Ringvej 10, ST. 26</td>\n",
       "      <td>8260.0</td>\n",
       "      <td>1933-01-01 00:00:00</td>\n",
       "      <td>NaN</td>\n",
       "      <td>1082.0</td>\n",
       "      <td>751.0</td>\n",
       "      <td>1082.0</td>\n",
       "    </tr>\n",
       "    <tr>\n",
       "      <td>791</td>\n",
       "      <td>337</td>\n",
       "      <td>Aarhus Åbyhøj Apotek</td>\n",
       "      <td>6</td>\n",
       "      <td>Haslevej 17</td>\n",
       "      <td>8230.0</td>\n",
       "      <td>1936-01-01 00:00:00</td>\n",
       "      <td>NaN</td>\n",
       "      <td>1082.0</td>\n",
       "      <td>751.0</td>\n",
       "      <td>1082.0</td>\n",
       "    </tr>\n",
       "    <tr>\n",
       "      <td>792</td>\n",
       "      <td>259</td>\n",
       "      <td>Aars Apotek</td>\n",
       "      <td>6</td>\n",
       "      <td>Søndergade 34</td>\n",
       "      <td>9600.0</td>\n",
       "      <td>1905-01-01 00:00:00</td>\n",
       "      <td>NaN</td>\n",
       "      <td>1081.0</td>\n",
       "      <td>820.0</td>\n",
       "      <td>1081.0</td>\n",
       "    </tr>\n",
       "    <tr>\n",
       "      <td>793</td>\n",
       "      <td>106</td>\n",
       "      <td>Aarup Apotek</td>\n",
       "      <td>6</td>\n",
       "      <td>Bredgade 25</td>\n",
       "      <td>5560.0</td>\n",
       "      <td>01-01-1859 00:00</td>\n",
       "      <td>2008-12-31 00:00:00</td>\n",
       "      <td>1083.0</td>\n",
       "      <td>420.0</td>\n",
       "      <td>1083.0</td>\n",
       "    </tr>\n",
       "    <tr>\n",
       "      <td>794</td>\n",
       "      <td>189-1</td>\n",
       "      <td>Aarup Apotek</td>\n",
       "      <td>7</td>\n",
       "      <td>Bredgade 60</td>\n",
       "      <td>5560.0</td>\n",
       "      <td>2009-01-01 00:00:00</td>\n",
       "      <td>NaN</td>\n",
       "      <td>1083.0</td>\n",
       "      <td>420.0</td>\n",
       "      <td>1083.0</td>\n",
       "    </tr>\n",
       "  </tbody>\n",
       "</table>\n",
       "<p>713 rows × 10 columns</p>\n",
       "</div>"
      ],
      "text/plain": [
       "    ApotekNr                  Navn  TypeID                  Adresse  PostNr  \\\n",
       "0        359    Albertslund Apotek       6               Bytorvet 5  2620.0   \n",
       "1      346-1        Allerød Apotek       7    Allerød Stationsvej 9  3450.0   \n",
       "2      082-1        Allinge Apotek       7             Kirkegade 13  3770.0   \n",
       "3        175        Allinge Apotek       6             Kirkegade 13  3770.0   \n",
       "4      243-1  Amager Strand Apotek       7         Strandlodsvej 41  2300.0   \n",
       "..       ...                   ...     ...                      ...     ...   \n",
       "790      331    Aarhus Viby Apotek       6  Viby Ringvej 10, ST. 26  8260.0   \n",
       "791      337  Aarhus Åbyhøj Apotek       6              Haslevej 17  8230.0   \n",
       "792      259           Aars Apotek       6            Søndergade 34  9600.0   \n",
       "793      106          Aarup Apotek       6              Bredgade 25  5560.0   \n",
       "794    189-1          Aarup Apotek       7              Bredgade 60  5560.0   \n",
       "\n",
       "               Startdato             Slutdato     amt  Kommune  Region  \n",
       "0    1966-01-01 00:00:00                  NaN  1084.0    165.0  1084.0  \n",
       "1                    NaN                  NaN  1084.0    201.0  1084.0  \n",
       "2    2016-05-01 00:00:00                  NaN  1084.0    400.0  1084.0  \n",
       "3       01-01-1898 00:00  2016-05-01 00:00:00  1084.0    400.0  1084.0  \n",
       "4    2015-09-21 00:00:00                  NaN  1084.0    101.0  1084.0  \n",
       "..                   ...                  ...     ...      ...     ...  \n",
       "790  1933-01-01 00:00:00                  NaN  1082.0    751.0  1082.0  \n",
       "791  1936-01-01 00:00:00                  NaN  1082.0    751.0  1082.0  \n",
       "792  1905-01-01 00:00:00                  NaN  1081.0    820.0  1081.0  \n",
       "793     01-01-1859 00:00  2008-12-31 00:00:00  1083.0    420.0  1083.0  \n",
       "794  2009-01-01 00:00:00                  NaN  1083.0    420.0  1083.0  \n",
       "\n",
       "[713 rows x 10 columns]"
      ]
     },
     "execution_count": 31,
     "metadata": {},
     "output_type": "execute_result"
    }
   ],
   "source": [
    "exceldata = pd.read_excel(r'C:\\Users\\nickl\\OneDrive\\Specialet\\Data\\APOTEK_20200109.xlsx')\n",
    "exceldata = exceldata.dropna(subset=['Adresse', 'PostNr'])\n",
    "exceldata\n",
    "print(exceldata)"
   ]
  },
  {
   "cell_type": "code",
   "execution_count": 46,
   "metadata": {},
   "outputs": [
    {
     "data": {
      "text/plain": [
       "list"
      ]
     },
     "execution_count": 46,
     "metadata": {},
     "output_type": "execute_result"
    }
   ],
   "source": [
    "exceldata_adress = exceldata[\"Adresse\"]\n",
    "exceldata_postal = exceldata[\"PostNr\"].apply(int)\n",
    "exceldata[\"Adresse_v2\"] = exceldata[\"Adresse\"] + ', ' + exceldata_postal.astype(str) + ' Denmark'\n",
    "\n",
    "\n",
    "exceldata_addres_list = list(exceldata[\"Adresse_v2\"])\n",
    "type(exceldata_addres_list)"
   ]
  },
  {
   "cell_type": "markdown",
   "metadata": {},
   "source": [
    "Geocoding\n"
   ]
  },
  {
   "cell_type": "code",
   "execution_count": 51,
   "metadata": {},
   "outputs": [
    {
     "name": "stdout",
     "output_type": "stream",
     "text": [
      "<class 'str'>\n"
     ]
    },
    {
     "data": {
      "text/html": [
       "<div>\n",
       "<style scoped>\n",
       "    .dataframe tbody tr th:only-of-type {\n",
       "        vertical-align: middle;\n",
       "    }\n",
       "\n",
       "    .dataframe tbody tr th {\n",
       "        vertical-align: top;\n",
       "    }\n",
       "\n",
       "    .dataframe thead th {\n",
       "        text-align: right;\n",
       "    }\n",
       "</style>\n",
       "<table border=\"1\" class=\"dataframe\">\n",
       "  <thead>\n",
       "    <tr style=\"text-align: right;\">\n",
       "      <th></th>\n",
       "      <th>geometry</th>\n",
       "      <th>address</th>\n",
       "    </tr>\n",
       "  </thead>\n",
       "  <tbody>\n",
       "    <tr>\n",
       "      <td>0</td>\n",
       "      <td>POINT (10.20717 56.15792)</td>\n",
       "      <td>Immervad 2, 8000 Århus C, Denmark</td>\n",
       "    </tr>\n",
       "  </tbody>\n",
       "</table>\n",
       "</div>"
      ],
      "text/plain": [
       "                    geometry                            address\n",
       "0  POINT (10.20717 56.15792)  Immervad 2, 8000 Århus C, Denmark"
      ]
     },
     "execution_count": 51,
     "metadata": {},
     "output_type": "execute_result"
    }
   ],
   "source": [
    "print(type(exceldata_addres_list[0]))\n",
    "\n",
    "df = gpd.tools.geocode(exceldata_addres_list[700])\n",
    "df"
   ]
  },
  {
   "cell_type": "code",
   "execution_count": null,
   "metadata": {},
   "outputs": [],
   "source": []
  }
 ],
 "metadata": {
  "kernelspec": {
   "display_name": "Python 3",
   "language": "python",
   "name": "python3"
  },
  "language_info": {
   "codemirror_mode": {
    "name": "ipython",
    "version": 3
   },
   "file_extension": ".py",
   "mimetype": "text/x-python",
   "name": "python",
   "nbconvert_exporter": "python",
   "pygments_lexer": "ipython3",
   "version": "3.7.4"
  }
 },
 "nbformat": 4,
 "nbformat_minor": 4
}