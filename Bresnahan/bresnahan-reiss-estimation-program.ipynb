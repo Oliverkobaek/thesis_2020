{
 "cells": [
  {
   "cell_type": "markdown",
   "metadata": {},
   "source": [
    "# Replicate Bresnahan and Reiss 1991\n",
    "\n",
    "In this notebook, we will be replicating a classic paper from Industrial Organization: Bresnahan and Reiss (1991) \"Entry and Competition in Concentrated Markets.\" The paper can be downloaded here: http://people.hss.caltech.edu/~mshum/gradio/papers/bresreiss_jpe.pdf\n",
    "\n",
    "The data is available on the class GitHub page.\n",
    "\n",
    "## Introduction\n",
    "\n",
    "The abstract of the paper is this:\n",
    "\n",
    "> This paper proposes an empirical framework for measuring the effects of entry in concentrated markets. Building on models of entry in atomistically competitive markets, we show how the number of producers in an oligopolistic market varies with changes in demand and market competition. These analytical results structure our empirical analysis of competition in five retail and professional industries. Using data on geographically isolated monopolies, duopolies, and oligopolies, we study the relationship between the number of firms in a market, market size, and competition. Our empirical results suggest that competitive conduct changes quickly as the number of incumbents increases. In markets with five or fewer incumbents, almost all variation in competitive conduct occurs with the entry of the second or third firm. Surprisingly, once the market has between three and five firms, the next entrant has little effect on competitive conduct.\n"
   ]
  },
  {
   "cell_type": "markdown",
   "metadata": {},
   "source": [
    "## Description of the Data\n",
    "\n",
    "For a description of the data, see Table 3 of the paper and its accompanying description.\n",
    "\n",
    "Each observation is a \"market.\" These are combinations of towns and industries, e.g. the tire dealer market in town \"A\". From p. 985,\n",
    "\n",
    "> Our sample contains 202 isolated local markets. A typical market\n",
    "in our sample is a county seat in the western United States. These county seats are separated from other towns in the county. Because most of the local population resides in or near the central town, its population provides a reasonable first approximation to $S(Y)$. \n",
    ">\n",
    "> ...\n",
    ">\n",
    "> We selected our sample of markets and industries using criteria developed in our earlier work (see Bresnahan and Reiss 1988, 1990). Briefly, we located towns or small cities in the continental United States that were at least 20 miles from the nearest town of 1,000 people or more. We elimi- nated towns that were near large metropolitan areas or were part of a cluster of towns. Our specific criteria exclude, for example, towns within 100 miles of a city of 100,000. We believe, a priori, that these selection criteria ensure that we can identify all relevant competitors.\n",
    ">\n",
    "> ...\n",
    "> \n",
    "> We limited our study to industries or occupations in which we could identify all sellers of a narrowly defined product or service. We did not consider grocery and clothing stores, for example, because they sell a range of products.\n",
    "\n",
    "The data included on the GitHub repo has 202 rows, including the following variables:\n",
    "\n",
    "  - `ID`: The unique ID associated with the represented market.\n",
    "  - `TIRE`: The number of incumbent \"tire dealer\" firms in the market\n",
    "  - `TPOP`: Town population.\n",
    "  - `NGRW`: Negative TPOP growth. This represents the negative growth in town population from 1970 to 1980. \n",
    "  - `PGRW`: Positive TPOP growth. Similar to `NGRW`. These growth terms capture entrants' asymmetric expectations about future market growth as well as lags in responses to past growth.\n",
    "  - `OCTY`: Commuters out of the city. There are commuters out of the county. It represents the Census Bureau's count of county residents who commute to work outside the county. (A negative calue of the coefficient $\\lambda_4$ suggest that commuters purchase good in nearby markets.)\n",
    "  - `OPOP`: Nearby Population. This includes population within 10 miles of the town. (This would increase demand.)\n",
    "  - `LANDV`: Value per acre of farm-land and buildings  (\\$1,000s)\n",
    "  - `ELD`: 65 years and older divided by the county population\n",
    "  - `FFRAC`: Fraction of land in farms\n",
    "  - `PINC`: Per capital income (\\$1,000's)\n",
    "  - `LNHDD`: Log of heating degree days\n",
    "\n",
    "Note: You can find additional variables used in the paper and their descriptions, along with summary statistics, in Table 2 on p. 991."
   ]
  },
  {
   "cell_type": "code",
   "execution_count": 277,
   "metadata": {},
   "outputs": [],
   "source": [
    "import pandas as pd\n",
    "import numpy as np\n",
    "from matplotlib import pyplot as plt\n",
    "%matplotlib inline\n",
    "import seaborn as sns\n",
    "import scipy.stats\n",
    "import scipy.optimize\n",
    "import numdifftools as nd\n",
    "from numdifftools import Jacobian, Hessian\n",
    "sns.set()"
   ]
  },
  {
   "cell_type": "code",
   "execution_count": 80,
   "metadata": {},
   "outputs": [],
   "source": [
    "pd.set_option('precision', 2)\n",
    "pd.set_option('display.float_format', lambda x: '%.2f' % x)"
   ]
  },
  {
   "cell_type": "code",
   "execution_count": 13,
   "metadata": {},
   "outputs": [],
   "source": [
    "filename = 'BresnahanAndReiss1991_DATA.csv'\n",
    "df = pd.read_csv(filename)"
   ]
  },
  {
   "cell_type": "code",
   "execution_count": 14,
   "metadata": {},
   "outputs": [],
   "source": [
    "#Z = np.c_[df.ELD, df.PINC, df.LNHDD, df.FFRAC]"
   ]
  },
  {
   "cell_type": "code",
   "execution_count": 5,
   "metadata": {},
   "outputs": [
    {
     "data": {
      "text/plain": [
       "ID         int64\n",
       "TIRE       int64\n",
       "TPOP     float64\n",
       "NGRW     float64\n",
       "PGRW     float64\n",
       "OCTY     float64\n",
       "OPOP     float64\n",
       "LANDV    float64\n",
       "ELD      float64\n",
       "FFRAC    float64\n",
       "PINC     float64\n",
       "LNHDD    float64\n",
       "dtype: object"
      ]
     },
     "execution_count": 5,
     "metadata": {},
     "output_type": "execute_result"
    }
   ],
   "source": [
    "df.dtypes"
   ]
  },
  {
   "cell_type": "markdown",
   "metadata": {},
   "source": [
    "**Figure 2**"
   ]
  },
  {
   "cell_type": "code",
   "execution_count": 6,
   "metadata": {},
   "outputs": [
    {
     "data": {
      "image/png": "[encoded data removed]",
      "text/plain": [
       "<Figure size 432x288 with 1 Axes>"
      ]
     },
     "metadata": {},
     "output_type": "display_data"
    }
   ],
   "source": [
    "a = pd.cut(df.TPOP, np.r_[np.linspace(0,7.5, 16), [np.inf]])\n",
    "a = a.value_counts().sort_index()\n",
    "a.plot.bar(color='steelblue', alpha=.8)\n",
    "plt.ylabel('Number of Towns')\n",
    "plt.xlabel(\"Town Population Range (000's)\")\n",
    "plt.title('Fig. 2. --- Number of towns by town population');"
   ]
  },
  {
   "cell_type": "markdown",
   "metadata": {},
   "source": [
    "**Table 2**\n",
    "\n",
    "Market counts by industry and number of incumbents (shown for tire dealers only)"
   ]
  },
  {
   "cell_type": "code",
   "execution_count": 7,
   "metadata": {},
   "outputs": [
    {
     "data": {
      "text/html": [
       "<div>\n",
       "<style scoped>\n",
       "    .dataframe tbody tr th:only-of-type {\n",
       "        vertical-align: middle;\n",
       "    }\n",
       "\n",
       "    .dataframe tbody tr th {\n",
       "        vertical-align: top;\n",
       "    }\n",
       "\n",
       "    .dataframe thead th {\n",
       "        text-align: right;\n",
       "    }\n",
       "</style>\n",
       "<table border=\"1\" class=\"dataframe\">\n",
       "  <thead>\n",
       "    <tr style=\"text-align: right;\">\n",
       "      <th></th>\n",
       "      <th>[-inf, 1.0)</th>\n",
       "      <th>[1.0, 2.0)</th>\n",
       "      <th>[2.0, 3.0)</th>\n",
       "      <th>[3.0, 4.0)</th>\n",
       "      <th>[4.0, 5.0)</th>\n",
       "      <th>[5.0, 6.0)</th>\n",
       "      <th>[6.0, 7.0)</th>\n",
       "      <th>[7.0, inf)</th>\n",
       "    </tr>\n",
       "  </thead>\n",
       "  <tbody>\n",
       "    <tr>\n",
       "      <th>TIRE</th>\n",
       "      <td>45</td>\n",
       "      <td>39</td>\n",
       "      <td>39</td>\n",
       "      <td>24</td>\n",
       "      <td>13</td>\n",
       "      <td>15</td>\n",
       "      <td>6</td>\n",
       "      <td>21</td>\n",
       "    </tr>\n",
       "  </tbody>\n",
       "</table>\n",
       "</div>"
      ],
      "text/plain": [
       "      [-inf, 1.0)  [1.0, 2.0)  [2.0, 3.0)  [3.0, 4.0)  [4.0, 5.0)  [5.0, 6.0)  \\\n",
       "TIRE           45          39          39          24          13          15   \n",
       "\n",
       "      [6.0, 7.0)  [7.0, inf)  \n",
       "TIRE           6          21  "
      ]
     },
     "execution_count": 7,
     "metadata": {},
     "output_type": "execute_result"
    }
   ],
   "source": [
    "bins = [-np.inf, *range(1,8), np.inf]\n",
    "tire_bins = pd.cut(df.TIRE, bins, right=False)\n",
    "counts = tire_bins.value_counts().sort_index()\n",
    "pd.DataFrame(counts).T"
   ]
  },
  {
   "cell_type": "markdown",
   "metadata": {},
   "source": [
    "**Table 3**\n",
    "\n",
    "Again, this replication only contains some of the variables used."
   ]
  },
  {
   "cell_type": "code",
   "execution_count": 8,
   "metadata": {},
   "outputs": [
    {
     "data": {
      "text/html": [
       "<div>\n",
       "<style scoped>\n",
       "    .dataframe tbody tr th:only-of-type {\n",
       "        vertical-align: middle;\n",
       "    }\n",
       "\n",
       "    .dataframe tbody tr th {\n",
       "        vertical-align: top;\n",
       "    }\n",
       "\n",
       "    .dataframe thead th {\n",
       "        text-align: right;\n",
       "    }\n",
       "</style>\n",
       "<table border=\"1\" class=\"dataframe\">\n",
       "  <thead>\n",
       "    <tr style=\"text-align: right;\">\n",
       "      <th></th>\n",
       "      <th>mean</th>\n",
       "      <th>std</th>\n",
       "      <th>min</th>\n",
       "      <th>max</th>\n",
       "    </tr>\n",
       "  </thead>\n",
       "  <tbody>\n",
       "    <tr>\n",
       "      <th>TIRE</th>\n",
       "      <td>2.62</td>\n",
       "      <td>2.63</td>\n",
       "      <td>0.00</td>\n",
       "      <td>13.00</td>\n",
       "    </tr>\n",
       "    <tr>\n",
       "      <th>TPOP</th>\n",
       "      <td>3.74</td>\n",
       "      <td>5.35</td>\n",
       "      <td>0.12</td>\n",
       "      <td>45.09</td>\n",
       "    </tr>\n",
       "    <tr>\n",
       "      <th>NGRW</th>\n",
       "      <td>-0.06</td>\n",
       "      <td>0.14</td>\n",
       "      <td>-1.34</td>\n",
       "      <td>0.00</td>\n",
       "    </tr>\n",
       "    <tr>\n",
       "      <th>PGRW</th>\n",
       "      <td>0.49</td>\n",
       "      <td>1.05</td>\n",
       "      <td>0.00</td>\n",
       "      <td>7.23</td>\n",
       "    </tr>\n",
       "    <tr>\n",
       "      <th>OCTY</th>\n",
       "      <td>0.32</td>\n",
       "      <td>0.69</td>\n",
       "      <td>0.00</td>\n",
       "      <td>8.39</td>\n",
       "    </tr>\n",
       "    <tr>\n",
       "      <th>OPOP</th>\n",
       "      <td>0.41</td>\n",
       "      <td>0.74</td>\n",
       "      <td>0.01</td>\n",
       "      <td>5.84</td>\n",
       "    </tr>\n",
       "    <tr>\n",
       "      <th>LANDV</th>\n",
       "      <td>0.29</td>\n",
       "      <td>0.23</td>\n",
       "      <td>0.07</td>\n",
       "      <td>1.64</td>\n",
       "    </tr>\n",
       "    <tr>\n",
       "      <th>ELD</th>\n",
       "      <td>0.13</td>\n",
       "      <td>0.05</td>\n",
       "      <td>0.03</td>\n",
       "      <td>0.30</td>\n",
       "    </tr>\n",
       "    <tr>\n",
       "      <th>FFRAC</th>\n",
       "      <td>0.67</td>\n",
       "      <td>0.35</td>\n",
       "      <td>0.00</td>\n",
       "      <td>1.27</td>\n",
       "    </tr>\n",
       "    <tr>\n",
       "      <th>PINC</th>\n",
       "      <td>5.91</td>\n",
       "      <td>1.13</td>\n",
       "      <td>3.16</td>\n",
       "      <td>10.50</td>\n",
       "    </tr>\n",
       "    <tr>\n",
       "      <th>LNHDD</th>\n",
       "      <td>8.59</td>\n",
       "      <td>0.47</td>\n",
       "      <td>6.83</td>\n",
       "      <td>9.20</td>\n",
       "    </tr>\n",
       "  </tbody>\n",
       "</table>\n",
       "</div>"
      ],
      "text/plain": [
       "       mean  std   min   max\n",
       "TIRE   2.62 2.63  0.00 13.00\n",
       "TPOP   3.74 5.35  0.12 45.09\n",
       "NGRW  -0.06 0.14 -1.34  0.00\n",
       "PGRW   0.49 1.05  0.00  7.23\n",
       "OCTY   0.32 0.69  0.00  8.39\n",
       "OPOP   0.41 0.74  0.01  5.84\n",
       "LANDV  0.29 0.23  0.07  1.64\n",
       "ELD    0.13 0.05  0.03  0.30\n",
       "FFRAC  0.67 0.35  0.00  1.27\n",
       "PINC   5.91 1.13  3.16 10.50\n",
       "LNHDD  8.59 0.47  6.83  9.20"
      ]
     },
     "execution_count": 8,
     "metadata": {},
     "output_type": "execute_result"
    }
   ],
   "source": [
    "df.drop(['ID'], axis=1).aggregate(['mean', 'std', 'min', 'max']).T"
   ]
  },
  {
   "cell_type": "code",
   "execution_count": 9,
   "metadata": {},
   "outputs": [
    {
     "data": {
      "text/html": [
       "<div>\n",
       "<style scoped>\n",
       "    .dataframe tbody tr th:only-of-type {\n",
       "        vertical-align: middle;\n",
       "    }\n",
       "\n",
       "    .dataframe tbody tr th {\n",
       "        vertical-align: top;\n",
       "    }\n",
       "\n",
       "    .dataframe thead th {\n",
       "        text-align: right;\n",
       "    }\n",
       "</style>\n",
       "<table border=\"1\" class=\"dataframe\">\n",
       "  <thead>\n",
       "    <tr style=\"text-align: right;\">\n",
       "      <th></th>\n",
       "      <th>count</th>\n",
       "      <th>mean</th>\n",
       "      <th>std</th>\n",
       "      <th>min</th>\n",
       "      <th>25%</th>\n",
       "      <th>50%</th>\n",
       "      <th>75%</th>\n",
       "      <th>max</th>\n",
       "    </tr>\n",
       "  </thead>\n",
       "  <tbody>\n",
       "    <tr>\n",
       "      <th>TIRE</th>\n",
       "      <td>202.00</td>\n",
       "      <td>2.62</td>\n",
       "      <td>2.63</td>\n",
       "      <td>0.00</td>\n",
       "      <td>1.00</td>\n",
       "      <td>2.00</td>\n",
       "      <td>4.00</td>\n",
       "      <td>13.00</td>\n",
       "    </tr>\n",
       "    <tr>\n",
       "      <th>TPOP</th>\n",
       "      <td>202.00</td>\n",
       "      <td>3.74</td>\n",
       "      <td>5.35</td>\n",
       "      <td>0.12</td>\n",
       "      <td>1.05</td>\n",
       "      <td>2.10</td>\n",
       "      <td>4.34</td>\n",
       "      <td>45.09</td>\n",
       "    </tr>\n",
       "    <tr>\n",
       "      <th>NGRW</th>\n",
       "      <td>202.00</td>\n",
       "      <td>-0.06</td>\n",
       "      <td>0.14</td>\n",
       "      <td>-1.34</td>\n",
       "      <td>-0.04</td>\n",
       "      <td>0.00</td>\n",
       "      <td>0.00</td>\n",
       "      <td>0.00</td>\n",
       "    </tr>\n",
       "    <tr>\n",
       "      <th>PGRW</th>\n",
       "      <td>202.00</td>\n",
       "      <td>0.49</td>\n",
       "      <td>1.05</td>\n",
       "      <td>0.00</td>\n",
       "      <td>0.00</td>\n",
       "      <td>0.08</td>\n",
       "      <td>0.42</td>\n",
       "      <td>7.23</td>\n",
       "    </tr>\n",
       "    <tr>\n",
       "      <th>OCTY</th>\n",
       "      <td>202.00</td>\n",
       "      <td>0.32</td>\n",
       "      <td>0.69</td>\n",
       "      <td>0.00</td>\n",
       "      <td>0.08</td>\n",
       "      <td>0.16</td>\n",
       "      <td>0.32</td>\n",
       "      <td>8.39</td>\n",
       "    </tr>\n",
       "    <tr>\n",
       "      <th>OPOP</th>\n",
       "      <td>202.00</td>\n",
       "      <td>0.41</td>\n",
       "      <td>0.74</td>\n",
       "      <td>0.01</td>\n",
       "      <td>0.06</td>\n",
       "      <td>0.14</td>\n",
       "      <td>0.42</td>\n",
       "      <td>5.84</td>\n",
       "    </tr>\n",
       "    <tr>\n",
       "      <th>LANDV</th>\n",
       "      <td>202.00</td>\n",
       "      <td>0.29</td>\n",
       "      <td>0.23</td>\n",
       "      <td>0.07</td>\n",
       "      <td>0.14</td>\n",
       "      <td>0.24</td>\n",
       "      <td>0.35</td>\n",
       "      <td>1.64</td>\n",
       "    </tr>\n",
       "    <tr>\n",
       "      <th>ELD</th>\n",
       "      <td>202.00</td>\n",
       "      <td>0.13</td>\n",
       "      <td>0.05</td>\n",
       "      <td>0.03</td>\n",
       "      <td>0.10</td>\n",
       "      <td>0.13</td>\n",
       "      <td>0.16</td>\n",
       "      <td>0.30</td>\n",
       "    </tr>\n",
       "    <tr>\n",
       "      <th>FFRAC</th>\n",
       "      <td>202.00</td>\n",
       "      <td>0.67</td>\n",
       "      <td>0.35</td>\n",
       "      <td>0.00</td>\n",
       "      <td>0.32</td>\n",
       "      <td>0.83</td>\n",
       "      <td>0.94</td>\n",
       "      <td>1.27</td>\n",
       "    </tr>\n",
       "    <tr>\n",
       "      <th>PINC</th>\n",
       "      <td>202.00</td>\n",
       "      <td>5.91</td>\n",
       "      <td>1.13</td>\n",
       "      <td>3.16</td>\n",
       "      <td>5.17</td>\n",
       "      <td>5.87</td>\n",
       "      <td>6.68</td>\n",
       "      <td>10.50</td>\n",
       "    </tr>\n",
       "    <tr>\n",
       "      <th>LNHDD</th>\n",
       "      <td>202.00</td>\n",
       "      <td>8.59</td>\n",
       "      <td>0.47</td>\n",
       "      <td>6.83</td>\n",
       "      <td>8.45</td>\n",
       "      <td>8.70</td>\n",
       "      <td>8.93</td>\n",
       "      <td>9.20</td>\n",
       "    </tr>\n",
       "  </tbody>\n",
       "</table>\n",
       "</div>"
      ],
      "text/plain": [
       "       count  mean  std   min   25%  50%  75%   max\n",
       "TIRE  202.00  2.62 2.63  0.00  1.00 2.00 4.00 13.00\n",
       "TPOP  202.00  3.74 5.35  0.12  1.05 2.10 4.34 45.09\n",
       "NGRW  202.00 -0.06 0.14 -1.34 -0.04 0.00 0.00  0.00\n",
       "PGRW  202.00  0.49 1.05  0.00  0.00 0.08 0.42  7.23\n",
       "OCTY  202.00  0.32 0.69  0.00  0.08 0.16 0.32  8.39\n",
       "OPOP  202.00  0.41 0.74  0.01  0.06 0.14 0.42  5.84\n",
       "LANDV 202.00  0.29 0.23  0.07  0.14 0.24 0.35  1.64\n",
       "ELD   202.00  0.13 0.05  0.03  0.10 0.13 0.16  0.30\n",
       "FFRAC 202.00  0.67 0.35  0.00  0.32 0.83 0.94  1.27\n",
       "PINC  202.00  5.91 1.13  3.16  5.17 5.87 6.68 10.50\n",
       "LNHDD 202.00  8.59 0.47  6.83  8.45 8.70 8.93  9.20"
      ]
     },
     "execution_count": 9,
     "metadata": {},
     "output_type": "execute_result"
    }
   ],
   "source": [
    "df.drop(['ID'], axis=1).describe().T"
   ]
  },
  {
   "cell_type": "markdown",
   "metadata": {},
   "source": [
    "## Model Description\n",
    "\n",
    "Following the structure of equation (4), we assume that \n",
    "\n",
    "$$\n",
    "\\Pi_N = \\bar \\Pi_N + \\epsilon = S(Y, \\lambda) V_N(Z, W, \\alpha, \\beta) - F_N(W, \\gamma) + \\epsilon, \\tag{8}\n",
    "$$\n",
    "\n",
    "where $\\lambda$, $\\alpha$, $\\beta$, and $\\gamma$ represent profit function parameters, $Y$ describes market size, $Z$ and $W$ shift per capita demand and costs, and the unobserved error term $\\epsilon$ summarizes profits that we do not observer. To simplify the estimation procedure, we assume that $\\epsilon$ has a standard normal distribution that is independently distributed across markets and is independent of our observables ($\\epsilon \\sim \\mathcal N(0,1)$). We also assume that $\\epsilon$ has zero mean and a constant variance and that each firm within a market has the same profit error. This last assumption presumes that successive entrants' profits differ only through the determinist variables in (8). Notice that we use $\\hat \\Pi_N$ to represent this deterministic portion of profits.\n"
   ]
  },
  {
   "cell_type": "markdown",
   "metadata": {},
   "source": [
    "Now, how do we calculate the likelihood function of this model? Notice that since we don't observe $\\Pi$, we won't be able to calculate residuals to plug into our MLE procedure. In the case of estimating a linear regression equation with MLE, we calculated residuals and plugged those residuals into a PDF. In our case, we can't do that. Instead, we can only use our data to *put bounds on epsilon*. Consider what is implied when we observe no firms in a market. If there are no firms, then this implies that the per-firm profits of one firm would be less than zero, $\\Pi_1 < 0$. Let's use a little algebra to see what this implies about epsilon:\n",
    "\n",
    "\\begin{gather*}\n",
    "\\Pi_1 < 0 \\\\\n",
    "\\Pi_1 = \\bar \\Pi_1 + \\epsilon < 0 \\\\\n",
    "\\epsilon < -\\bar \\Pi_1 \n",
    "\\end{gather*}\n",
    "\n",
    "Now that we see what this implies about epsilon, since we have assumed a distribution for epsilon, we can calculate what the probability (likelihood) of this occuring. The probability of observing markets with no firms equals\n",
    "\n",
    "\\begin{align*}\n",
    "P(\\Pi_1 < 0) &=  P(\\epsilon < -\\bar \\Pi_1 ) \\\\\n",
    "  &= \\Phi(-\\bar \\Pi_1) \\\\\n",
    "  &= 1 - \\Phi(\\bar \\Pi_1)\n",
    "\\end{align*}\n",
    "\n",
    "where $\\Phi(\\cdot)$ is the cumulative normal distribution function, and $\\Pi_1 = \\bar \\Pi_1 + \\epsilon$ equals a monopolist's profits. "
   ]
  },
  {
   "cell_type": "markdown",
   "metadata": {},
   "source": [
    "If $\\bar \\Pi_1 \\geq \\bar \\Pi_2 \\geq ... \\geq \\bar \\Pi_5$, the probability of observing $N$ firms in equilibrium ( $N = 1,2,3, \\text{ or } 4$ ) equals\n",
    "\n",
    "$$\n",
    "P(\\Pi_N \\geq 0 \\text{ and } \\Pi_{N+1} < 0) = \\Phi(\\bar \\Pi_N) - \\Phi(\\bar \\Pi_{N+1}).\n",
    "$$\n",
    "\n",
    "The residual probability of observing five or more firms equals\n",
    "\n",
    "$$\n",
    "P(\\Pi_5 \\geq 0) = \\Phi(\\bar \\Pi_5).\n",
    "$$\n",
    "\n",
    "Market size is modeled as a linear function of population variables. Specifically, we assume that\n",
    "\n",
    "$$\n",
    "S(Y, \\lambda) = \\text{ TPOP } + \\lambda_1 \\text{ OPOP } + \\lambda_2 \\text{ PGRW } + \\lambda_3 \\text{ NGRW } + \\lambda_4 \\text{ OCTY }. \\tag 9\n",
    "$$\n",
    "\n",
    "We set the coefficient of town population is $S(Y, \\lambda)$ equal to one because $V_N$ contains a constant term. This normalization translates units of market demand into units of current town population.\n",
    "\n",
    "We model firms' per capita variable profits, $V_N$ , as a function of the number of firms, $N$, and economic variables, $X = [W, Z].$ We assume that this function has the linear form\n",
    "\n",
    "$$V_N = \\alpha_1 + \\mathbf X \\beta - \\sum_{n=2}^N \\alpha_n. \\tag{10}$$\n",
    "\n",
    "The term $V_N = \\alpha_1 + \\mathbf X \\beta - \\sum_{n=2}^N \\alpha_n$ equal the per capita variable profit of a monopolist. "
   ]
  },
  {
   "cell_type": "markdown",
   "metadata": {},
   "source": [
    "Because we do not have detailed information on costs, we assume\n",
    "\n",
    "$$ \n",
    "F_N = \\gamma_1 + \\gamma_L W_L + \\sum_{n=2}^N \\gamma_n.\n",
    "$$\n",
    "\n",
    "The term $F_1 = \\gamma_1 + \\gamma_L W_L$ equals a monopolist's fixed costs. We include the price of agricultural land in it to capital intermarket variation in land costs. The $\\gamma_n$ terms allow later entrants to have higher costs. When we observe $\\gamma_n$ greater than zero, we conclude that later entrants have higher fixed costs. We do not known, however, whether these higher costs mean that the entran is less efficient (i.e., the supply curve of entrants is upward sloping) or it faces entry barriers."
   ]
  },
  {
   "cell_type": "markdown",
   "metadata": {},
   "source": [
    "**What is the log-likelihood function?**\n",
    "\n",
    "The log-likelihood function $\\mathcal L$ is given by\n",
    "\n",
    "$$\n",
    "\\mathcal L = \\sum_{i=1}^I  \\left( \n",
    "\\mathbb 1\\{N_i = 0\\} \\log P \\left( \\Pi_1^i < 0 \\right) + \n",
    "\\mathbb 1\\{N_i \\geq 5\\} \\log P \\left(\\Pi_5^i \\geq 0\\right) +\n",
    "\\sum_{j=1}^4 \\mathbb 1\\{N_i=j\\}  \\log P \\left(\\Pi^i_{N_i} \\geq 0 \\text{ and } \\Pi^i_{N_i+1} < 0\\right) \n",
    "\\right), \n",
    "$$\n",
    "\n",
    "$$\n",
    "$$\n",
    "\n",
    "for observations $i=1,...,I$. Note that the values of $\\Pi^i_{N_i}$ depend on the characteristics of a particular market ($W_i$, $Y_i$, $Z_i$) and the number of incumbents $N_i$ in market $i$."
   ]
  },
  {
   "cell_type": "markdown",
   "metadata": {},
   "source": [
    "**Note:**\n",
    "\n",
    "  - *Definition of Indicator Function:* When I write something like $\\mathbb 1\\{N_i = 0\\}$, note that this is an [indicator function.](https://en.wikipedia.org/wiki/Indicator_function) This is a function that is equal to 1 when the condition $N_i = 0$ is true and is equal to zero otherwise."
   ]
  },
  {
   "cell_type": "markdown",
   "metadata": {},
   "source": [
    "# HW Questions Begin\n",
    "\n",
    "**2 points for each problem**"
   ]
  },
  {
   "cell_type": "markdown",
   "metadata": {},
   "source": [
    "#### Q1. Write a function for the log-likelihood function.\n",
    "\n",
    "Write the log-likelihood function as a function of the parameter vector `theta`. Define theta such that theta includes the parameters for $\\lambda$, $\\beta$, $\\alpha$, and $\\gamma$ in a single vector. They should be defined such that \n",
    "\n",
    "```python\n",
    "lam = theta[0:4]\n",
    "beta = theta[4:8]\n",
    "alpha = theta[8:13]\n",
    "gamma = theta[13:19]\n",
    "```\n",
    "\n",
    "Evaluate the negative log-likelihood function for the parameters `theta0`, given below. This is the parameter that we will use as an initial guess to give to the optimizer. \n",
    "```python\n",
    "theta0 = np.ones(19) * 0.1\n",
    "```\n",
    "\n",
    "**Hint:**\n",
    " - The negative log-likelihood function should give approximately `800001109.2156063` for `theta0`.\n",
    " - It's normal if you get a few warnings (e.g. `RuntimeWarning: divide by zero encountered in log`). In your code you will occasionaly get probabilities at zero or close to zero. This will create values of `-inf` occasionally. Whenever a `np.log(Phi)` is equal to `-inf`, change it to `-1e+08`. That is, change it to `-100000000`.\n",
    " - We are replicating this paper for \"Tire Dealers\" only. Thus, we will use the following variables. For $V$ we will use `ELD`, `PINC`, `LNHDD`, `FFRAC`. For $F$ we will use `LANDV`. For $S$, we will use `TPOP`, `OPOP`, `NGRW`, `PGRW`, `OCTY`."
   ]
  },
  {
   "cell_type": "code",
   "execution_count": 504,
   "metadata": {},
   "outputs": [],
   "source": [
    "#df = pd.read_csv(\"https://raw.githubusercontent.com/Oliverkobaek/thesis_2020/master/Bresnahan/Bresnahan_data_2.csv\")\n",
    "df = pd.read_csv(\"Bresnahan_data_full_inf.csv\")\n",
    "df=df.drop(['Unnamed: 0'], axis=1)"
   ]
  },
  {
   "cell_type": "code",
   "execution_count": 505,
   "metadata": {},
   "outputs": [],
   "source": [
    "# Fjerner København\n",
    "#\n",
    "# df = df[df['Kommune'] != 101]\n",
    "\n",
    "#df = df[(df['År'] != 2015) & (df['År'] !=  2016) & (df['År'] !=  2017) & (df['År'] !=  2018)]\n",
    "df= df[(df['År'] != 2008) & (df['År'] !=  2009) & (df['År'] !=  2010) & (df['År'] !=  2011)& (df['År'] !=  2012)& (df['År'] !=  2013)& (df['År'] !=  2014)]\n",
    "#df = df[(df['År'] == 2017)]"
   ]
  },
  {
   "cell_type": "code",
   "execution_count": 492,
   "metadata": {},
   "outputs": [],
   "source": [
    "#df = df[df['Kommune'] != 101]"
   ]
  },
  {
   "cell_type": "code",
   "execution_count": 506,
   "metadata": {},
   "outputs": [
    {
     "data": {
      "text/html": [
       "<div>\n",
       "<style scoped>\n",
       "    .dataframe tbody tr th:only-of-type {\n",
       "        vertical-align: middle;\n",
       "    }\n",
       "\n",
       "    .dataframe tbody tr th {\n",
       "        vertical-align: top;\n",
       "    }\n",
       "\n",
       "    .dataframe thead th {\n",
       "        text-align: right;\n",
       "    }\n",
       "</style>\n",
       "<table border=\"1\" class=\"dataframe\">\n",
       "  <thead>\n",
       "    <tr style=\"text-align: right;\">\n",
       "      <th></th>\n",
       "      <th>Kommune</th>\n",
       "      <th>GNS_OMS</th>\n",
       "      <th>GNS_MED_PROFIT</th>\n",
       "      <th>ALDER</th>\n",
       "      <th>d65</th>\n",
       "      <th>d17</th>\n",
       "      <th>samlet_ind</th>\n",
       "      <th>Besk</th>\n",
       "      <th>Besk1864</th>\n",
       "      <th>DK</th>\n",
       "      <th>Befolkning</th>\n",
       "      <th>markedsvaerdix</th>\n",
       "      <th>yderkom</th>\n",
       "      <th>antal_apo</th>\n",
       "      <th>År</th>\n",
       "    </tr>\n",
       "  </thead>\n",
       "  <tbody>\n",
       "    <tr>\n",
       "      <th>679</th>\n",
       "      <td>101</td>\n",
       "      <td>25170231.33</td>\n",
       "      <td>9069587.08</td>\n",
       "      <td>35.38</td>\n",
       "      <td>0.10</td>\n",
       "      <td>0.18</td>\n",
       "      <td>203077.10</td>\n",
       "      <td>0.54</td>\n",
       "      <td>0.71</td>\n",
       "      <td>0.76</td>\n",
       "      <td>591481</td>\n",
       "      <td>1768450.97</td>\n",
       "      <td>0</td>\n",
       "      <td>27</td>\n",
       "      <td>2015</td>\n",
       "    </tr>\n",
       "    <tr>\n",
       "      <th>680</th>\n",
       "      <td>147</td>\n",
       "      <td>28640665.74</td>\n",
       "      <td>10270420.42</td>\n",
       "      <td>38.84</td>\n",
       "      <td>0.17</td>\n",
       "      <td>0.17</td>\n",
       "      <td>230605.31</td>\n",
       "      <td>0.52</td>\n",
       "      <td>0.75</td>\n",
       "      <td>0.82</td>\n",
       "      <td>104481</td>\n",
       "      <td>2245134.86</td>\n",
       "      <td>0</td>\n",
       "      <td>5</td>\n",
       "      <td>2015</td>\n",
       "    </tr>\n",
       "    <tr>\n",
       "      <th>681</th>\n",
       "      <td>151</td>\n",
       "      <td>19894295.25</td>\n",
       "      <td>7154487.87</td>\n",
       "      <td>41.36</td>\n",
       "      <td>0.21</td>\n",
       "      <td>0.22</td>\n",
       "      <td>185774.19</td>\n",
       "      <td>0.46</td>\n",
       "      <td>0.74</td>\n",
       "      <td>0.85</td>\n",
       "      <td>48224</td>\n",
       "      <td>1652916.86</td>\n",
       "      <td>0</td>\n",
       "      <td>4</td>\n",
       "      <td>2015</td>\n",
       "    </tr>\n",
       "    <tr>\n",
       "      <th>682</th>\n",
       "      <td>153</td>\n",
       "      <td>19786422.40</td>\n",
       "      <td>7110191.66</td>\n",
       "      <td>40.83</td>\n",
       "      <td>0.19</td>\n",
       "      <td>0.21</td>\n",
       "      <td>162131.78</td>\n",
       "      <td>0.45</td>\n",
       "      <td>0.69</td>\n",
       "      <td>0.69</td>\n",
       "      <td>35322</td>\n",
       "      <td>1704673.21</td>\n",
       "      <td>0</td>\n",
       "      <td>3</td>\n",
       "      <td>2015</td>\n",
       "    </tr>\n",
       "    <tr>\n",
       "      <th>683</th>\n",
       "      <td>155</td>\n",
       "      <td>nan</td>\n",
       "      <td>nan</td>\n",
       "      <td>43.41</td>\n",
       "      <td>0.24</td>\n",
       "      <td>0.23</td>\n",
       "      <td>234501.33</td>\n",
       "      <td>0.48</td>\n",
       "      <td>0.80</td>\n",
       "      <td>0.92</td>\n",
       "      <td>14142</td>\n",
       "      <td>2232076.06</td>\n",
       "      <td>0</td>\n",
       "      <td>1</td>\n",
       "      <td>2015</td>\n",
       "    </tr>\n",
       "    <tr>\n",
       "      <th>...</th>\n",
       "      <td>...</td>\n",
       "      <td>...</td>\n",
       "      <td>...</td>\n",
       "      <td>...</td>\n",
       "      <td>...</td>\n",
       "      <td>...</td>\n",
       "      <td>...</td>\n",
       "      <td>...</td>\n",
       "      <td>...</td>\n",
       "      <td>...</td>\n",
       "      <td>...</td>\n",
       "      <td>...</td>\n",
       "      <td>...</td>\n",
       "      <td>...</td>\n",
       "      <td>...</td>\n",
       "    </tr>\n",
       "    <tr>\n",
       "      <th>1062</th>\n",
       "      <td>840</td>\n",
       "      <td>13778854.25</td>\n",
       "      <td>4758714.16</td>\n",
       "      <td>40.93</td>\n",
       "      <td>0.19</td>\n",
       "      <td>0.24</td>\n",
       "      <td>199586.40</td>\n",
       "      <td>0.52</td>\n",
       "      <td>0.82</td>\n",
       "      <td>0.94</td>\n",
       "      <td>29916</td>\n",
       "      <td>1154222.88</td>\n",
       "      <td>0</td>\n",
       "      <td>3</td>\n",
       "      <td>2018</td>\n",
       "    </tr>\n",
       "    <tr>\n",
       "      <th>1063</th>\n",
       "      <td>846</td>\n",
       "      <td>26189293.35</td>\n",
       "      <td>8895707.75</td>\n",
       "      <td>43.51</td>\n",
       "      <td>0.23</td>\n",
       "      <td>0.20</td>\n",
       "      <td>177052.88</td>\n",
       "      <td>0.49</td>\n",
       "      <td>0.76</td>\n",
       "      <td>0.92</td>\n",
       "      <td>42055</td>\n",
       "      <td>911495.17</td>\n",
       "      <td>0</td>\n",
       "      <td>3</td>\n",
       "      <td>2018</td>\n",
       "    </tr>\n",
       "    <tr>\n",
       "      <th>1064</th>\n",
       "      <td>849</td>\n",
       "      <td>18361416.52</td>\n",
       "      <td>6181027.67</td>\n",
       "      <td>43.69</td>\n",
       "      <td>0.24</td>\n",
       "      <td>0.20</td>\n",
       "      <td>166061.78</td>\n",
       "      <td>0.48</td>\n",
       "      <td>0.77</td>\n",
       "      <td>0.94</td>\n",
       "      <td>38460</td>\n",
       "      <td>962701.80</td>\n",
       "      <td>0</td>\n",
       "      <td>4</td>\n",
       "      <td>2018</td>\n",
       "    </tr>\n",
       "    <tr>\n",
       "      <th>1065</th>\n",
       "      <td>851</td>\n",
       "      <td>15804148.63</td>\n",
       "      <td>5390246.07</td>\n",
       "      <td>39.46</td>\n",
       "      <td>0.18</td>\n",
       "      <td>0.18</td>\n",
       "      <td>182117.68</td>\n",
       "      <td>0.49</td>\n",
       "      <td>0.72</td>\n",
       "      <td>0.89</td>\n",
       "      <td>215312</td>\n",
       "      <td>1263168.48</td>\n",
       "      <td>0</td>\n",
       "      <td>20</td>\n",
       "      <td>2018</td>\n",
       "    </tr>\n",
       "    <tr>\n",
       "      <th>1066</th>\n",
       "      <td>860</td>\n",
       "      <td>16358730.04</td>\n",
       "      <td>5576283.60</td>\n",
       "      <td>43.69</td>\n",
       "      <td>0.23</td>\n",
       "      <td>0.20</td>\n",
       "      <td>170647.52</td>\n",
       "      <td>0.48</td>\n",
       "      <td>0.76</td>\n",
       "      <td>0.92</td>\n",
       "      <td>64665</td>\n",
       "      <td>1131648.25</td>\n",
       "      <td>0</td>\n",
       "      <td>7</td>\n",
       "      <td>2018</td>\n",
       "    </tr>\n",
       "  </tbody>\n",
       "</table>\n",
       "<p>388 rows × 15 columns</p>\n",
       "</div>"
      ],
      "text/plain": [
       "      Kommune     GNS_OMS  GNS_MED_PROFIT  ALDER  d65  d17  samlet_ind  Besk  \\\n",
       "679       101 25170231.33      9069587.08  35.38 0.10 0.18   203077.10  0.54   \n",
       "680       147 28640665.74     10270420.42  38.84 0.17 0.17   230605.31  0.52   \n",
       "681       151 19894295.25      7154487.87  41.36 0.21 0.22   185774.19  0.46   \n",
       "682       153 19786422.40      7110191.66  40.83 0.19 0.21   162131.78  0.45   \n",
       "683       155         nan             nan  43.41 0.24 0.23   234501.33  0.48   \n",
       "...       ...         ...             ...    ...  ...  ...         ...   ...   \n",
       "1062      840 13778854.25      4758714.16  40.93 0.19 0.24   199586.40  0.52   \n",
       "1063      846 26189293.35      8895707.75  43.51 0.23 0.20   177052.88  0.49   \n",
       "1064      849 18361416.52      6181027.67  43.69 0.24 0.20   166061.78  0.48   \n",
       "1065      851 15804148.63      5390246.07  39.46 0.18 0.18   182117.68  0.49   \n",
       "1066      860 16358730.04      5576283.60  43.69 0.23 0.20   170647.52  0.48   \n",
       "\n",
       "      Besk1864   DK  Befolkning  markedsvaerdix  yderkom  antal_apo    År  \n",
       "679       0.71 0.76      591481      1768450.97        0         27  2015  \n",
       "680       0.75 0.82      104481      2245134.86        0          5  2015  \n",
       "681       0.74 0.85       48224      1652916.86        0          4  2015  \n",
       "682       0.69 0.69       35322      1704673.21        0          3  2015  \n",
       "683       0.80 0.92       14142      2232076.06        0          1  2015  \n",
       "...        ...  ...         ...             ...      ...        ...   ...  \n",
       "1062      0.82 0.94       29916      1154222.88        0          3  2018  \n",
       "1063      0.76 0.92       42055       911495.17        0          3  2018  \n",
       "1064      0.77 0.94       38460       962701.80        0          4  2018  \n",
       "1065      0.72 0.89      215312      1263168.48        0         20  2018  \n",
       "1066      0.76 0.92       64665      1131648.25        0          7  2018  \n",
       "\n",
       "[388 rows x 15 columns]"
      ]
     },
     "execution_count": 506,
     "metadata": {},
     "output_type": "execute_result"
    }
   ],
   "source": [
    "df"
   ]
  },
  {
   "cell_type": "code",
   "execution_count": 507,
   "metadata": {},
   "outputs": [],
   "source": [
    "def V(df, Ni, alpha=np.ones(5), beta=np.ones(5)):\n",
    "    \"\"\"Per-capita variable profit\n",
    "    \n",
    "    df: data\n",
    "    Ni: number of incumbents in market i\n",
    "    alpha: alpha parameters\n",
    "    beta: beta parameters\n",
    "    \"\"\"\n",
    "    n = np.min([5, Ni])\n",
    "#     n = Ni\n",
    "    a = 0\n",
    "    for i in range(1,n):\n",
    "        a = a + alpha[i]\n",
    "    \n",
    "    \n",
    "    #Z = np.c_[df.ELD, df.PINC, df.LNHDD, df.FFRAC]\n",
    "    Z = np.c_[df.d65, df.d17, np.log(df.samlet_ind), df.Besk1864, df.DK]# np.log()\n",
    "    # Don't use W in the V function for our replication\n",
    "    # W = df.LANDV\n",
    "    # X = np.c_[W, Z]\n",
    "\n",
    "    # X is an I x 4 numpy array, where I is the number of observations\n",
    "    X = np.c_[Z]\n",
    "    \n",
    "    \n",
    "    profit = alpha[0] + X @ beta - a\n",
    "    return profit\n",
    "\n",
    "def F(df, Ni, gamma=np.ones(6)):\n",
    "    n = np.min([5, Ni])\n",
    "#     n = Ni\n",
    "    g = 0\n",
    "    # gamma 2 through gamma 5 (indices 1 through 4)\n",
    "    for i in range(1,n):\n",
    "        g = g + gamma[i]\n",
    "\n",
    "    fixed_cost = gamma[0] + gamma[5]*np.log(df.markedsvaerdix)+ g #df.ALDER + g    #* df.LANDV + g\n",
    "    return fixed_cost\n",
    "\n",
    "#def S_func(df, lam):\n",
    "def S_func(df, lam):\n",
    "    #S = (df.TPOP + lam[0] * df.OPOP + lam[1] * df.NGRW + \n",
    "    #     lam[2] * df.PGRW + lam[3] * df.OCTY)\n",
    "    S =  lam * np.log(df.Befolkning) #np.log()\n",
    "    return S\n",
    "\n",
    "#def neg_log_lik(theta=np.ones(19), market='TIRE', df=None):\n",
    "def neg_log_lik(theta=np.ones(17), market='antal_apo', df=df):#, df=None):\n",
    "    lam = theta[0]\n",
    "    beta = theta[1:6]\n",
    "    alpha = theta[6:11]\n",
    "    gamma = theta[11:17]\n",
    "    \n",
    "    Phi = scipy.stats.norm.cdf\n",
    "    \n",
    "    S = S_func(df, lam)\n",
    "#     S = (df.TPOP + lam[0] * df.OPOP + lam[1] * df.NGRW + \n",
    "#          lam[2] * df.PGRW + lam[3] * df.OCTY)\n",
    "    \n",
    "    P = [0] * 6\n",
    "    Pi_bar = lambda N: S * V(df, N, alpha=alpha, beta=beta) - F(df, N, gamma=gamma)\n",
    "    P[0] = np.log( 1 - Phi(Pi_bar(0)) )\n",
    "    P[5] = np.log( Phi(Pi_bar(5)) )\n",
    "    for i in range(1,5):\n",
    "        P[i] = np.log( Phi(Pi_bar(i)) - Phi(Pi_bar(i+1)) )\n",
    "\n",
    "        \n",
    "    for i in range(6):\n",
    "        P[i][P[i] == -np.inf] = -100000000\n",
    "    log_lik = 0 \n",
    "    for i in range(5):\n",
    "        log_lik = log_lik + np.sum(P[i] * (df[market] == i))\n",
    "    log_lik = log_lik + np.sum(P[5] * (df[market] >= 5))\n",
    "    return -log_lik\n",
    "\n",
    "\n",
    "def theta_to_param_dict(theta):\n",
    "#     lam = theta[0:4]\n",
    "#     beta = theta[4:8]\n",
    "#     alpha = theta[8:13]\n",
    "#     gamma = theta[13:19]\n",
    "    lam = theta[0]\n",
    "    beta = theta[1:6]\n",
    "    alpha = theta[6:11]\n",
    "    gamma = theta[11:17]\n",
    "    d = {'lam': lam, 'beta': beta, 'alpha': alpha, 'gamma': gamma, 'theta': theta}\n",
    "    return d"
   ]
  },
  {
   "cell_type": "code",
   "execution_count": 508,
   "metadata": {},
   "outputs": [
    {
     "data": {
      "text/plain": [
       "837.2664753676024"
      ]
     },
     "execution_count": 508,
     "metadata": {},
     "output_type": "execute_result"
    }
   ],
   "source": [
    "theta0 = np.ones(17) * 0.1\n",
    "neg_log_lik(df=df, theta=theta0)"
   ]
  },
  {
   "cell_type": "markdown",
   "metadata": {},
   "source": [
    "#### Q2. Compute the Maximum Likelihood Estimate\n",
    "\n",
    "Compute the maximum likelihood estimate of the model. Be sure to use lower bounds on the parameter values for $\\alpha$ and $\\gamma$ (not including $\\gamma_L$). That is, let $\\alpha_i \\geq 0$, i=1,...,5 and let $\\gamma_i \\geq 0$ for $i=1,..., 5$. Note, however, that $\\gamma_L$ is not bounded. For the initial guess, use `theta0` defined above. (It is a vector of the values `0.1`.)\n",
    "\n",
    "Hint: The value of the negative log-likelihood function at the optimum should be approximately `263.0912047584611`."
   ]
  },
  {
   "cell_type": "code",
   "execution_count": 517,
   "metadata": {},
   "outputs": [
    {
     "name": "stderr",
     "output_type": "stream",
     "text": [
      "C:\\Users\\Oliver\\Anaconda3\\lib\\site-packages\\ipykernel_launcher.py:62: RuntimeWarning: divide by zero encountered in log\n",
      "C:\\Users\\Oliver\\Anaconda3\\lib\\site-packages\\ipykernel_launcher.py:65: RuntimeWarning: divide by zero encountered in log\n"
     ]
    },
    {
     "name": "stdout",
     "output_type": "stream",
     "text": [
      "Wall time: 2min 41s\n"
     ]
    }
   ],
   "source": [
    "%%time\n",
    "ba = [-np.inf] * 6\n",
    "bb = [0] * 11\n",
    "lower_bounds = [*ba, *bb]\n",
    "upper_bounds = [np.inf] * 17\n",
    "bounds = list(zip(lower_bounds, upper_bounds))\n",
    "\n",
    "theta0 = np.ones(17) * 0.1\n",
    "nll = lambda theta: neg_log_lik(theta=theta, df=df)\n",
    "out = scipy.optimize.minimize(nll, theta0, bounds=bounds, method='Nelder-Mead',\n",
    "    options={'disp': False, 'maxiter': 50000}\n",
    "    )"
   ]
  },
  {
   "cell_type": "code",
   "execution_count": 518,
   "metadata": {},
   "outputs": [
    {
     "data": {
      "text/plain": [
       " final_simplex: (array([[ 0.45061526,  0.90048664, -0.20276836,  0.66000003, -0.18180621,\n",
       "         0.0440743 ,  0.17540437,  1.48888946,  0.77470635,  0.19122729,\n",
       "        -0.01932427, -1.53290229,  0.67193707, -2.1591339 , -0.03671297,\n",
       "         0.79907165,  2.19781809],\n",
       "       [ 0.45060193,  0.90055312, -0.2027578 ,  0.66001487, -0.18179039,\n",
       "         0.04403758,  0.17544685,  1.4889117 ,  0.77473665,  0.19123599,\n",
       "        -0.01932351, -1.53288383,  0.6719364 , -2.15916449, -0.0367231 ,\n",
       "         0.79905859,  2.19781486],\n",
       "       [ 0.45061181,  0.90047193, -0.20273994,  0.66000135, -0.18181207,\n",
       "         0.04405915,  0.17540827,  1.48888661,  0.77470483,  0.19122933,\n",
       "        -0.01931944, -1.53292315,  0.67193399, -2.15909858, -0.03671509,\n",
       "         0.79904948,  2.19780469],\n",
       "       [ 0.45060444,  0.90051675, -0.20275448,  0.66001477, -0.18181351,\n",
       "         0.04405714,  0.1754312 ,  1.48889519,  0.77472961,  0.19123398,\n",
       "        -0.01932108, -1.53289722,  0.67193288, -2.15914605, -0.03672093,\n",
       "         0.79905884,  2.19782611],\n",
       "       [ 0.45061058,  0.90050862, -0.20276018,  0.66000418, -0.18179573,\n",
       "         0.04405604,  0.17541795,  1.48890033,  0.77471543,  0.19123122,\n",
       "        -0.01932316, -1.53290233,  0.67193821, -2.15913902, -0.03671625,\n",
       "         0.79906404,  2.19781146],\n",
       "       [ 0.45061125,  0.900451  , -0.20272627,  0.66000164, -0.18182397,\n",
       "         0.04406147,  0.17540349,  1.48887726,  0.77469976,  0.19122803,\n",
       "        -0.01931899, -1.53293062,  0.67193002, -2.15907336, -0.03671533,\n",
       "         0.79903913,  2.19780293],\n",
       "       [ 0.45061305,  0.90043338, -0.20273604,  0.65999977, -0.18183694,\n",
       "         0.04408103,  0.17539389,  1.48886138,  0.77469615,  0.1912272 ,\n",
       "        -0.01931802, -1.53292333,  0.67192631, -2.1590671 , -0.03671299,\n",
       "         0.79904525,  2.19780658],\n",
       "       [ 0.45060268,  0.90056338, -0.2027672 ,  0.66001782, -0.18178725,\n",
       "         0.04403953,  0.17544639,  1.48892074,  0.77474173,  0.19123672,\n",
       "        -0.01932412, -1.5328869 ,  0.67194065, -2.1591894 , -0.03672318,\n",
       "         0.79906909,  2.19782878],\n",
       "       [ 0.45059886,  0.90055752, -0.20275182,  0.66002309, -0.18180212,\n",
       "         0.04403717,  0.17545325,  1.48891453,  0.77474418,  0.19123591,\n",
       "        -0.0193227 , -1.53288723,  0.67193484, -2.15917937, -0.03672645,\n",
       "         0.79905834,  2.1978333 ],\n",
       "       [ 0.45060494,  0.90053264, -0.20276175,  0.66001158, -0.18180293,\n",
       "         0.04405332,  0.17543734,  1.48889889,  0.77472852,  0.19123195,\n",
       "        -0.01932416, -1.53288053,  0.67193314, -2.15915577, -0.03672087,\n",
       "         0.79906221,  2.19781915],\n",
       "       [ 0.45060891,  0.90050038, -0.20277443,  0.66000476, -0.18181438,\n",
       "         0.04407995,  0.17541707,  1.48887495,  0.77471757,  0.19123136,\n",
       "        -0.01932316, -1.53287189,  0.6719287 , -2.15913268, -0.03671571,\n",
       "         0.79906846,  2.19781244],\n",
       "       [ 0.45061807,  0.90046335, -0.20277526,  0.659995  , -0.18181717,\n",
       "         0.04409252,  0.17539275,  1.48887105,  0.77469851,  0.19122549,\n",
       "        -0.01932478, -1.53289525,  0.67193298, -2.15911324, -0.03670973,\n",
       "         0.79907325,  2.19781377],\n",
       "       [ 0.45061746,  0.90042755, -0.20275233,  0.65999666, -0.18182967,\n",
       "         0.0440932 ,  0.17537808,  1.48886357,  0.77469115,  0.1912263 ,\n",
       "        -0.01932293, -1.53292135,  0.67193104, -2.15907554, -0.03670935,\n",
       "         0.79905875,  2.19781311],\n",
       "       [ 0.45061017,  0.90045267, -0.20273212,  0.66000137, -0.18181769,\n",
       "         0.04406594,  0.17539735,  1.48887533,  0.77469705,  0.1912291 ,\n",
       "        -0.01931936, -1.53291584,  0.67192859, -2.15908012, -0.03671469,\n",
       "         0.79904501,  2.19779858],\n",
       "       [ 0.45060443,  0.90055638, -0.20277128,  0.6600141 , -0.18177642,\n",
       "         0.04404312,  0.17543284,  1.48892159,  0.77473269,  0.19123642,\n",
       "        -0.01932569, -1.5328814 ,  0.67194194, -2.15918881, -0.03672074,\n",
       "         0.79907488,  2.19782157],\n",
       "       [ 0.45061015,  0.90048061, -0.20274118,  0.6600111 , -0.1818075 ,\n",
       "         0.04405685,  0.17540194,  1.48890456,  0.77471304,  0.19123242,\n",
       "        -0.01932157, -1.53293711,  0.67194068, -2.15912863, -0.03671683,\n",
       "         0.79905897,  2.19783002],\n",
       "       [ 0.45059621,  0.9005222 , -0.20273791,  0.66001922, -0.18182201,\n",
       "         0.04404805,  0.17544752,  1.48888215,  0.77473704,  0.19123757,\n",
       "        -0.01931853, -1.53288061,  0.67192293, -2.15911974, -0.03672531,\n",
       "         0.7990387 ,  2.19780935],\n",
       "       [ 0.45060046,  0.90054534, -0.20275611,  0.66001724, -0.18179509,\n",
       "         0.04404246,  0.17544171,  1.48890692,  0.77473714,  0.19123693,\n",
       "        -0.0193251 , -1.53288207,  0.6719347 , -2.15915642, -0.03672324,\n",
       "         0.79905677,  2.19781799]]), array([402.710194  , 402.710194  , 402.71019401, 402.71019401,\n",
       "       402.71019401, 402.71019401, 402.71019401, 402.71019401,\n",
       "       402.71019401, 402.71019401, 402.71019401, 402.71019401,\n",
       "       402.71019401, 402.71019402, 402.71019402, 402.71019402,\n",
       "       402.71019402, 402.71019403]))\n",
       "           fun: 402.71019400355095\n",
       "       message: 'Optimization terminated successfully.'\n",
       "          nfev: 9528\n",
       "           nit: 7387\n",
       "        status: 0\n",
       "       success: True\n",
       "             x: array([ 0.45061526,  0.90048664, -0.20276836,  0.66000003, -0.18180621,\n",
       "        0.0440743 ,  0.17540437,  1.48888946,  0.77470635,  0.19122729,\n",
       "       -0.01932427, -1.53290229,  0.67193707, -2.1591339 , -0.03671297,\n",
       "        0.79907165,  2.19781809])"
      ]
     },
     "execution_count": 518,
     "metadata": {},
     "output_type": "execute_result"
    }
   ],
   "source": [
    "out"
   ]
  },
  {
   "cell_type": "code",
   "execution_count": 519,
   "metadata": {},
   "outputs": [
    {
     "name": "stderr",
     "output_type": "stream",
     "text": [
      "C:\\Users\\Oliver\\Anaconda3\\lib\\site-packages\\ipykernel_launcher.py:62: RuntimeWarning: divide by zero encountered in log\n",
      "C:\\Users\\Oliver\\Anaconda3\\lib\\site-packages\\ipykernel_launcher.py:65: RuntimeWarning: divide by zero encountered in log\n",
      "C:\\Users\\Oliver\\Anaconda3\\lib\\site-packages\\ipykernel_launcher.py:63: RuntimeWarning: divide by zero encountered in log\n",
      "C:\\Users\\Oliver\\Anaconda3\\lib\\site-packages\\ipykernel_launcher.py:65: RuntimeWarning: invalid value encountered in log\n",
      "C:\\Users\\Oliver\\Anaconda3\\lib\\site-packages\\ipykernel_launcher.py:3: RuntimeWarning: invalid value encountered in sqrt\n",
      "  This is separate from the ipykernel package so we can avoid doing imports until\n"
     ]
    }
   ],
   "source": [
    "Hfun = nd.Hessian(nll, full_output=True)\n",
    "hessian_nd, info= Hfun(out['x'])\n",
    "se = np.sqrt(np.diag(np.linalg.inv(hessian_nd)))\n",
    "results = pd.DataFrame({'parameters':out['x'],'std err':se})\n",
    "results.index=['Lambda','beta_1','beta_2','beta_3','beta_4','beta_5','alpha_1','alpha_2','alpha_3','alpha_4','alpha_5','gamma_1','gamma_2','gamma_3','gamma_4','gamma_5','gamma6']   \n"
   ]
  },
  {
   "cell_type": "code",
   "execution_count": 520,
   "metadata": {},
   "outputs": [
    {
     "data": {
      "text/html": [
       "<div>\n",
       "<style scoped>\n",
       "    .dataframe tbody tr th:only-of-type {\n",
       "        vertical-align: middle;\n",
       "    }\n",
       "\n",
       "    .dataframe tbody tr th {\n",
       "        vertical-align: top;\n",
       "    }\n",
       "\n",
       "    .dataframe thead th {\n",
       "        text-align: right;\n",
       "    }\n",
       "</style>\n",
       "<table border=\"1\" class=\"dataframe\">\n",
       "  <thead>\n",
       "    <tr style=\"text-align: right;\">\n",
       "      <th></th>\n",
       "      <th>parameters</th>\n",
       "      <th>std err</th>\n",
       "    </tr>\n",
       "  </thead>\n",
       "  <tbody>\n",
       "    <tr>\n",
       "      <th>Lambda</th>\n",
       "      <td>0.45</td>\n",
       "      <td>nan</td>\n",
       "    </tr>\n",
       "    <tr>\n",
       "      <th>beta_1</th>\n",
       "      <td>0.90</td>\n",
       "      <td>0.91</td>\n",
       "    </tr>\n",
       "    <tr>\n",
       "      <th>beta_2</th>\n",
       "      <td>-0.20</td>\n",
       "      <td>1.52</td>\n",
       "    </tr>\n",
       "    <tr>\n",
       "      <th>beta_3</th>\n",
       "      <td>0.66</td>\n",
       "      <td>0.20</td>\n",
       "    </tr>\n",
       "    <tr>\n",
       "      <th>beta_4</th>\n",
       "      <td>-0.18</td>\n",
       "      <td>0.69</td>\n",
       "    </tr>\n",
       "    <tr>\n",
       "      <th>beta_5</th>\n",
       "      <td>0.04</td>\n",
       "      <td>0.32</td>\n",
       "    </tr>\n",
       "    <tr>\n",
       "      <th>alpha_1</th>\n",
       "      <td>0.18</td>\n",
       "      <td>5.92</td>\n",
       "    </tr>\n",
       "    <tr>\n",
       "      <th>alpha_2</th>\n",
       "      <td>1.49</td>\n",
       "      <td>5.42</td>\n",
       "    </tr>\n",
       "    <tr>\n",
       "      <th>alpha_3</th>\n",
       "      <td>0.77</td>\n",
       "      <td>0.95</td>\n",
       "    </tr>\n",
       "    <tr>\n",
       "      <th>alpha_4</th>\n",
       "      <td>0.19</td>\n",
       "      <td>0.73</td>\n",
       "    </tr>\n",
       "    <tr>\n",
       "      <th>alpha_5</th>\n",
       "      <td>-0.02</td>\n",
       "      <td>0.71</td>\n",
       "    </tr>\n",
       "    <tr>\n",
       "      <th>gamma_1</th>\n",
       "      <td>-1.53</td>\n",
       "      <td>20.94</td>\n",
       "    </tr>\n",
       "    <tr>\n",
       "      <th>gamma_2</th>\n",
       "      <td>0.67</td>\n",
       "      <td>19.27</td>\n",
       "    </tr>\n",
       "    <tr>\n",
       "      <th>gamma_3</th>\n",
       "      <td>-2.16</td>\n",
       "      <td>4.36</td>\n",
       "    </tr>\n",
       "    <tr>\n",
       "      <th>gamma_4</th>\n",
       "      <td>-0.04</td>\n",
       "      <td>3.50</td>\n",
       "    </tr>\n",
       "    <tr>\n",
       "      <th>gamma_5</th>\n",
       "      <td>0.80</td>\n",
       "      <td>3.46</td>\n",
       "    </tr>\n",
       "    <tr>\n",
       "      <th>gamma6</th>\n",
       "      <td>2.20</td>\n",
       "      <td>0.40</td>\n",
       "    </tr>\n",
       "  </tbody>\n",
       "</table>\n",
       "</div>"
      ],
      "text/plain": [
       "         parameters  std err\n",
       "Lambda         0.45      nan\n",
       "beta_1         0.90     0.91\n",
       "beta_2        -0.20     1.52\n",
       "beta_3         0.66     0.20\n",
       "beta_4        -0.18     0.69\n",
       "beta_5         0.04     0.32\n",
       "alpha_1        0.18     5.92\n",
       "alpha_2        1.49     5.42\n",
       "alpha_3        0.77     0.95\n",
       "alpha_4        0.19     0.73\n",
       "alpha_5       -0.02     0.71\n",
       "gamma_1       -1.53    20.94\n",
       "gamma_2        0.67    19.27\n",
       "gamma_3       -2.16     4.36\n",
       "gamma_4       -0.04     3.50\n",
       "gamma_5        0.80     3.46\n",
       "gamma6         2.20     0.40"
      ]
     },
     "execution_count": 520,
     "metadata": {},
     "output_type": "execute_result"
    }
   ],
   "source": [
    "results"
   ]
  },
  {
   "cell_type": "code",
   "execution_count": 393,
   "metadata": {},
   "outputs": [
    {
     "name": "stdout",
     "output_type": "stream",
     "text": [
      "[ 5.57741298e-01  5.02319655e-01 -3.13564975e-01 -1.47749874e-04\n",
      "  3.27058740e-02  1.85163189e-02  1.43657507e+00  1.31221314e+00\n",
      "  1.25084474e-02  4.24907140e-02  1.38886074e-02  2.49977507e-01\n",
      "  1.94490720e+00  1.16161181e+00  1.10208883e-01  5.34431228e-01]\n"
     ]
    }
   ],
   "source": [
    "results_full"
   ]
  },
  {
   "cell_type": "code",
   "execution_count": 392,
   "metadata": {},
   "outputs": [
    {
     "data": {
      "text/plain": [
       "array([2.22336484e-06, 8.11374048e-02, 1.29667861e-01,            nan,\n",
       "       4.97151326e-02, 3.12386700e-02, 1.00123427e+01, 1.00122152e+01,\n",
       "       1.26051337e-02, 9.71249665e-03, 7.10603195e-03, 1.89653386e+01,\n",
       "       1.89662847e+01, 2.38686365e-01, 2.32663071e-01, 2.21436583e-01])"
      ]
     },
     "execution_count": 392,
     "metadata": {},
     "output_type": "execute_result"
    }
   ],
   "source": [
    "se"
   ]
  },
  {
   "cell_type": "code",
   "execution_count": 382,
   "metadata": {},
   "outputs": [],
   "source": [
    "results1 = pd.read_csv(\"Bresnahan_results_full_uden_kbh.csv\")\n",
    "results2 = pd.read_csv(\"Bresnahan_data_full_results.csv\")"
   ]
  },
  {
   "cell_type": "code",
   "execution_count": 385,
   "metadata": {},
   "outputs": [
    {
     "name": "stdout",
     "output_type": "stream",
     "text": [
      "   Unnamed: 0  parameters  std err\n",
      "0      Lambda        0.43     0.00\n",
      "1      beta_1        0.89     0.14\n",
      "2      beta_2       -0.39     0.17\n",
      "3      beta_3       -0.00     0.00\n",
      "4      beta_4        0.14     0.09\n",
      "5      beta_5        0.20     0.05\n",
      "6     alpha_1        1.41     8.31\n",
      "7     alpha_2        1.43     8.31\n",
      "8     alpha_3        0.05     0.02\n",
      "9     alpha_4        0.06     0.01\n",
      "10    alpha_5        0.00     0.01\n",
      "11    gamma_1        0.09    12.07\n",
      "12    gamma_2        2.82    12.08\n",
      "13    gamma_3        0.83     0.27\n",
      "14    gamma_4        0.00     0.27\n",
      "15    gamma_5        1.35     0.32    Unnamed: 0  parameters  std err\n",
      "0      Lambda        0.30     0.00\n",
      "1      beta_1        1.18     0.20\n",
      "2      beta_2       -0.59     0.24\n",
      "3      beta_3       -0.00     0.00\n",
      "4      beta_4        0.14     0.13\n",
      "5      beta_5        0.34     0.08\n",
      "6     alpha_1        1.37     5.09\n",
      "7     alpha_2        1.39     5.08\n",
      "8     alpha_3        0.06     0.03\n",
      "9     alpha_4        0.09     0.02\n",
      "10    alpha_5        0.00     0.02\n",
      "11    gamma_1        0.01     5.37\n",
      "12    gamma_2        2.84     5.38\n",
      "13    gamma_3        1.02     0.28\n",
      "14    gamma_4        0.00     0.28\n",
      "15    gamma_5        1.35     0.33\n"
     ]
    }
   ],
   "source": [
    "print(results1, results2)"
   ]
  },
  {
   "cell_type": "markdown",
   "metadata": {},
   "source": [
    "*Solution*\n",
    "\n",
    "`theta_br` is the vector of parameters as estimated in the Bresnahan and Reiss paper.\n",
    "\n",
    "```python\n",
    "theta_br = np.array([-0.53, 2.25, 0.34, 0.23, -0.49, -0.03,\n",
    "0.004, -0.02, 0.86, 0.03, 0.15, 0, 0.08, 0.53,\n",
    "0.76, 0.46, 0.6, 0.12, -0.74])\n",
    "```\n",
    "\n",
    "It comes from the \"Tire\" column of Table 4."
   ]
  },
  {
   "cell_type": "code",
   "execution_count": 53,
   "metadata": {},
   "outputs": [],
   "source": [
    "theta_br = np.array([-0.53, 2.25, 0.34, 0.23, -0.49, -0.03,\n",
    "0.004, -0.02, 0.86, 0.03, 0.15, 0, 0.08, 0.53,\n",
    "0.76, 0.46, 0.6, 0.12, -0.74])"
   ]
  },
  {
   "cell_type": "markdown",
   "metadata": {},
   "source": [
    "#### Q4. Use np.allclose to compute whether your estimated `theta` is close to `theta_br`.\n",
    "\n",
    "Use a very large relative tolerance of `rtol=0.2`. If I use this relative tolerance, `np.allclose` returns `True`."
   ]
  },
  {
   "cell_type": "code",
   "execution_count": 156,
   "metadata": {},
   "outputs": [
    {
     "data": {
      "text/plain": [
       "<17x17 LbfgsInvHessProduct with dtype=float64>"
      ]
     },
     "execution_count": 156,
     "metadata": {},
     "output_type": "execute_result"
    }
   ],
   "source": [
    "# Solution\n",
    "out.hess_inv"
   ]
  },
  {
   "cell_type": "markdown",
   "metadata": {},
   "source": [
    "#### Q5. Replicate the \"Tire Dealers\" row of Table 5A.\n",
    "\n",
    "**Hint:** Use the formula in equation (11) in the paper."
   ]
  },
  {
   "cell_type": "code",
   "execution_count": 395,
   "metadata": {},
   "outputs": [],
   "source": [
    "hat_theta = theta_to_param_dict(out.x)"
   ]
  },
  {
   "cell_type": "code",
   "execution_count": 447,
   "metadata": {},
   "outputs": [
    {
     "data": {
      "text/plain": [
       "{'lam': 0.5577412983251746,\n",
       " 'beta': array([ 5.02319655e-01, -3.13564975e-01, -1.47749874e-04,  3.27058740e-02,\n",
       "         1.85163189e-02]),\n",
       " 'alpha': array([1.43657507, 1.31221314, 0.01250845, 0.04249071, 0.01388861]),\n",
       " 'gamma': array([0.24997751, 1.9449072 , 1.16161181, 0.11020888, 0.53443123]),\n",
       " 'theta': array([ 5.57741298e-01,  5.02319655e-01, -3.13564975e-01, -1.47749874e-04,\n",
       "         3.27058740e-02,  1.85163189e-02,  1.43657507e+00,  1.31221314e+00,\n",
       "         1.25084474e-02,  4.24907140e-02,  1.38886074e-02,  2.49977507e-01,\n",
       "         1.94490720e+00,  1.16161181e+00,  1.10208883e-01,  5.34431228e-01])}"
      ]
     },
     "execution_count": 447,
     "metadata": {},
     "output_type": "execute_result"
    }
   ],
   "source": [
    "hat_theta"
   ]
  },
  {
   "cell_type": "code",
   "execution_count": 448,
   "metadata": {},
   "outputs": [],
   "source": [
    "def calcS(df, theta):\n",
    "    d = theta_to_param_dict(theta)\n",
    "    S_grid = np.zeros(5)\n",
    "    \n",
    "    dfm = df.mean()\n",
    "    for i in range(5):\n",
    "        n = i + 1\n",
    "        S_grid[i] = F(dfm, n, d['gamma']) / V(dfm, n, d['alpha'], d['beta'])\n",
    "    return S_grid\n",
    "\n",
    "S_vals = calcS(df, out.x)"
   ]
  },
  {
   "cell_type": "code",
   "execution_count": 449,
   "metadata": {},
   "outputs": [
    {
     "data": {
      "text/html": [
       "<div>\n",
       "<style scoped>\n",
       "    .dataframe tbody tr th:only-of-type {\n",
       "        vertical-align: middle;\n",
       "    }\n",
       "\n",
       "    .dataframe tbody tr th {\n",
       "        vertical-align: top;\n",
       "    }\n",
       "\n",
       "    .dataframe thead th {\n",
       "        text-align: right;\n",
       "    }\n",
       "</style>\n",
       "<table border=\"1\" class=\"dataframe\">\n",
       "  <thead>\n",
       "    <tr style=\"text-align: right;\">\n",
       "      <th></th>\n",
       "      <th>S_1</th>\n",
       "      <th>S_2</th>\n",
       "      <th>S_3</th>\n",
       "      <th>S_4</th>\n",
       "      <th>S_5</th>\n",
       "    </tr>\n",
       "  </thead>\n",
       "  <tbody>\n",
       "    <tr>\n",
       "      <th>Apoteker</th>\n",
       "      <td>9.23</td>\n",
       "      <td>41.08</td>\n",
       "      <td>65.43</td>\n",
       "      <td>89.84</td>\n",
       "      <td>113.83</td>\n",
       "    </tr>\n",
       "  </tbody>\n",
       "</table>\n",
       "</div>"
      ],
      "text/plain": [
       "          S_1   S_2   S_3   S_4    S_5\n",
       "Apoteker 9.23 41.08 65.43 89.84 113.83"
      ]
     },
     "execution_count": 449,
     "metadata": {},
     "output_type": "execute_result"
    }
   ],
   "source": [
    "table5A_left = pd.DataFrame({'Apoteker':S_vals}).T\n",
    "table5A_left.columns = ['S_1', 'S_2', 'S_3', 'S_4', 'S_5']\n",
    "table5A_left"
   ]
  },
  {
   "cell_type": "code",
   "execution_count": 450,
   "metadata": {},
   "outputs": [],
   "source": [
    "a = [S_vals[i+1]/S_vals[i] * ((i+1)/(i+2)) for i in range(4)]\n",
    "table5A_right = pd.DataFrame(a).T\n",
    "table5A_right.columns = ['s2/s1', 's3/s2', 's4/s3', 's5/s4']"
   ]
  },
  {
   "cell_type": "code",
   "execution_count": 451,
   "metadata": {},
   "outputs": [
    {
     "data": {
      "text/html": [
       "<div>\n",
       "<style scoped>\n",
       "    .dataframe tbody tr th:only-of-type {\n",
       "        vertical-align: middle;\n",
       "    }\n",
       "\n",
       "    .dataframe tbody tr th {\n",
       "        vertical-align: top;\n",
       "    }\n",
       "\n",
       "    .dataframe thead th {\n",
       "        text-align: right;\n",
       "    }\n",
       "</style>\n",
       "<table border=\"1\" class=\"dataframe\">\n",
       "  <thead>\n",
       "    <tr style=\"text-align: right;\">\n",
       "      <th></th>\n",
       "      <th>s2/s1</th>\n",
       "      <th>s3/s2</th>\n",
       "      <th>s4/s3</th>\n",
       "      <th>s5/s4</th>\n",
       "    </tr>\n",
       "  </thead>\n",
       "  <tbody>\n",
       "    <tr>\n",
       "      <th>0</th>\n",
       "      <td>2.23</td>\n",
       "      <td>1.06</td>\n",
       "      <td>1.03</td>\n",
       "      <td>1.01</td>\n",
       "    </tr>\n",
       "  </tbody>\n",
       "</table>\n",
       "</div>"
      ],
      "text/plain": [
       "   s2/s1  s3/s2  s4/s3  s5/s4\n",
       "0   2.23   1.06   1.03   1.01"
      ]
     },
     "execution_count": 451,
     "metadata": {},
     "output_type": "execute_result"
    }
   ],
   "source": [
    "table5A_right"
   ]
  },
  {
   "cell_type": "markdown",
   "metadata": {},
   "source": [
    "#### Q6. Replicate Figure 4 for \"Tire Dealers.\""
   ]
  },
  {
   "cell_type": "code",
   "execution_count": 452,
   "metadata": {},
   "outputs": [],
   "source": [
    "SN_S5_ratio = S_vals[5-1]* np.arange(1,5+1) / (S_vals * 5)"
   ]
  },
  {
   "cell_type": "code",
   "execution_count": 453,
   "metadata": {},
   "outputs": [
    {
     "data": {
      "text/plain": [
       "array([2.46619958, 1.10840409, 1.04381703, 1.01367891, 1.        ])"
      ]
     },
     "execution_count": 453,
     "metadata": {},
     "output_type": "execute_result"
    }
   ],
   "source": [
    "SN_S5_ratio"
   ]
  },
  {
   "cell_type": "code",
   "execution_count": 454,
   "metadata": {},
   "outputs": [
    {
     "data": {
      "image/png": "[encoded data removed]",
      "text/plain": [
       "<Figure size 648x504 with 1 Axes>"
      ]
     },
     "metadata": {},
     "output_type": "display_data"
    }
   ],
   "source": [
    "BIG = 18\n",
    "fig = plt.figure(figsize=(9,7))\n",
    "plt.plot([1,2,3,4,5], SN_S5_ratio, 'D', label='Apoteker')\n",
    "ax = fig.get_axes()[0]\n",
    "plt.legend(fontsize=BIG)\n",
    "plt.xlim(0,6)\n",
    "plt.ylim(0.8, 3.6)\n",
    "plt.title('Fig. 4. -- Industry ratios of $s_5$ to $s_N$ by $N$', fontsize=BIG)\n",
    "plt.xlabel('Number of Firms', fontsize=BIG)\n",
    "plt.ylabel('$s_5/s_N$', fontsize=BIG);\n",
    "# ax.set_ylabel('$s_5/s_N$', fontsize=40)"
   ]
  },
  {
   "cell_type": "markdown",
   "metadata": {},
   "source": [
    "#### Q7. Without actually doing it, explain how you would replicate the \"Tire Dealers\" row of Table 5B.\n",
    "\n",
    "Use bullet points to outline the procedure."
   ]
  },
  {
   "cell_type": "markdown",
   "metadata": {},
   "source": [
    "  - For each column ($s_4 = s_5$, or $s_3 = s_4 = s_5$, etc.), solve for the maximum likelihood solution subject to the constraint.\n",
    "  - These constraints puts constraints on the parameter values. You will need to write a separate constraint function for each equality in each particular hypothesis to implement these constraints. This constraint function will be passed on to the optimizer.\n",
    "  - Compare the likelihood of the maximum likelihood solution under the constraint to the likelihood of the maximum likelihood solution under no constraints as per the Likelihood Ratio test statistic: \n",
    "  \n",
    "  $$LR = 2(\\ell(\\hat \\theta) - \\ell(\\hat \\theta_{constrained}) ) \\sim \\chi^2(d),$$\n",
    "  \n",
    "  where $d$ is the number of restrictions in the test (depends on the column of Table 5B).\n",
    "  - The stars on the numbers are based on the p-values of the LR stats. If the p-value is 5% or less, a star is shown.\n",
    "  \n",
    "See p. 997 in the paper for more details."
   ]
  },
  {
   "cell_type": "markdown",
   "metadata": {},
   "source": [
    "#### Q8. Approximately how long did you spend on this assignment (including the SQL portions)? (e.g. 7.5 hours)"
   ]
  },
  {
   "cell_type": "code",
   "execution_count": null,
   "metadata": {},
   "outputs": [],
   "source": []
  }
 ],
 "metadata": {
  "kernelspec": {
   "display_name": "Python 3",
   "language": "python",
   "name": "python3"
  },
  "language_info": {
   "codemirror_mode": {
    "name": "ipython",
    "version": 3
   },
   "file_extension": ".py",
   "mimetype": "text/x-python",
   "name": "python",
   "nbconvert_exporter": "python",
   "pygments_lexer": "ipython3",
   "version": "3.7.3"
  },
  "varInspector": {
   "cols": {
    "lenName": 16,
    "lenType": 16,
    "lenVar": 40
   },
   "kernels_config": {
    "python": {
     "delete_cmd_postfix": "",
     "delete_cmd_prefix": "del ",
     "library": "var_list.py",
     "varRefreshCmd": "print(var_dic_list())"
    },
    "r": {
     "delete_cmd_postfix": ") ",
     "delete_cmd_prefix": "rm(",
     "library": "var_list.r",
     "varRefreshCmd": "cat(var_dic_list()) "
    }
   },
   "types_to_exclude": [
    "module",
    "function",
    "builtin_function_or_method",
    "instance",
    "_Feature"
   ],
   "window_display": false
  }
 },
 "nbformat": 4,
 "nbformat_minor": 4
}
