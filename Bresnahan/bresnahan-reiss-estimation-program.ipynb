{
 "cells": [
  {
   "cell_type": "markdown",
   "metadata": {},
   "source": [
    "# Replicate Bresnahan and Reiss 1991\n",
    "\n",
    "In this notebook, we will be replicating a classic paper from Industrial Organization: Bresnahan and Reiss (1991) \"Entry and Competition in Concentrated Markets.\" The paper can be downloaded here: http://people.hss.caltech.edu/~mshum/gradio/papers/bresreiss_jpe.pdf\n",
    "\n",
    "The data is available on the class GitHub page.\n",
    "\n",
    "## Introduction\n",
    "\n",
    "The abstract of the paper is this:\n",
    "\n",
    "> This paper proposes an empirical framework for measuring the effects of entry in concentrated markets. Building on models of entry in atomistically competitive markets, we show how the number of producers in an oligopolistic market varies with changes in demand and market competition. These analytical results structure our empirical analysis of competition in five retail and professional industries. Using data on geographically isolated monopolies, duopolies, and oligopolies, we study the relationship between the number of firms in a market, market size, and competition. Our empirical results suggest that competitive conduct changes quickly as the number of incumbents increases. In markets with five or fewer incumbents, almost all variation in competitive conduct occurs with the entry of the second or third firm. Surprisingly, once the market has between three and five firms, the next entrant has little effect on competitive conduct.\n"
   ]
  },
  {
   "cell_type": "markdown",
   "metadata": {},
   "source": [
    "## Description of the Data\n",
    "\n",
    "For a description of the data, see Table 3 of the paper and its accompanying description.\n",
    "\n",
    "Each observation is a \"market.\" These are combinations of towns and industries, e.g. the tire dealer market in town \"A\". From p. 985,\n",
    "\n",
    "> Our sample contains 202 isolated local markets. A typical market\n",
    "in our sample is a county seat in the western United States. These county seats are separated from other towns in the county. Because most of the local population resides in or near the central town, its population provides a reasonable first approximation to $S(Y)$. \n",
    ">\n",
    "> ...\n",
    ">\n",
    "> We selected our sample of markets and industries using criteria developed in our earlier work (see Bresnahan and Reiss 1988, 1990). Briefly, we located towns or small cities in the continental United States that were at least 20 miles from the nearest town of 1,000 people or more. We elimi- nated towns that were near large metropolitan areas or were part of a cluster of towns. Our specific criteria exclude, for example, towns within 100 miles of a city of 100,000. We believe, a priori, that these selection criteria ensure that we can identify all relevant competitors.\n",
    ">\n",
    "> ...\n",
    "> \n",
    "> We limited our study to industries or occupations in which we could identify all sellers of a narrowly defined product or service. We did not consider grocery and clothing stores, for example, because they sell a range of products.\n",
    "\n",
    "The data included on the GitHub repo has 202 rows, including the following variables:\n",
    "\n",
    "  - `ID`: The unique ID associated with the represented market.\n",
    "  - `TIRE`: The number of incumbent \"tire dealer\" firms in the market\n",
    "  - `TPOP`: Town population.\n",
    "  - `NGRW`: Negative TPOP growth. This represents the negative growth in town population from 1970 to 1980. \n",
    "  - `PGRW`: Positive TPOP growth. Similar to `NGRW`. These growth terms capture entrants' asymmetric expectations about future market growth as well as lags in responses to past growth.\n",
    "  - `OCTY`: Commuters out of the city. There are commuters out of the county. It represents the Census Bureau's count of county residents who commute to work outside the county. (A negative calue of the coefficient $\\lambda_4$ suggest that commuters purchase good in nearby markets.)\n",
    "  - `OPOP`: Nearby Population. This includes population within 10 miles of the town. (This would increase demand.)\n",
    "  - `LANDV`: Value per acre of farm-land and buildings  (\\$1,000s)\n",
    "  - `ELD`: 65 years and older divided by the county population\n",
    "  - `FFRAC`: Fraction of land in farms\n",
    "  - `PINC`: Per capital income (\\$1,000's)\n",
    "  - `LNHDD`: Log of heating degree days\n",
    "\n",
    "Note: You can find additional variables used in the paper and their descriptions, along with summary statistics, in Table 2 on p. 991."
   ]
  },
  {
   "cell_type": "code",
   "execution_count": 79,
   "metadata": {},
   "outputs": [],
   "source": [
    "import pandas as pd\n",
    "import numpy as np\n",
    "from matplotlib import pyplot as plt\n",
    "%matplotlib inline\n",
    "import seaborn as sns\n",
    "import scipy.stats\n",
    "import scipy.optimize\n",
    "import numdifftools as nd\n",
    "sns.set()"
   ]
  },
  {
   "cell_type": "code",
   "execution_count": 80,
   "metadata": {},
   "outputs": [],
   "source": [
    "pd.set_option('precision', 2)\n",
    "pd.set_option('display.float_format', lambda x: '%.2f' % x)"
   ]
  },
  {
   "cell_type": "code",
   "execution_count": 13,
   "metadata": {},
   "outputs": [],
   "source": [
    "filename = 'BresnahanAndReiss1991_DATA.csv'\n",
    "df = pd.read_csv(filename)"
   ]
  },
  {
   "cell_type": "code",
   "execution_count": 14,
   "metadata": {},
   "outputs": [],
   "source": [
    "#Z = np.c_[df.ELD, df.PINC, df.LNHDD, df.FFRAC]"
   ]
  },
  {
   "cell_type": "code",
   "execution_count": 5,
   "metadata": {},
   "outputs": [
    {
     "data": {
      "text/plain": [
       "ID         int64\n",
       "TIRE       int64\n",
       "TPOP     float64\n",
       "NGRW     float64\n",
       "PGRW     float64\n",
       "OCTY     float64\n",
       "OPOP     float64\n",
       "LANDV    float64\n",
       "ELD      float64\n",
       "FFRAC    float64\n",
       "PINC     float64\n",
       "LNHDD    float64\n",
       "dtype: object"
      ]
     },
     "execution_count": 5,
     "metadata": {},
     "output_type": "execute_result"
    }
   ],
   "source": [
    "df.dtypes"
   ]
  },
  {
   "cell_type": "markdown",
   "metadata": {},
   "source": [
    "**Figure 2**"
   ]
  },
  {
   "cell_type": "code",
   "execution_count": 6,
   "metadata": {},
   "outputs": [
    {
     "data": {
      "image/png": "[encoded data removed]",
      "text/plain": [
       "<Figure size 432x288 with 1 Axes>"
      ]
     },
     "metadata": {},
     "output_type": "display_data"
    }
   ],
   "source": [
    "a = pd.cut(df.TPOP, np.r_[np.linspace(0,7.5, 16), [np.inf]])\n",
    "a = a.value_counts().sort_index()\n",
    "a.plot.bar(color='steelblue', alpha=.8)\n",
    "plt.ylabel('Number of Towns')\n",
    "plt.xlabel(\"Town Population Range (000's)\")\n",
    "plt.title('Fig. 2. --- Number of towns by town population');"
   ]
  },
  {
   "cell_type": "markdown",
   "metadata": {},
   "source": [
    "**Table 2**\n",
    "\n",
    "Market counts by industry and number of incumbents (shown for tire dealers only)"
   ]
  },
  {
   "cell_type": "code",
   "execution_count": 7,
   "metadata": {},
   "outputs": [
    {
     "data": {
      "text/html": [
       "<div>\n",
       "<style scoped>\n",
       "    .dataframe tbody tr th:only-of-type {\n",
       "        vertical-align: middle;\n",
       "    }\n",
       "\n",
       "    .dataframe tbody tr th {\n",
       "        vertical-align: top;\n",
       "    }\n",
       "\n",
       "    .dataframe thead th {\n",
       "        text-align: right;\n",
       "    }\n",
       "</style>\n",
       "<table border=\"1\" class=\"dataframe\">\n",
       "  <thead>\n",
       "    <tr style=\"text-align: right;\">\n",
       "      <th></th>\n",
       "      <th>[-inf, 1.0)</th>\n",
       "      <th>[1.0, 2.0)</th>\n",
       "      <th>[2.0, 3.0)</th>\n",
       "      <th>[3.0, 4.0)</th>\n",
       "      <th>[4.0, 5.0)</th>\n",
       "      <th>[5.0, 6.0)</th>\n",
       "      <th>[6.0, 7.0)</th>\n",
       "      <th>[7.0, inf)</th>\n",
       "    </tr>\n",
       "  </thead>\n",
       "  <tbody>\n",
       "    <tr>\n",
       "      <th>TIRE</th>\n",
       "      <td>45</td>\n",
       "      <td>39</td>\n",
       "      <td>39</td>\n",
       "      <td>24</td>\n",
       "      <td>13</td>\n",
       "      <td>15</td>\n",
       "      <td>6</td>\n",
       "      <td>21</td>\n",
       "    </tr>\n",
       "  </tbody>\n",
       "</table>\n",
       "</div>"
      ],
      "text/plain": [
       "      [-inf, 1.0)  [1.0, 2.0)  [2.0, 3.0)  [3.0, 4.0)  [4.0, 5.0)  [5.0, 6.0)  \\\n",
       "TIRE           45          39          39          24          13          15   \n",
       "\n",
       "      [6.0, 7.0)  [7.0, inf)  \n",
       "TIRE           6          21  "
      ]
     },
     "execution_count": 7,
     "metadata": {},
     "output_type": "execute_result"
    }
   ],
   "source": [
    "bins = [-np.inf, *range(1,8), np.inf]\n",
    "tire_bins = pd.cut(df.TIRE, bins, right=False)\n",
    "counts = tire_bins.value_counts().sort_index()\n",
    "pd.DataFrame(counts).T"
   ]
  },
  {
   "cell_type": "markdown",
   "metadata": {},
   "source": [
    "**Table 3**\n",
    "\n",
    "Again, this replication only contains some of the variables used."
   ]
  },
  {
   "cell_type": "code",
   "execution_count": 8,
   "metadata": {},
   "outputs": [
    {
     "data": {
      "text/html": [
       "<div>\n",
       "<style scoped>\n",
       "    .dataframe tbody tr th:only-of-type {\n",
       "        vertical-align: middle;\n",
       "    }\n",
       "\n",
       "    .dataframe tbody tr th {\n",
       "        vertical-align: top;\n",
       "    }\n",
       "\n",
       "    .dataframe thead th {\n",
       "        text-align: right;\n",
       "    }\n",
       "</style>\n",
       "<table border=\"1\" class=\"dataframe\">\n",
       "  <thead>\n",
       "    <tr style=\"text-align: right;\">\n",
       "      <th></th>\n",
       "      <th>mean</th>\n",
       "      <th>std</th>\n",
       "      <th>min</th>\n",
       "      <th>max</th>\n",
       "    </tr>\n",
       "  </thead>\n",
       "  <tbody>\n",
       "    <tr>\n",
       "      <th>TIRE</th>\n",
       "      <td>2.62</td>\n",
       "      <td>2.63</td>\n",
       "      <td>0.00</td>\n",
       "      <td>13.00</td>\n",
       "    </tr>\n",
       "    <tr>\n",
       "      <th>TPOP</th>\n",
       "      <td>3.74</td>\n",
       "      <td>5.35</td>\n",
       "      <td>0.12</td>\n",
       "      <td>45.09</td>\n",
       "    </tr>\n",
       "    <tr>\n",
       "      <th>NGRW</th>\n",
       "      <td>-0.06</td>\n",
       "      <td>0.14</td>\n",
       "      <td>-1.34</td>\n",
       "      <td>0.00</td>\n",
       "    </tr>\n",
       "    <tr>\n",
       "      <th>PGRW</th>\n",
       "      <td>0.49</td>\n",
       "      <td>1.05</td>\n",
       "      <td>0.00</td>\n",
       "      <td>7.23</td>\n",
       "    </tr>\n",
       "    <tr>\n",
       "      <th>OCTY</th>\n",
       "      <td>0.32</td>\n",
       "      <td>0.69</td>\n",
       "      <td>0.00</td>\n",
       "      <td>8.39</td>\n",
       "    </tr>\n",
       "    <tr>\n",
       "      <th>OPOP</th>\n",
       "      <td>0.41</td>\n",
       "      <td>0.74</td>\n",
       "      <td>0.01</td>\n",
       "      <td>5.84</td>\n",
       "    </tr>\n",
       "    <tr>\n",
       "      <th>LANDV</th>\n",
       "      <td>0.29</td>\n",
       "      <td>0.23</td>\n",
       "      <td>0.07</td>\n",
       "      <td>1.64</td>\n",
       "    </tr>\n",
       "    <tr>\n",
       "      <th>ELD</th>\n",
       "      <td>0.13</td>\n",
       "      <td>0.05</td>\n",
       "      <td>0.03</td>\n",
       "      <td>0.30</td>\n",
       "    </tr>\n",
       "    <tr>\n",
       "      <th>FFRAC</th>\n",
       "      <td>0.67</td>\n",
       "      <td>0.35</td>\n",
       "      <td>0.00</td>\n",
       "      <td>1.27</td>\n",
       "    </tr>\n",
       "    <tr>\n",
       "      <th>PINC</th>\n",
       "      <td>5.91</td>\n",
       "      <td>1.13</td>\n",
       "      <td>3.16</td>\n",
       "      <td>10.50</td>\n",
       "    </tr>\n",
       "    <tr>\n",
       "      <th>LNHDD</th>\n",
       "      <td>8.59</td>\n",
       "      <td>0.47</td>\n",
       "      <td>6.83</td>\n",
       "      <td>9.20</td>\n",
       "    </tr>\n",
       "  </tbody>\n",
       "</table>\n",
       "</div>"
      ],
      "text/plain": [
       "       mean  std   min   max\n",
       "TIRE   2.62 2.63  0.00 13.00\n",
       "TPOP   3.74 5.35  0.12 45.09\n",
       "NGRW  -0.06 0.14 -1.34  0.00\n",
       "PGRW   0.49 1.05  0.00  7.23\n",
       "OCTY   0.32 0.69  0.00  8.39\n",
       "OPOP   0.41 0.74  0.01  5.84\n",
       "LANDV  0.29 0.23  0.07  1.64\n",
       "ELD    0.13 0.05  0.03  0.30\n",
       "FFRAC  0.67 0.35  0.00  1.27\n",
       "PINC   5.91 1.13  3.16 10.50\n",
       "LNHDD  8.59 0.47  6.83  9.20"
      ]
     },
     "execution_count": 8,
     "metadata": {},
     "output_type": "execute_result"
    }
   ],
   "source": [
    "df.drop(['ID'], axis=1).aggregate(['mean', 'std', 'min', 'max']).T"
   ]
  },
  {
   "cell_type": "code",
   "execution_count": 9,
   "metadata": {},
   "outputs": [
    {
     "data": {
      "text/html": [
       "<div>\n",
       "<style scoped>\n",
       "    .dataframe tbody tr th:only-of-type {\n",
       "        vertical-align: middle;\n",
       "    }\n",
       "\n",
       "    .dataframe tbody tr th {\n",
       "        vertical-align: top;\n",
       "    }\n",
       "\n",
       "    .dataframe thead th {\n",
       "        text-align: right;\n",
       "    }\n",
       "</style>\n",
       "<table border=\"1\" class=\"dataframe\">\n",
       "  <thead>\n",
       "    <tr style=\"text-align: right;\">\n",
       "      <th></th>\n",
       "      <th>count</th>\n",
       "      <th>mean</th>\n",
       "      <th>std</th>\n",
       "      <th>min</th>\n",
       "      <th>25%</th>\n",
       "      <th>50%</th>\n",
       "      <th>75%</th>\n",
       "      <th>max</th>\n",
       "    </tr>\n",
       "  </thead>\n",
       "  <tbody>\n",
       "    <tr>\n",
       "      <th>TIRE</th>\n",
       "      <td>202.00</td>\n",
       "      <td>2.62</td>\n",
       "      <td>2.63</td>\n",
       "      <td>0.00</td>\n",
       "      <td>1.00</td>\n",
       "      <td>2.00</td>\n",
       "      <td>4.00</td>\n",
       "      <td>13.00</td>\n",
       "    </tr>\n",
       "    <tr>\n",
       "      <th>TPOP</th>\n",
       "      <td>202.00</td>\n",
       "      <td>3.74</td>\n",
       "      <td>5.35</td>\n",
       "      <td>0.12</td>\n",
       "      <td>1.05</td>\n",
       "      <td>2.10</td>\n",
       "      <td>4.34</td>\n",
       "      <td>45.09</td>\n",
       "    </tr>\n",
       "    <tr>\n",
       "      <th>NGRW</th>\n",
       "      <td>202.00</td>\n",
       "      <td>-0.06</td>\n",
       "      <td>0.14</td>\n",
       "      <td>-1.34</td>\n",
       "      <td>-0.04</td>\n",
       "      <td>0.00</td>\n",
       "      <td>0.00</td>\n",
       "      <td>0.00</td>\n",
       "    </tr>\n",
       "    <tr>\n",
       "      <th>PGRW</th>\n",
       "      <td>202.00</td>\n",
       "      <td>0.49</td>\n",
       "      <td>1.05</td>\n",
       "      <td>0.00</td>\n",
       "      <td>0.00</td>\n",
       "      <td>0.08</td>\n",
       "      <td>0.42</td>\n",
       "      <td>7.23</td>\n",
       "    </tr>\n",
       "    <tr>\n",
       "      <th>OCTY</th>\n",
       "      <td>202.00</td>\n",
       "      <td>0.32</td>\n",
       "      <td>0.69</td>\n",
       "      <td>0.00</td>\n",
       "      <td>0.08</td>\n",
       "      <td>0.16</td>\n",
       "      <td>0.32</td>\n",
       "      <td>8.39</td>\n",
       "    </tr>\n",
       "    <tr>\n",
       "      <th>OPOP</th>\n",
       "      <td>202.00</td>\n",
       "      <td>0.41</td>\n",
       "      <td>0.74</td>\n",
       "      <td>0.01</td>\n",
       "      <td>0.06</td>\n",
       "      <td>0.14</td>\n",
       "      <td>0.42</td>\n",
       "      <td>5.84</td>\n",
       "    </tr>\n",
       "    <tr>\n",
       "      <th>LANDV</th>\n",
       "      <td>202.00</td>\n",
       "      <td>0.29</td>\n",
       "      <td>0.23</td>\n",
       "      <td>0.07</td>\n",
       "      <td>0.14</td>\n",
       "      <td>0.24</td>\n",
       "      <td>0.35</td>\n",
       "      <td>1.64</td>\n",
       "    </tr>\n",
       "    <tr>\n",
       "      <th>ELD</th>\n",
       "      <td>202.00</td>\n",
       "      <td>0.13</td>\n",
       "      <td>0.05</td>\n",
       "      <td>0.03</td>\n",
       "      <td>0.10</td>\n",
       "      <td>0.13</td>\n",
       "      <td>0.16</td>\n",
       "      <td>0.30</td>\n",
       "    </tr>\n",
       "    <tr>\n",
       "      <th>FFRAC</th>\n",
       "      <td>202.00</td>\n",
       "      <td>0.67</td>\n",
       "      <td>0.35</td>\n",
       "      <td>0.00</td>\n",
       "      <td>0.32</td>\n",
       "      <td>0.83</td>\n",
       "      <td>0.94</td>\n",
       "      <td>1.27</td>\n",
       "    </tr>\n",
       "    <tr>\n",
       "      <th>PINC</th>\n",
       "      <td>202.00</td>\n",
       "      <td>5.91</td>\n",
       "      <td>1.13</td>\n",
       "      <td>3.16</td>\n",
       "      <td>5.17</td>\n",
       "      <td>5.87</td>\n",
       "      <td>6.68</td>\n",
       "      <td>10.50</td>\n",
       "    </tr>\n",
       "    <tr>\n",
       "      <th>LNHDD</th>\n",
       "      <td>202.00</td>\n",
       "      <td>8.59</td>\n",
       "      <td>0.47</td>\n",
       "      <td>6.83</td>\n",
       "      <td>8.45</td>\n",
       "      <td>8.70</td>\n",
       "      <td>8.93</td>\n",
       "      <td>9.20</td>\n",
       "    </tr>\n",
       "  </tbody>\n",
       "</table>\n",
       "</div>"
      ],
      "text/plain": [
       "       count  mean  std   min   25%  50%  75%   max\n",
       "TIRE  202.00  2.62 2.63  0.00  1.00 2.00 4.00 13.00\n",
       "TPOP  202.00  3.74 5.35  0.12  1.05 2.10 4.34 45.09\n",
       "NGRW  202.00 -0.06 0.14 -1.34 -0.04 0.00 0.00  0.00\n",
       "PGRW  202.00  0.49 1.05  0.00  0.00 0.08 0.42  7.23\n",
       "OCTY  202.00  0.32 0.69  0.00  0.08 0.16 0.32  8.39\n",
       "OPOP  202.00  0.41 0.74  0.01  0.06 0.14 0.42  5.84\n",
       "LANDV 202.00  0.29 0.23  0.07  0.14 0.24 0.35  1.64\n",
       "ELD   202.00  0.13 0.05  0.03  0.10 0.13 0.16  0.30\n",
       "FFRAC 202.00  0.67 0.35  0.00  0.32 0.83 0.94  1.27\n",
       "PINC  202.00  5.91 1.13  3.16  5.17 5.87 6.68 10.50\n",
       "LNHDD 202.00  8.59 0.47  6.83  8.45 8.70 8.93  9.20"
      ]
     },
     "execution_count": 9,
     "metadata": {},
     "output_type": "execute_result"
    }
   ],
   "source": [
    "df.drop(['ID'], axis=1).describe().T"
   ]
  },
  {
   "cell_type": "markdown",
   "metadata": {},
   "source": [
    "## Model Description\n",
    "\n",
    "Following the structure of equation (4), we assume that \n",
    "\n",
    "$$\n",
    "\\Pi_N = \\bar \\Pi_N + \\epsilon = S(Y, \\lambda) V_N(Z, W, \\alpha, \\beta) - F_N(W, \\gamma) + \\epsilon, \\tag{8}\n",
    "$$\n",
    "\n",
    "where $\\lambda$, $\\alpha$, $\\beta$, and $\\gamma$ represent profit function parameters, $Y$ describes market size, $Z$ and $W$ shift per capita demand and costs, and the unobserved error term $\\epsilon$ summarizes profits that we do not observer. To simplify the estimation procedure, we assume that $\\epsilon$ has a standard normal distribution that is independently distributed across markets and is independent of our observables ($\\epsilon \\sim \\mathcal N(0,1)$). We also assume that $\\epsilon$ has zero mean and a constant variance and that each firm within a market has the same profit error. This last assumption presumes that successive entrants' profits differ only through the determinist variables in (8). Notice that we use $\\hat \\Pi_N$ to represent this deterministic portion of profits.\n"
   ]
  },
  {
   "cell_type": "markdown",
   "metadata": {},
   "source": [
    "Now, how do we calculate the likelihood function of this model? Notice that since we don't observe $\\Pi$, we won't be able to calculate residuals to plug into our MLE procedure. In the case of estimating a linear regression equation with MLE, we calculated residuals and plugged those residuals into a PDF. In our case, we can't do that. Instead, we can only use our data to *put bounds on epsilon*. Consider what is implied when we observe no firms in a market. If there are no firms, then this implies that the per-firm profits of one firm would be less than zero, $\\Pi_1 < 0$. Let's use a little algebra to see what this implies about epsilon:\n",
    "\n",
    "\\begin{gather*}\n",
    "\\Pi_1 < 0 \\\\\n",
    "\\Pi_1 = \\bar \\Pi_1 + \\epsilon < 0 \\\\\n",
    "\\epsilon < -\\bar \\Pi_1 \n",
    "\\end{gather*}\n",
    "\n",
    "Now that we see what this implies about epsilon, since we have assumed a distribution for epsilon, we can calculate what the probability (likelihood) of this occuring. The probability of observing markets with no firms equals\n",
    "\n",
    "\\begin{align*}\n",
    "P(\\Pi_1 < 0) &=  P(\\epsilon < -\\bar \\Pi_1 ) \\\\\n",
    "  &= \\Phi(-\\bar \\Pi_1) \\\\\n",
    "  &= 1 - \\Phi(\\bar \\Pi_1)\n",
    "\\end{align*}\n",
    "\n",
    "where $\\Phi(\\cdot)$ is the cumulative normal distribution function, and $\\Pi_1 = \\bar \\Pi_1 + \\epsilon$ equals a monopolist's profits. "
   ]
  },
  {
   "cell_type": "markdown",
   "metadata": {},
   "source": [
    "If $\\bar \\Pi_1 \\geq \\bar \\Pi_2 \\geq ... \\geq \\bar \\Pi_5$, the probability of observing $N$ firms in equilibrium ( $N = 1,2,3, \\text{ or } 4$ ) equals\n",
    "\n",
    "$$\n",
    "P(\\Pi_N \\geq 0 \\text{ and } \\Pi_{N+1} < 0) = \\Phi(\\bar \\Pi_N) - \\Phi(\\bar \\Pi_{N+1}).\n",
    "$$\n",
    "\n",
    "The residual probability of observing five or more firms equals\n",
    "\n",
    "$$\n",
    "P(\\Pi_5 \\geq 0) = \\Phi(\\bar \\Pi_5).\n",
    "$$\n",
    "\n",
    "Market size is modeled as a linear function of population variables. Specifically, we assume that\n",
    "\n",
    "$$\n",
    "S(Y, \\lambda) = \\text{ TPOP } + \\lambda_1 \\text{ OPOP } + \\lambda_2 \\text{ PGRW } + \\lambda_3 \\text{ NGRW } + \\lambda_4 \\text{ OCTY }. \\tag 9\n",
    "$$\n",
    "\n",
    "We set the coefficient of town population is $S(Y, \\lambda)$ equal to one because $V_N$ contains a constant term. This normalization translates units of market demand into units of current town population.\n",
    "\n",
    "We model firms' per capita variable profits, $V_N$ , as a function of the number of firms, $N$, and economic variables, $X = [W, Z].$ We assume that this function has the linear form\n",
    "\n",
    "$$V_N = \\alpha_1 + \\mathbf X \\beta - \\sum_{n=2}^N \\alpha_n. \\tag{10}$$\n",
    "\n",
    "The term $V_N = \\alpha_1 + \\mathbf X \\beta - \\sum_{n=2}^N \\alpha_n$ equal the per capita variable profit of a monopolist. "
   ]
  },
  {
   "cell_type": "markdown",
   "metadata": {},
   "source": [
    "Because we do not have detailed information on costs, we assume\n",
    "\n",
    "$$ \n",
    "F_N = \\gamma_1 + \\gamma_L W_L + \\sum_{n=2}^N \\gamma_n.\n",
    "$$\n",
    "\n",
    "The term $F_1 = \\gamma_1 + \\gamma_L W_L$ equals a monopolist's fixed costs. We include the price of agricultural land in it to capital intermarket variation in land costs. The $\\gamma_n$ terms allow later entrants to have higher costs. When we observe $\\gamma_n$ greater than zero, we conclude that later entrants have higher fixed costs. We do not known, however, whether these higher costs mean that the entran is less efficient (i.e., the supply curve of entrants is upward sloping) or it faces entry barriers."
   ]
  },
  {
   "cell_type": "markdown",
   "metadata": {},
   "source": [
    "**What is the log-likelihood function?**\n",
    "\n",
    "The log-likelihood function $\\mathcal L$ is given by\n",
    "\n",
    "$$\n",
    "\\mathcal L = \\sum_{i=1}^I  \\left( \n",
    "\\mathbb 1\\{N_i = 0\\} \\log P \\left( \\Pi_1^i < 0 \\right) + \n",
    "\\mathbb 1\\{N_i \\geq 5\\} \\log P \\left(\\Pi_5^i \\geq 0\\right) +\n",
    "\\sum_{j=1}^4 \\mathbb 1\\{N_i=j\\}  \\log P \\left(\\Pi^i_{N_i} \\geq 0 \\text{ and } \\Pi^i_{N_i+1} < 0\\right) \n",
    "\\right), \n",
    "$$\n",
    "\n",
    "$$\n",
    "$$\n",
    "\n",
    "for observations $i=1,...,I$. Note that the values of $\\Pi^i_{N_i}$ depend on the characteristics of a particular market ($W_i$, $Y_i$, $Z_i$) and the number of incumbents $N_i$ in market $i$."
   ]
  },
  {
   "cell_type": "markdown",
   "metadata": {},
   "source": [
    "**Note:**\n",
    "\n",
    "  - *Definition of Indicator Function:* When I write something like $\\mathbb 1\\{N_i = 0\\}$, note that this is an [indicator function.](https://en.wikipedia.org/wiki/Indicator_function) This is a function that is equal to 1 when the condition $N_i = 0$ is true and is equal to zero otherwise."
   ]
  },
  {
   "cell_type": "markdown",
   "metadata": {},
   "source": [
    "# HW Questions Begin\n",
    "\n",
    "**2 points for each problem**"
   ]
  },
  {
   "cell_type": "markdown",
   "metadata": {},
   "source": [
    "#### Q1. Write a function for the log-likelihood function.\n",
    "\n",
    "Write the log-likelihood function as a function of the parameter vector `theta`. Define theta such that theta includes the parameters for $\\lambda$, $\\beta$, $\\alpha$, and $\\gamma$ in a single vector. They should be defined such that \n",
    "\n",
    "```python\n",
    "lam = theta[0:4]\n",
    "beta = theta[4:8]\n",
    "alpha = theta[8:13]\n",
    "gamma = theta[13:19]\n",
    "```\n",
    "\n",
    "Evaluate the negative log-likelihood function for the parameters `theta0`, given below. This is the parameter that we will use as an initial guess to give to the optimizer. \n",
    "```python\n",
    "theta0 = np.ones(19) * 0.1\n",
    "```\n",
    "\n",
    "**Hint:**\n",
    " - The negative log-likelihood function should give approximately `800001109.2156063` for `theta0`.\n",
    " - It's normal if you get a few warnings (e.g. `RuntimeWarning: divide by zero encountered in log`). In your code you will occasionaly get probabilities at zero or close to zero. This will create values of `-inf` occasionally. Whenever a `np.log(Phi)` is equal to `-inf`, change it to `-1e+08`. That is, change it to `-100000000`.\n",
    " - We are replicating this paper for \"Tire Dealers\" only. Thus, we will use the following variables. For $V$ we will use `ELD`, `PINC`, `LNHDD`, `FFRAC`. For $F$ we will use `LANDV`. For $S$, we will use `TPOP`, `OPOP`, `NGRW`, `PGRW`, `OCTY`."
   ]
  },
  {
   "cell_type": "code",
   "execution_count": 239,
   "metadata": {},
   "outputs": [],
   "source": [
    "df = pd.read_csv(\"Bresnahan_data_3.csv\")\n",
    "df=df.drop(['Unnamed: 0'], axis=1)"
   ]
  },
  {
   "cell_type": "code",
   "execution_count": 245,
   "metadata": {},
   "outputs": [],
   "source": [
    "df['Nicklas'] = 0.0000409*df['Befolkning']"
   ]
  },
  {
   "cell_type": "code",
   "execution_count": 259,
   "metadata": {},
   "outputs": [
    {
     "data": {
      "text/html": [
       "<div>\n",
       "<style scoped>\n",
       "    .dataframe tbody tr th:only-of-type {\n",
       "        vertical-align: middle;\n",
       "    }\n",
       "\n",
       "    .dataframe tbody tr th {\n",
       "        vertical-align: top;\n",
       "    }\n",
       "\n",
       "    .dataframe thead th {\n",
       "        text-align: right;\n",
       "    }\n",
       "</style>\n",
       "<table border=\"1\" class=\"dataframe\">\n",
       "  <thead>\n",
       "    <tr style=\"text-align: right;\">\n",
       "      <th></th>\n",
       "      <th>Kommune</th>\n",
       "      <th>GNS_OMS</th>\n",
       "      <th>GNS_MED_PROFIT</th>\n",
       "      <th>ALDER</th>\n",
       "      <th>d65</th>\n",
       "      <th>d17</th>\n",
       "      <th>samlet_ind</th>\n",
       "      <th>Besk</th>\n",
       "      <th>Besk1864</th>\n",
       "      <th>DK</th>\n",
       "      <th>Befolkning</th>\n",
       "      <th>yderkom</th>\n",
       "      <th>antal_apo</th>\n",
       "      <th>Nicklas</th>\n",
       "    </tr>\n",
       "  </thead>\n",
       "  <tbody>\n",
       "    <tr>\n",
       "      <th>0</th>\n",
       "      <td>101</td>\n",
       "      <td>32175513.68</td>\n",
       "      <td>10420720.83</td>\n",
       "      <td>36.10</td>\n",
       "      <td>0.11</td>\n",
       "      <td>0.17</td>\n",
       "      <td>177947.39</td>\n",
       "      <td>0.55</td>\n",
       "      <td>0.73</td>\n",
       "      <td>0.79</td>\n",
       "      <td>518574</td>\n",
       "      <td>0</td>\n",
       "      <td>26</td>\n",
       "      <td>21.21</td>\n",
       "    </tr>\n",
       "    <tr>\n",
       "      <th>1</th>\n",
       "      <td>147</td>\n",
       "      <td>35360723.52</td>\n",
       "      <td>11353348.05</td>\n",
       "      <td>39.68</td>\n",
       "      <td>0.16</td>\n",
       "      <td>0.17</td>\n",
       "      <td>199421.12</td>\n",
       "      <td>0.54</td>\n",
       "      <td>0.76</td>\n",
       "      <td>0.85</td>\n",
       "      <td>95029</td>\n",
       "      <td>0</td>\n",
       "      <td>5</td>\n",
       "      <td>3.89</td>\n",
       "    </tr>\n",
       "    <tr>\n",
       "      <th>2</th>\n",
       "      <td>151</td>\n",
       "      <td>32632761.25</td>\n",
       "      <td>10439521.77</td>\n",
       "      <td>40.04</td>\n",
       "      <td>0.18</td>\n",
       "      <td>0.23</td>\n",
       "      <td>167726.10</td>\n",
       "      <td>0.49</td>\n",
       "      <td>0.77</td>\n",
       "      <td>0.88</td>\n",
       "      <td>47398</td>\n",
       "      <td>0</td>\n",
       "      <td>3</td>\n",
       "      <td>1.94</td>\n",
       "    </tr>\n",
       "    <tr>\n",
       "      <th>3</th>\n",
       "      <td>153</td>\n",
       "      <td>nan</td>\n",
       "      <td>nan</td>\n",
       "      <td>40.57</td>\n",
       "      <td>0.18</td>\n",
       "      <td>0.22</td>\n",
       "      <td>155595.38</td>\n",
       "      <td>0.48</td>\n",
       "      <td>0.73</td>\n",
       "      <td>0.76</td>\n",
       "      <td>33762</td>\n",
       "      <td>0</td>\n",
       "      <td>2</td>\n",
       "      <td>1.38</td>\n",
       "    </tr>\n",
       "    <tr>\n",
       "      <th>4</th>\n",
       "      <td>155</td>\n",
       "      <td>nan</td>\n",
       "      <td>nan</td>\n",
       "      <td>42.38</td>\n",
       "      <td>0.20</td>\n",
       "      <td>0.23</td>\n",
       "      <td>198542.34</td>\n",
       "      <td>0.51</td>\n",
       "      <td>0.82</td>\n",
       "      <td>0.94</td>\n",
       "      <td>13411</td>\n",
       "      <td>0</td>\n",
       "      <td>1</td>\n",
       "      <td>0.55</td>\n",
       "    </tr>\n",
       "    <tr>\n",
       "      <th>...</th>\n",
       "      <td>...</td>\n",
       "      <td>...</td>\n",
       "      <td>...</td>\n",
       "      <td>...</td>\n",
       "      <td>...</td>\n",
       "      <td>...</td>\n",
       "      <td>...</td>\n",
       "      <td>...</td>\n",
       "      <td>...</td>\n",
       "      <td>...</td>\n",
       "      <td>...</td>\n",
       "      <td>...</td>\n",
       "      <td>...</td>\n",
       "      <td>...</td>\n",
       "    </tr>\n",
       "    <tr>\n",
       "      <th>674</th>\n",
       "      <td>840</td>\n",
       "      <td>nan</td>\n",
       "      <td>nan</td>\n",
       "      <td>39.09</td>\n",
       "      <td>0.15</td>\n",
       "      <td>0.25</td>\n",
       "      <td>160353.40</td>\n",
       "      <td>0.53</td>\n",
       "      <td>0.82</td>\n",
       "      <td>0.97</td>\n",
       "      <td>28900</td>\n",
       "      <td>0</td>\n",
       "      <td>2</td>\n",
       "      <td>1.18</td>\n",
       "    </tr>\n",
       "    <tr>\n",
       "      <th>675</th>\n",
       "      <td>846</td>\n",
       "      <td>30221943.20</td>\n",
       "      <td>9842736.31</td>\n",
       "      <td>40.37</td>\n",
       "      <td>0.17</td>\n",
       "      <td>0.23</td>\n",
       "      <td>151509.65</td>\n",
       "      <td>0.51</td>\n",
       "      <td>0.78</td>\n",
       "      <td>0.95</td>\n",
       "      <td>42762</td>\n",
       "      <td>0</td>\n",
       "      <td>3</td>\n",
       "      <td>1.75</td>\n",
       "    </tr>\n",
       "    <tr>\n",
       "      <th>676</th>\n",
       "      <td>849</td>\n",
       "      <td>27990480.85</td>\n",
       "      <td>9072518.83</td>\n",
       "      <td>40.99</td>\n",
       "      <td>0.17</td>\n",
       "      <td>0.23</td>\n",
       "      <td>148262.78</td>\n",
       "      <td>0.51</td>\n",
       "      <td>0.78</td>\n",
       "      <td>0.97</td>\n",
       "      <td>38990</td>\n",
       "      <td>0</td>\n",
       "      <td>3</td>\n",
       "      <td>1.59</td>\n",
       "    </tr>\n",
       "    <tr>\n",
       "      <th>677</th>\n",
       "      <td>851</td>\n",
       "      <td>38807439.93</td>\n",
       "      <td>12589527.79</td>\n",
       "      <td>39.00</td>\n",
       "      <td>0.15</td>\n",
       "      <td>0.20</td>\n",
       "      <td>159224.28</td>\n",
       "      <td>0.51</td>\n",
       "      <td>0.74</td>\n",
       "      <td>0.93</td>\n",
       "      <td>196292</td>\n",
       "      <td>0</td>\n",
       "      <td>10</td>\n",
       "      <td>8.03</td>\n",
       "    </tr>\n",
       "    <tr>\n",
       "      <th>678</th>\n",
       "      <td>860</td>\n",
       "      <td>24606980.68</td>\n",
       "      <td>7956950.29</td>\n",
       "      <td>40.85</td>\n",
       "      <td>0.18</td>\n",
       "      <td>0.23</td>\n",
       "      <td>145997.59</td>\n",
       "      <td>0.50</td>\n",
       "      <td>0.77</td>\n",
       "      <td>0.95</td>\n",
       "      <td>67102</td>\n",
       "      <td>0</td>\n",
       "      <td>6</td>\n",
       "      <td>2.74</td>\n",
       "    </tr>\n",
       "  </tbody>\n",
       "</table>\n",
       "<p>679 rows × 14 columns</p>\n",
       "</div>"
      ],
      "text/plain": [
       "     Kommune     GNS_OMS  GNS_MED_PROFIT  ALDER  d65  d17  samlet_ind  Besk  \\\n",
       "0        101 32175513.68     10420720.83  36.10 0.11 0.17   177947.39  0.55   \n",
       "1        147 35360723.52     11353348.05  39.68 0.16 0.17   199421.12  0.54   \n",
       "2        151 32632761.25     10439521.77  40.04 0.18 0.23   167726.10  0.49   \n",
       "3        153         nan             nan  40.57 0.18 0.22   155595.38  0.48   \n",
       "4        155         nan             nan  42.38 0.20 0.23   198542.34  0.51   \n",
       "..       ...         ...             ...    ...  ...  ...         ...   ...   \n",
       "674      840         nan             nan  39.09 0.15 0.25   160353.40  0.53   \n",
       "675      846 30221943.20      9842736.31  40.37 0.17 0.23   151509.65  0.51   \n",
       "676      849 27990480.85      9072518.83  40.99 0.17 0.23   148262.78  0.51   \n",
       "677      851 38807439.93     12589527.79  39.00 0.15 0.20   159224.28  0.51   \n",
       "678      860 24606980.68      7956950.29  40.85 0.18 0.23   145997.59  0.50   \n",
       "\n",
       "     Besk1864   DK  Befolkning  yderkom  antal_apo  Nicklas  \n",
       "0        0.73 0.79      518574        0         26    21.21  \n",
       "1        0.76 0.85       95029        0          5     3.89  \n",
       "2        0.77 0.88       47398        0          3     1.94  \n",
       "3        0.73 0.76       33762        0          2     1.38  \n",
       "4        0.82 0.94       13411        0          1     0.55  \n",
       "..        ...  ...         ...      ...        ...      ...  \n",
       "674      0.82 0.97       28900        0          2     1.18  \n",
       "675      0.78 0.95       42762        0          3     1.75  \n",
       "676      0.78 0.97       38990        0          3     1.59  \n",
       "677      0.74 0.93      196292        0         10     8.03  \n",
       "678      0.77 0.95       67102        0          6     2.74  \n",
       "\n",
       "[679 rows x 14 columns]"
      ]
     },
     "execution_count": 259,
     "metadata": {},
     "output_type": "execute_result"
    }
   ],
   "source": [
    "df"
   ]
  },
  {
   "cell_type": "code",
   "execution_count": null,
   "metadata": {},
   "outputs": [],
   "source": []
  },
  {
   "cell_type": "code",
   "execution_count": 241,
   "metadata": {},
   "outputs": [
    {
     "data": {
      "text/plain": [
       "count   679.00\n",
       "mean      3.29\n",
       "std       3.05\n",
       "min       1.00\n",
       "25%       2.00\n",
       "50%       3.00\n",
       "75%       4.00\n",
       "max      26.00\n",
       "Name: antal_apo, dtype: float64"
      ]
     },
     "execution_count": 241,
     "metadata": {},
     "output_type": "execute_result"
    }
   ],
   "source": [
    "df['antal_apo'].describe()"
   ]
  },
  {
   "cell_type": "code",
   "execution_count": 242,
   "metadata": {},
   "outputs": [],
   "source": [
    "def V(df, Ni, alpha=np.ones(5), beta=np.ones(5)):\n",
    "    \"\"\"Per-capita variable profit\n",
    "    \n",
    "    df: data\n",
    "    Ni: number of incumbents in market i\n",
    "    alpha: alpha parameters\n",
    "    beta: beta parameters\n",
    "    \"\"\"\n",
    "    n = np.min([5, Ni])\n",
    "#     n = Ni\n",
    "    a = 0\n",
    "    for i in range(1,n):\n",
    "        a = a + alpha[i]\n",
    "    \n",
    "    \n",
    "    #Z = np.c_[df.ELD, df.PINC, df.LNHDD, df.FFRAC]\n",
    "    Z = np.c_[df.d65, df.d17, np.log(df.samlet_ind), df.Besk1864, df.DK]\n",
    "    # Don't use W in the V function for our replication\n",
    "    # W = df.LANDV\n",
    "    # X = np.c_[W, Z]\n",
    "\n",
    "    # X is an I x 4 numpy array, where I is the number of observations\n",
    "    X = np.c_[Z]\n",
    "    \n",
    "    \n",
    "    profit = alpha[0] + X @ beta - a\n",
    "    return profit\n",
    "\n",
    "def F(df, Ni, gamma=np.ones(5)):\n",
    "    n = np.min([5, Ni])\n",
    "#     n = Ni\n",
    "    g = 0\n",
    "    # gamma 2 through gamma 5 (indices 1 through 4)\n",
    "    for i in range(1,n):\n",
    "        g = g + gamma[i]\n",
    "\n",
    "    fixed_cost = gamma[0]  + g #df.ALDER + g    #* df.LANDV + g\n",
    "    return fixed_cost\n",
    "\n",
    "#def S_func(df, lam):\n",
    "def S_func(df, lam):\n",
    "    #S = (df.TPOP + lam[0] * df.OPOP + lam[1] * df.NGRW + \n",
    "    #     lam[2] * df.PGRW + lam[3] * df.OCTY)\n",
    "    S =  lam * np.log(df.Befolkning)\n",
    "    return S\n",
    "\n",
    "#def neg_log_lik(theta=np.ones(19), market='TIRE', df=None):\n",
    "def neg_log_lik(theta=np.ones(16), market='antal_apo', df=df):#, df=None):\n",
    "    lam = theta[0]\n",
    "    beta = theta[1:6]\n",
    "    alpha = theta[6:11]\n",
    "    gamma = theta[11:16]\n",
    "    \n",
    "    Phi = scipy.stats.norm.cdf\n",
    "    \n",
    "    S = S_func(df, lam)\n",
    "#     S = (df.TPOP + lam[0] * df.OPOP + lam[1] * df.NGRW + \n",
    "#          lam[2] * df.PGRW + lam[3] * df.OCTY)\n",
    "    \n",
    "    P = [0] * 6\n",
    "    Pi_bar = lambda N: S * V(df, N, alpha=alpha, beta=beta) - F(df, N, gamma=gamma)\n",
    "    P[0] = np.log( 1 - Phi(Pi_bar(0)) )\n",
    "    P[5] = np.log( Phi(Pi_bar(5)) )\n",
    "    for i in range(1,5):\n",
    "        P[i] = np.log( Phi(Pi_bar(i)) - Phi(Pi_bar(i+1)) )\n",
    "\n",
    "        \n",
    "    for i in range(6):\n",
    "        P[i][P[i] == -np.inf] = -100000000\n",
    "    log_lik = 0 \n",
    "    for i in range(5):\n",
    "        log_lik = log_lik + np.sum(P[i] * (df[market] == i))\n",
    "    log_lik = log_lik + np.sum(P[5] * (df[market] >= 5))\n",
    "    return -log_lik\n",
    "\n",
    "\n",
    "def theta_to_param_dict(theta):\n",
    "#     lam = theta[0:4]\n",
    "#     beta = theta[4:8]\n",
    "#     alpha = theta[8:13]\n",
    "#     gamma = theta[13:19]\n",
    "    lam = theta[0]\n",
    "    beta = theta[1:6]\n",
    "    alpha = theta[6:11]\n",
    "    gamma = theta[11:16]\n",
    "    d = {'lam': lam, 'beta': beta, 'alpha': alpha, 'gamma': gamma, 'theta': theta}\n",
    "    return d"
   ]
  },
  {
   "cell_type": "code",
   "execution_count": 243,
   "metadata": {},
   "outputs": [
    {
     "data": {
      "text/plain": [
       "1810.6505127106839"
      ]
     },
     "execution_count": 243,
     "metadata": {},
     "output_type": "execute_result"
    }
   ],
   "source": [
    "theta0 = np.ones(16) * 0.1\n",
    "neg_log_lik(df=df, theta=theta0)"
   ]
  },
  {
   "cell_type": "code",
   "execution_count": null,
   "metadata": {},
   "outputs": [],
   "source": []
  },
  {
   "cell_type": "markdown",
   "metadata": {},
   "source": [
    "#### Q2. Compute the Maximum Likelihood Estimate\n",
    "\n",
    "Compute the maximum likelihood estimate of the model. Be sure to use lower bounds on the parameter values for $\\alpha$ and $\\gamma$ (not including $\\gamma_L$). That is, let $\\alpha_i \\geq 0$, i=1,...,5 and let $\\gamma_i \\geq 0$ for $i=1,..., 5$. Note, however, that $\\gamma_L$ is not bounded. For the initial guess, use `theta0` defined above. (It is a vector of the values `0.1`.)\n",
    "\n",
    "Hint: The value of the negative log-likelihood function at the optimum should be approximately `263.0912047584611`."
   ]
  },
  {
   "cell_type": "code",
   "execution_count": 244,
   "metadata": {},
   "outputs": [
    {
     "name": "stderr",
     "output_type": "stream",
     "text": [
      "C:\\Users\\Oliver\\Anaconda3\\lib\\site-packages\\ipykernel_launcher.py:62: RuntimeWarning: divide by zero encountered in log\n",
      "C:\\Users\\Oliver\\Anaconda3\\lib\\site-packages\\ipykernel_launcher.py:65: RuntimeWarning: divide by zero encountered in log\n",
      "C:\\Users\\Oliver\\Anaconda3\\lib\\site-packages\\ipykernel_launcher.py:63: RuntimeWarning: divide by zero encountered in log\n"
     ]
    },
    {
     "name": "stdout",
     "output_type": "stream",
     "text": [
      "Wall time: 3min 2s\n"
     ]
    }
   ],
   "source": [
    "%%time\n",
    "ba = [-np.inf] * 6\n",
    "bb = [0] * 10\n",
    "lower_bounds = [*ba, *bb, -np.inf]\n",
    "upper_bounds = [np.inf] * 16\n",
    "bounds = list(zip(lower_bounds, upper_bounds))\n",
    "\n",
    "theta0 = np.ones(16) * 0.1\n",
    "nll = lambda theta: neg_log_lik(theta=theta, df=df)\n",
    "out = scipy.optimize.minimize(nll, theta0, bounds=bounds, \n",
    "     #options={'disp':True}\n",
    "    )"
   ]
  },
  {
   "cell_type": "code",
   "execution_count": 247,
   "metadata": {},
   "outputs": [
    {
     "name": "stderr",
     "output_type": "stream",
     "text": [
      "C:\\Users\\Oliver\\Anaconda3\\lib\\site-packages\\ipykernel_launcher.py:62: RuntimeWarning: divide by zero encountered in log\n",
      "C:\\Users\\Oliver\\Anaconda3\\lib\\site-packages\\ipykernel_launcher.py:65: RuntimeWarning: divide by zero encountered in log\n",
      "C:\\Users\\Oliver\\Anaconda3\\lib\\site-packages\\ipykernel_launcher.py:63: RuntimeWarning: divide by zero encountered in log\n",
      "C:\\Users\\Oliver\\Anaconda3\\lib\\site-packages\\ipykernel_launcher.py:65: RuntimeWarning: invalid value encountered in log\n"
     ]
    }
   ],
   "source": [
    "# theta_start = np.array([1,1,1])\n",
    "# res = minimize(neg_loglike, theta_start, method = 'Nelder-Mead', \n",
    "# \t       options={'disp': True})\n",
    "\n",
    "\n",
    "Hfun = nd.Hessian(nll, full_output=True)\n",
    "hessian_nd, info = Hfun(out['x'])\n"
   ]
  },
  {
   "cell_type": "code",
   "execution_count": 248,
   "metadata": {
    "scrolled": true
   },
   "outputs": [
    {
     "name": "stderr",
     "output_type": "stream",
     "text": [
      "C:\\Users\\Oliver\\Anaconda3\\lib\\site-packages\\ipykernel_launcher.py:1: RuntimeWarning: invalid value encountered in sqrt\n",
      "  \"\"\"Entry point for launching an IPython kernel.\n"
     ]
    },
    {
     "data": {
      "text/html": [
       "<div>\n",
       "<style scoped>\n",
       "    .dataframe tbody tr th:only-of-type {\n",
       "        vertical-align: middle;\n",
       "    }\n",
       "\n",
       "    .dataframe tbody tr th {\n",
       "        vertical-align: top;\n",
       "    }\n",
       "\n",
       "    .dataframe thead th {\n",
       "        text-align: right;\n",
       "    }\n",
       "</style>\n",
       "<table border=\"1\" class=\"dataframe\">\n",
       "  <thead>\n",
       "    <tr style=\"text-align: right;\">\n",
       "      <th></th>\n",
       "      <th>parameters</th>\n",
       "      <th>std err</th>\n",
       "    </tr>\n",
       "  </thead>\n",
       "  <tbody>\n",
       "    <tr>\n",
       "      <th>Lambda</th>\n",
       "      <td>1.47</td>\n",
       "      <td>nan</td>\n",
       "    </tr>\n",
       "    <tr>\n",
       "      <th>beta_1</th>\n",
       "      <td>0.53</td>\n",
       "      <td>0.25</td>\n",
       "    </tr>\n",
       "    <tr>\n",
       "      <th>beta_2</th>\n",
       "      <td>-0.30</td>\n",
       "      <td>0.34</td>\n",
       "    </tr>\n",
       "    <tr>\n",
       "      <th>beta_3</th>\n",
       "      <td>-0.10</td>\n",
       "      <td>nan</td>\n",
       "    </tr>\n",
       "    <tr>\n",
       "      <th>beta_4</th>\n",
       "      <td>-0.20</td>\n",
       "      <td>0.15</td>\n",
       "    </tr>\n",
       "    <tr>\n",
       "      <th>beta_5</th>\n",
       "      <td>0.43</td>\n",
       "      <td>0.06</td>\n",
       "    </tr>\n",
       "    <tr>\n",
       "      <th>alpha_1</th>\n",
       "      <td>3.43</td>\n",
       "      <td>27.97</td>\n",
       "    </tr>\n",
       "    <tr>\n",
       "      <th>alpha_2</th>\n",
       "      <td>0.00</td>\n",
       "      <td>28.51</td>\n",
       "    </tr>\n",
       "    <tr>\n",
       "      <th>alpha_3</th>\n",
       "      <td>0.08</td>\n",
       "      <td>0.23</td>\n",
       "    </tr>\n",
       "    <tr>\n",
       "      <th>alpha_4</th>\n",
       "      <td>0.07</td>\n",
       "      <td>0.12</td>\n",
       "    </tr>\n",
       "    <tr>\n",
       "      <th>alpha_5</th>\n",
       "      <td>0.00</td>\n",
       "      <td>nan</td>\n",
       "    </tr>\n",
       "    <tr>\n",
       "      <th>gamma_1</th>\n",
       "      <td>2.04</td>\n",
       "      <td>nan</td>\n",
       "    </tr>\n",
       "    <tr>\n",
       "      <th>gamma_2</th>\n",
       "      <td>35.15</td>\n",
       "      <td>nan</td>\n",
       "    </tr>\n",
       "    <tr>\n",
       "      <th>gamma_3</th>\n",
       "      <td>0.44</td>\n",
       "      <td>3.53</td>\n",
       "    </tr>\n",
       "    <tr>\n",
       "      <th>gamma_4</th>\n",
       "      <td>0.01</td>\n",
       "      <td>1.76</td>\n",
       "    </tr>\n",
       "    <tr>\n",
       "      <th>gamma_5</th>\n",
       "      <td>1.25</td>\n",
       "      <td>nan</td>\n",
       "    </tr>\n",
       "  </tbody>\n",
       "</table>\n",
       "</div>"
      ],
      "text/plain": [
       "         parameters  std err\n",
       "Lambda         1.47      nan\n",
       "beta_1         0.53     0.25\n",
       "beta_2        -0.30     0.34\n",
       "beta_3        -0.10      nan\n",
       "beta_4        -0.20     0.15\n",
       "beta_5         0.43     0.06\n",
       "alpha_1        3.43    27.97\n",
       "alpha_2        0.00    28.51\n",
       "alpha_3        0.08     0.23\n",
       "alpha_4        0.07     0.12\n",
       "alpha_5        0.00      nan\n",
       "gamma_1        2.04      nan\n",
       "gamma_2       35.15      nan\n",
       "gamma_3        0.44     3.53\n",
       "gamma_4        0.01     1.76\n",
       "gamma_5        1.25      nan"
      ]
     },
     "execution_count": 248,
     "metadata": {},
     "output_type": "execute_result"
    }
   ],
   "source": [
    "se = np.sqrt(np.diag(np.linalg.inv(hessian_nd)))\n",
    "results = pd.DataFrame({'parameters':out['x'],'std err':se})\n",
    "# results = pd.DataFrame({'parameters':out['x'],'std err':se})\n",
    "results.index=['Lambda','beta_1','beta_2','beta_3','beta_4','beta_5','alpha_1','alpha_2','alpha_3','alpha_4','alpha_5','gamma_1','gamma_2','gamma_3','gamma_4','gamma_5']   \n",
    "\n",
    "# results.head()"
   ]
  },
  {
   "cell_type": "code",
   "execution_count": 249,
   "metadata": {},
   "outputs": [
    {
     "data": {
      "text/html": [
       "<div>\n",
       "<style scoped>\n",
       "    .dataframe tbody tr th:only-of-type {\n",
       "        vertical-align: middle;\n",
       "    }\n",
       "\n",
       "    .dataframe tbody tr th {\n",
       "        vertical-align: top;\n",
       "    }\n",
       "\n",
       "    .dataframe thead th {\n",
       "        text-align: right;\n",
       "    }\n",
       "</style>\n",
       "<table border=\"1\" class=\"dataframe\">\n",
       "  <thead>\n",
       "    <tr style=\"text-align: right;\">\n",
       "      <th></th>\n",
       "      <th>parameters</th>\n",
       "      <th>std err</th>\n",
       "    </tr>\n",
       "  </thead>\n",
       "  <tbody>\n",
       "    <tr>\n",
       "      <th>Lambda</th>\n",
       "      <td>1.47</td>\n",
       "      <td>nan</td>\n",
       "    </tr>\n",
       "    <tr>\n",
       "      <th>beta_1</th>\n",
       "      <td>0.53</td>\n",
       "      <td>0.25</td>\n",
       "    </tr>\n",
       "    <tr>\n",
       "      <th>beta_2</th>\n",
       "      <td>-0.30</td>\n",
       "      <td>0.34</td>\n",
       "    </tr>\n",
       "    <tr>\n",
       "      <th>beta_3</th>\n",
       "      <td>-0.10</td>\n",
       "      <td>nan</td>\n",
       "    </tr>\n",
       "    <tr>\n",
       "      <th>beta_4</th>\n",
       "      <td>-0.20</td>\n",
       "      <td>0.15</td>\n",
       "    </tr>\n",
       "    <tr>\n",
       "      <th>beta_5</th>\n",
       "      <td>0.43</td>\n",
       "      <td>0.06</td>\n",
       "    </tr>\n",
       "    <tr>\n",
       "      <th>alpha_1</th>\n",
       "      <td>3.43</td>\n",
       "      <td>27.97</td>\n",
       "    </tr>\n",
       "    <tr>\n",
       "      <th>alpha_2</th>\n",
       "      <td>0.00</td>\n",
       "      <td>28.51</td>\n",
       "    </tr>\n",
       "    <tr>\n",
       "      <th>alpha_3</th>\n",
       "      <td>0.08</td>\n",
       "      <td>0.23</td>\n",
       "    </tr>\n",
       "    <tr>\n",
       "      <th>alpha_4</th>\n",
       "      <td>0.07</td>\n",
       "      <td>0.12</td>\n",
       "    </tr>\n",
       "    <tr>\n",
       "      <th>alpha_5</th>\n",
       "      <td>0.00</td>\n",
       "      <td>nan</td>\n",
       "    </tr>\n",
       "    <tr>\n",
       "      <th>gamma_1</th>\n",
       "      <td>2.04</td>\n",
       "      <td>nan</td>\n",
       "    </tr>\n",
       "    <tr>\n",
       "      <th>gamma_2</th>\n",
       "      <td>35.15</td>\n",
       "      <td>nan</td>\n",
       "    </tr>\n",
       "    <tr>\n",
       "      <th>gamma_3</th>\n",
       "      <td>0.44</td>\n",
       "      <td>3.53</td>\n",
       "    </tr>\n",
       "    <tr>\n",
       "      <th>gamma_4</th>\n",
       "      <td>0.01</td>\n",
       "      <td>1.76</td>\n",
       "    </tr>\n",
       "    <tr>\n",
       "      <th>gamma_5</th>\n",
       "      <td>1.25</td>\n",
       "      <td>nan</td>\n",
       "    </tr>\n",
       "  </tbody>\n",
       "</table>\n",
       "</div>"
      ],
      "text/plain": [
       "         parameters  std err\n",
       "Lambda         1.47      nan\n",
       "beta_1         0.53     0.25\n",
       "beta_2        -0.30     0.34\n",
       "beta_3        -0.10      nan\n",
       "beta_4        -0.20     0.15\n",
       "beta_5         0.43     0.06\n",
       "alpha_1        3.43    27.97\n",
       "alpha_2        0.00    28.51\n",
       "alpha_3        0.08     0.23\n",
       "alpha_4        0.07     0.12\n",
       "alpha_5        0.00      nan\n",
       "gamma_1        2.04      nan\n",
       "gamma_2       35.15      nan\n",
       "gamma_3        0.44     3.53\n",
       "gamma_4        0.01     1.76\n",
       "gamma_5        1.25      nan"
      ]
     },
     "execution_count": 249,
     "metadata": {},
     "output_type": "execute_result"
    }
   ],
   "source": [
    "results"
   ]
  },
  {
   "cell_type": "markdown",
   "metadata": {},
   "source": [
    "*Solution*\n",
    "\n",
    "`theta_br` is the vector of parameters as estimated in the Bresnahan and Reiss paper.\n",
    "\n",
    "```python\n",
    "theta_br = np.array([-0.53, 2.25, 0.34, 0.23, -0.49, -0.03,\n",
    "0.004, -0.02, 0.86, 0.03, 0.15, 0, 0.08, 0.53,\n",
    "0.76, 0.46, 0.6, 0.12, -0.74])\n",
    "```\n",
    "\n",
    "It comes from the \"Tire\" column of Table 4."
   ]
  },
  {
   "cell_type": "code",
   "execution_count": 53,
   "metadata": {},
   "outputs": [],
   "source": [
    "theta_br = np.array([-0.53, 2.25, 0.34, 0.23, -0.49, -0.03,\n",
    "0.004, -0.02, 0.86, 0.03, 0.15, 0, 0.08, 0.53,\n",
    "0.76, 0.46, 0.6, 0.12, -0.74])"
   ]
  },
  {
   "cell_type": "markdown",
   "metadata": {},
   "source": [
    "#### Q4. Use np.allclose to compute whether your estimated `theta` is close to `theta_br`.\n",
    "\n",
    "Use a very large relative tolerance of `rtol=0.2`. If I use this relative tolerance, `np.allclose` returns `True`."
   ]
  },
  {
   "cell_type": "code",
   "execution_count": 156,
   "metadata": {},
   "outputs": [
    {
     "data": {
      "text/plain": [
       "<17x17 LbfgsInvHessProduct with dtype=float64>"
      ]
     },
     "execution_count": 156,
     "metadata": {},
     "output_type": "execute_result"
    }
   ],
   "source": [
    "# Solution\n",
    "out.hess_inv"
   ]
  },
  {
   "cell_type": "markdown",
   "metadata": {},
   "source": [
    "#### Q5. Replicate the \"Tire Dealers\" row of Table 5A.\n",
    "\n",
    "**Hint:** Use the formula in equation (11) in the paper."
   ]
  },
  {
   "cell_type": "code",
   "execution_count": 229,
   "metadata": {},
   "outputs": [],
   "source": [
    "hat_theta = theta_to_param_dict(out.x)"
   ]
  },
  {
   "cell_type": "code",
   "execution_count": 250,
   "metadata": {},
   "outputs": [
    {
     "data": {
      "text/plain": [
       "{'lam': 0.6480993795508114,\n",
       " 'beta': array([-0.17236688,  0.03716394,  0.2144116 , -0.11457531,  0.16130614]),\n",
       " 'alpha': array([0.12887663, 2.17512743, 0.01401074, 0.        , 0.00517705]),\n",
       " 'gamma': array([0.65097486, 1.88135597, 0.83085397, 0.58689018, 0.45100898]),\n",
       " 'theta': array([ 0.64809938, -0.17236688,  0.03716394,  0.2144116 , -0.11457531,\n",
       "         0.16130614,  0.12887663,  2.17512743,  0.01401074,  0.        ,\n",
       "         0.00517705,  0.65097486,  1.88135597,  0.83085397,  0.58689018,\n",
       "         0.45100898])}"
      ]
     },
     "execution_count": 250,
     "metadata": {},
     "output_type": "execute_result"
    }
   ],
   "source": [
    "hat_theta"
   ]
  },
  {
   "cell_type": "code",
   "execution_count": 251,
   "metadata": {},
   "outputs": [],
   "source": [
    "def calcS(df, theta):\n",
    "    d = theta_to_param_dict(theta)\n",
    "    S_grid = np.zeros(5)\n",
    "    \n",
    "    dfm = df.mean()\n",
    "    for i in range(5):\n",
    "        n = i + 1\n",
    "        S_grid[i] = F(dfm, n, d['gamma']) / V(dfm, n, d['alpha'], d['beta'])\n",
    "    return S_grid\n",
    "\n",
    "S_vals = calcS(df, out.x)"
   ]
  },
  {
   "cell_type": "code",
   "execution_count": 252,
   "metadata": {},
   "outputs": [
    {
     "data": {
      "text/html": [
       "<div>\n",
       "<style scoped>\n",
       "    .dataframe tbody tr th:only-of-type {\n",
       "        vertical-align: middle;\n",
       "    }\n",
       "\n",
       "    .dataframe tbody tr th {\n",
       "        vertical-align: top;\n",
       "    }\n",
       "\n",
       "    .dataframe thead th {\n",
       "        text-align: right;\n",
       "    }\n",
       "</style>\n",
       "<table border=\"1\" class=\"dataframe\">\n",
       "  <thead>\n",
       "    <tr style=\"text-align: right;\">\n",
       "      <th></th>\n",
       "      <th>S_1</th>\n",
       "      <th>S_2</th>\n",
       "      <th>S_3</th>\n",
       "      <th>S_4</th>\n",
       "      <th>S_5</th>\n",
       "    </tr>\n",
       "  </thead>\n",
       "  <tbody>\n",
       "    <tr>\n",
       "      <th>Apoteker</th>\n",
       "      <td>0.82</td>\n",
       "      <td>14.95</td>\n",
       "      <td>15.64</td>\n",
       "      <td>16.14</td>\n",
       "      <td>16.67</td>\n",
       "    </tr>\n",
       "  </tbody>\n",
       "</table>\n",
       "</div>"
      ],
      "text/plain": [
       "          S_1   S_2   S_3   S_4   S_5\n",
       "Apoteker 0.82 14.95 15.64 16.14 16.67"
      ]
     },
     "execution_count": 252,
     "metadata": {},
     "output_type": "execute_result"
    }
   ],
   "source": [
    "table5A_left = pd.DataFrame({'Apoteker':S_vals}).T\n",
    "table5A_left.columns = ['S_1', 'S_2', 'S_3', 'S_4', 'S_5']\n",
    "table5A_left"
   ]
  },
  {
   "cell_type": "code",
   "execution_count": 253,
   "metadata": {},
   "outputs": [],
   "source": [
    "a = [S_vals[i+1]/S_vals[i] * ((i+1)/(i+2)) for i in range(4)]\n",
    "table5A_right = pd.DataFrame(a).T\n",
    "table5A_right.columns = ['s2/s1', 's3/s2', 's4/s3', 's5/s4']"
   ]
  },
  {
   "cell_type": "code",
   "execution_count": 254,
   "metadata": {},
   "outputs": [
    {
     "data": {
      "text/html": [
       "<div>\n",
       "<style scoped>\n",
       "    .dataframe tbody tr th:only-of-type {\n",
       "        vertical-align: middle;\n",
       "    }\n",
       "\n",
       "    .dataframe tbody tr th {\n",
       "        vertical-align: top;\n",
       "    }\n",
       "\n",
       "    .dataframe thead th {\n",
       "        text-align: right;\n",
       "    }\n",
       "</style>\n",
       "<table border=\"1\" class=\"dataframe\">\n",
       "  <thead>\n",
       "    <tr style=\"text-align: right;\">\n",
       "      <th></th>\n",
       "      <th>s2/s1</th>\n",
       "      <th>s3/s2</th>\n",
       "      <th>s4/s3</th>\n",
       "      <th>s5/s4</th>\n",
       "    </tr>\n",
       "  </thead>\n",
       "  <tbody>\n",
       "    <tr>\n",
       "      <th>0</th>\n",
       "      <td>9.12</td>\n",
       "      <td>0.70</td>\n",
       "      <td>0.77</td>\n",
       "      <td>0.83</td>\n",
       "    </tr>\n",
       "  </tbody>\n",
       "</table>\n",
       "</div>"
      ],
      "text/plain": [
       "   s2/s1  s3/s2  s4/s3  s5/s4\n",
       "0   9.12   0.70   0.77   0.83"
      ]
     },
     "execution_count": 254,
     "metadata": {},
     "output_type": "execute_result"
    }
   ],
   "source": [
    "table5A_right"
   ]
  },
  {
   "cell_type": "markdown",
   "metadata": {},
   "source": [
    "#### Q6. Replicate Figure 4 for \"Tire Dealers.\""
   ]
  },
  {
   "cell_type": "code",
   "execution_count": 255,
   "metadata": {},
   "outputs": [],
   "source": [
    "SN_S5_ratio = S_vals[5-1]* np.arange(1,5+1) / (S_vals * 5)"
   ]
  },
  {
   "cell_type": "code",
   "execution_count": 256,
   "metadata": {},
   "outputs": [
    {
     "data": {
      "text/plain": [
       "array([4.06911404, 0.446125  , 0.63961194, 0.82658821, 1.        ])"
      ]
     },
     "execution_count": 256,
     "metadata": {},
     "output_type": "execute_result"
    }
   ],
   "source": [
    "SN_S5_ratio"
   ]
  },
  {
   "cell_type": "code",
   "execution_count": 257,
   "metadata": {},
   "outputs": [
    {
     "data": {
      "image/png": "[encoded data removed]",
      "text/plain": [
       "<Figure size 648x504 with 1 Axes>"
      ]
     },
     "metadata": {},
     "output_type": "display_data"
    }
   ],
   "source": [
    "BIG = 18\n",
    "fig = plt.figure(figsize=(9,7))\n",
    "plt.plot([1,2,3,4,5], SN_S5_ratio, 'D', label='Apoteker')\n",
    "ax = fig.get_axes()[0]\n",
    "plt.legend(fontsize=BIG)\n",
    "plt.xlim(0,6)\n",
    "plt.ylim(0.8, 3.6)\n",
    "plt.title('Fig. 4. -- Industry ratios of $s_5$ to $s_N$ by $N$', fontsize=BIG)\n",
    "plt.xlabel('Number of Firms', fontsize=BIG)\n",
    "plt.ylabel('$s_5/s_N$', fontsize=BIG);\n",
    "# ax.set_ylabel('$s_5/s_N$', fontsize=40)"
   ]
  },
  {
   "cell_type": "markdown",
   "metadata": {},
   "source": [
    "#### Q7. Without actually doing it, explain how you would replicate the \"Tire Dealers\" row of Table 5B.\n",
    "\n",
    "Use bullet points to outline the procedure."
   ]
  },
  {
   "cell_type": "markdown",
   "metadata": {},
   "source": [
    "  - For each column ($s_4 = s_5$, or $s_3 = s_4 = s_5$, etc.), solve for the maximum likelihood solution subject to the constraint.\n",
    "  - These constraints puts constraints on the parameter values. You will need to write a separate constraint function for each equality in each particular hypothesis to implement these constraints. This constraint function will be passed on to the optimizer.\n",
    "  - Compare the likelihood of the maximum likelihood solution under the constraint to the likelihood of the maximum likelihood solution under no constraints as per the Likelihood Ratio test statistic: \n",
    "  \n",
    "  $$LR = 2(\\ell(\\hat \\theta) - \\ell(\\hat \\theta_{constrained}) ) \\sim \\chi^2(d),$$\n",
    "  \n",
    "  where $d$ is the number of restrictions in the test (depends on the column of Table 5B).\n",
    "  - The stars on the numbers are based on the p-values of the LR stats. If the p-value is 5% or less, a star is shown.\n",
    "  \n",
    "See p. 997 in the paper for more details."
   ]
  },
  {
   "cell_type": "markdown",
   "metadata": {},
   "source": [
    "#### Q8. Approximately how long did you spend on this assignment (including the SQL portions)? (e.g. 7.5 hours)"
   ]
  },
  {
   "cell_type": "code",
   "execution_count": null,
   "metadata": {},
   "outputs": [],
   "source": []
  }
 ],
 "metadata": {
  "kernelspec": {
   "display_name": "Python 3",
   "language": "python",
   "name": "python3"
  },
  "language_info": {
   "codemirror_mode": {
    "name": "ipython",
    "version": 3
   },
   "file_extension": ".py",
   "mimetype": "text/x-python",
   "name": "python",
   "nbconvert_exporter": "python",
   "pygments_lexer": "ipython3",
   "version": "3.7.3"
  },
  "varInspector": {
   "cols": {
    "lenName": 16,
    "lenType": 16,
    "lenVar": 40
   },
   "kernels_config": {
    "python": {
     "delete_cmd_postfix": "",
     "delete_cmd_prefix": "del ",
     "library": "var_list.py",
     "varRefreshCmd": "print(var_dic_list())"
    },
    "r": {
     "delete_cmd_postfix": ") ",
     "delete_cmd_prefix": "rm(",
     "library": "var_list.r",
     "varRefreshCmd": "cat(var_dic_list()) "
    }
   },
   "types_to_exclude": [
    "module",
    "function",
    "builtin_function_or_method",
    "instance",
    "_Feature"
   ],
   "window_display": false
  }
 },
 "nbformat": 4,
 "nbformat_minor": 4
}
