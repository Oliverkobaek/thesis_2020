{
 "cells": [
  {
   "cell_type": "code",
   "execution_count": 57,
   "metadata": {},
   "outputs": [],
   "source": [
    "import pandas as pd\n",
    "import numpy as np\n",
    "from matplotlib import pyplot as plt\n",
    "%matplotlib inline\n",
    "import seaborn as sns\n",
    "import scipy.stats\n",
    "import scipy.optimize\n",
    "import numdifftools as nd\n",
    "from numdifftools import Jacobian, Hessian\n",
    "sns.set()"
   ]
  },
  {
   "cell_type": "code",
   "execution_count": 58,
   "metadata": {},
   "outputs": [],
   "source": [
    "pd.set_option('precision', 2)\n",
    "pd.set_option('display.float_format', lambda x: '%.2f' % x)"
   ]
  },
  {
   "cell_type": "code",
   "execution_count": 59,
   "metadata": {},
   "outputs": [],
   "source": [
    "# BYMARKEDER\n",
    "#df = pd.read_csv(\"https://raw.githubusercontent.com/Oliverkobaek/thesis_2020/master/Bresnahan/by%20markeder/Bresnahan_data_by.csv\")\n",
    "\n",
    "# KOMMUNEMARKEDER\n",
    "df = pd.read_csv(\"https://raw.githubusercontent.com/Oliverkobaek/thesis_2020/master/Bresnahan/Bresnahan_data_full_l%C3%A6s%C3%B8.csv\")\n",
    "\n",
    "df = df.drop(['Unnamed: 0'], axis=1)"
   ]
  },
  {
   "cell_type": "code",
   "execution_count": 60,
   "metadata": {},
   "outputs": [
    {
     "data": {
      "text/html": [
       "<div>\n",
       "<style scoped>\n",
       "    .dataframe tbody tr th:only-of-type {\n",
       "        vertical-align: middle;\n",
       "    }\n",
       "\n",
       "    .dataframe tbody tr th {\n",
       "        vertical-align: top;\n",
       "    }\n",
       "\n",
       "    .dataframe thead th {\n",
       "        text-align: right;\n",
       "    }\n",
       "</style>\n",
       "<table border=\"1\" class=\"dataframe\">\n",
       "  <thead>\n",
       "    <tr style=\"text-align: right;\">\n",
       "      <th></th>\n",
       "      <th>Kommune</th>\n",
       "      <th>ALDER</th>\n",
       "      <th>d65</th>\n",
       "      <th>d17</th>\n",
       "      <th>samlet_ind</th>\n",
       "      <th>Besk</th>\n",
       "      <th>Besk1864</th>\n",
       "      <th>DK</th>\n",
       "      <th>Befolkning</th>\n",
       "      <th>markedsvaerdix</th>\n",
       "      <th>yderkom</th>\n",
       "      <th>antal_apo</th>\n",
       "      <th>År</th>\n",
       "    </tr>\n",
       "  </thead>\n",
       "  <tbody>\n",
       "    <tr>\n",
       "      <th>0</th>\n",
       "      <td>101</td>\n",
       "      <td>36.10</td>\n",
       "      <td>0.11</td>\n",
       "      <td>0.17</td>\n",
       "      <td>197499.87</td>\n",
       "      <td>0.55</td>\n",
       "      <td>0.73</td>\n",
       "      <td>0.79</td>\n",
       "      <td>518574</td>\n",
       "      <td>2068229.73</td>\n",
       "      <td>0</td>\n",
       "      <td>26</td>\n",
       "      <td>2008</td>\n",
       "    </tr>\n",
       "    <tr>\n",
       "      <th>1</th>\n",
       "      <td>147</td>\n",
       "      <td>39.68</td>\n",
       "      <td>0.16</td>\n",
       "      <td>0.17</td>\n",
       "      <td>221333.09</td>\n",
       "      <td>0.54</td>\n",
       "      <td>0.76</td>\n",
       "      <td>0.85</td>\n",
       "      <td>95029</td>\n",
       "      <td>2206108.69</td>\n",
       "      <td>0</td>\n",
       "      <td>5</td>\n",
       "      <td>2008</td>\n",
       "    </tr>\n",
       "    <tr>\n",
       "      <th>2</th>\n",
       "      <td>151</td>\n",
       "      <td>40.04</td>\n",
       "      <td>0.18</td>\n",
       "      <td>0.23</td>\n",
       "      <td>186155.49</td>\n",
       "      <td>0.49</td>\n",
       "      <td>0.77</td>\n",
       "      <td>0.88</td>\n",
       "      <td>47398</td>\n",
       "      <td>2432344.50</td>\n",
       "      <td>0</td>\n",
       "      <td>3</td>\n",
       "      <td>2008</td>\n",
       "    </tr>\n",
       "    <tr>\n",
       "      <th>3</th>\n",
       "      <td>153</td>\n",
       "      <td>40.57</td>\n",
       "      <td>0.18</td>\n",
       "      <td>0.22</td>\n",
       "      <td>172691.88</td>\n",
       "      <td>0.48</td>\n",
       "      <td>0.73</td>\n",
       "      <td>0.76</td>\n",
       "      <td>33762</td>\n",
       "      <td>1951806.28</td>\n",
       "      <td>0</td>\n",
       "      <td>2</td>\n",
       "      <td>2008</td>\n",
       "    </tr>\n",
       "    <tr>\n",
       "      <th>4</th>\n",
       "      <td>155</td>\n",
       "      <td>42.38</td>\n",
       "      <td>0.20</td>\n",
       "      <td>0.23</td>\n",
       "      <td>220357.76</td>\n",
       "      <td>0.51</td>\n",
       "      <td>0.82</td>\n",
       "      <td>0.94</td>\n",
       "      <td>13411</td>\n",
       "      <td>2977526.41</td>\n",
       "      <td>0</td>\n",
       "      <td>1</td>\n",
       "      <td>2008</td>\n",
       "    </tr>\n",
       "    <tr>\n",
       "      <th>...</th>\n",
       "      <td>...</td>\n",
       "      <td>...</td>\n",
       "      <td>...</td>\n",
       "      <td>...</td>\n",
       "      <td>...</td>\n",
       "      <td>...</td>\n",
       "      <td>...</td>\n",
       "      <td>...</td>\n",
       "      <td>...</td>\n",
       "      <td>...</td>\n",
       "      <td>...</td>\n",
       "      <td>...</td>\n",
       "      <td>...</td>\n",
       "    </tr>\n",
       "    <tr>\n",
       "      <th>1073</th>\n",
       "      <td>825</td>\n",
       "      <td>51.74</td>\n",
       "      <td>0.35</td>\n",
       "      <td>0.14</td>\n",
       "      <td>154652.82</td>\n",
       "      <td>0.47</td>\n",
       "      <td>0.73</td>\n",
       "      <td>0.93</td>\n",
       "      <td>1795</td>\n",
       "      <td>789854.05</td>\n",
       "      <td>1</td>\n",
       "      <td>0</td>\n",
       "      <td>2014</td>\n",
       "    </tr>\n",
       "    <tr>\n",
       "      <th>1074</th>\n",
       "      <td>825</td>\n",
       "      <td>51.80</td>\n",
       "      <td>0.36</td>\n",
       "      <td>0.14</td>\n",
       "      <td>156511.19</td>\n",
       "      <td>0.47</td>\n",
       "      <td>0.74</td>\n",
       "      <td>0.92</td>\n",
       "      <td>1817</td>\n",
       "      <td>547791.16</td>\n",
       "      <td>1</td>\n",
       "      <td>0</td>\n",
       "      <td>2015</td>\n",
       "    </tr>\n",
       "    <tr>\n",
       "      <th>1075</th>\n",
       "      <td>825</td>\n",
       "      <td>52.28</td>\n",
       "      <td>0.37</td>\n",
       "      <td>0.13</td>\n",
       "      <td>158750.32</td>\n",
       "      <td>0.47</td>\n",
       "      <td>0.75</td>\n",
       "      <td>0.92</td>\n",
       "      <td>1793</td>\n",
       "      <td>489477.15</td>\n",
       "      <td>1</td>\n",
       "      <td>0</td>\n",
       "      <td>2016</td>\n",
       "    </tr>\n",
       "    <tr>\n",
       "      <th>1076</th>\n",
       "      <td>825</td>\n",
       "      <td>52.95</td>\n",
       "      <td>0.38</td>\n",
       "      <td>0.13</td>\n",
       "      <td>165000.49</td>\n",
       "      <td>0.48</td>\n",
       "      <td>0.75</td>\n",
       "      <td>0.91</td>\n",
       "      <td>1807</td>\n",
       "      <td>570316.13</td>\n",
       "      <td>1</td>\n",
       "      <td>0</td>\n",
       "      <td>2017</td>\n",
       "    </tr>\n",
       "    <tr>\n",
       "      <th>1077</th>\n",
       "      <td>825</td>\n",
       "      <td>53.05</td>\n",
       "      <td>0.39</td>\n",
       "      <td>0.13</td>\n",
       "      <td>166023.23</td>\n",
       "      <td>0.49</td>\n",
       "      <td>0.76</td>\n",
       "      <td>0.91</td>\n",
       "      <td>1806</td>\n",
       "      <td>556332.47</td>\n",
       "      <td>1</td>\n",
       "      <td>0</td>\n",
       "      <td>2018</td>\n",
       "    </tr>\n",
       "  </tbody>\n",
       "</table>\n",
       "<p>1078 rows × 13 columns</p>\n",
       "</div>"
      ],
      "text/plain": [
       "      Kommune  ALDER  d65  d17  samlet_ind  Besk  Besk1864   DK  Befolkning  \\\n",
       "0         101  36.10 0.11 0.17   197499.87  0.55      0.73 0.79      518574   \n",
       "1         147  39.68 0.16 0.17   221333.09  0.54      0.76 0.85       95029   \n",
       "2         151  40.04 0.18 0.23   186155.49  0.49      0.77 0.88       47398   \n",
       "3         153  40.57 0.18 0.22   172691.88  0.48      0.73 0.76       33762   \n",
       "4         155  42.38 0.20 0.23   220357.76  0.51      0.82 0.94       13411   \n",
       "...       ...    ...  ...  ...         ...   ...       ...  ...         ...   \n",
       "1073      825  51.74 0.35 0.14   154652.82  0.47      0.73 0.93        1795   \n",
       "1074      825  51.80 0.36 0.14   156511.19  0.47      0.74 0.92        1817   \n",
       "1075      825  52.28 0.37 0.13   158750.32  0.47      0.75 0.92        1793   \n",
       "1076      825  52.95 0.38 0.13   165000.49  0.48      0.75 0.91        1807   \n",
       "1077      825  53.05 0.39 0.13   166023.23  0.49      0.76 0.91        1806   \n",
       "\n",
       "      markedsvaerdix  yderkom  antal_apo    År  \n",
       "0         2068229.73        0         26  2008  \n",
       "1         2206108.69        0          5  2008  \n",
       "2         2432344.50        0          3  2008  \n",
       "3         1951806.28        0          2  2008  \n",
       "4         2977526.41        0          1  2008  \n",
       "...              ...      ...        ...   ...  \n",
       "1073       789854.05        1          0  2014  \n",
       "1074       547791.16        1          0  2015  \n",
       "1075       489477.15        1          0  2016  \n",
       "1076       570316.13        1          0  2017  \n",
       "1077       556332.47        1          0  2018  \n",
       "\n",
       "[1078 rows x 13 columns]"
      ]
     },
     "execution_count": 60,
     "metadata": {},
     "output_type": "execute_result"
    }
   ],
   "source": [
    "df"
   ]
  },
  {
   "cell_type": "code",
   "execution_count": 61,
   "metadata": {},
   "outputs": [],
   "source": [
    "# df['Befolkning'] betyder at det er på kommuneniveau - er det korrekt?\n",
    "df['receptgrænse'] = 270000*1.02317**(df['År']-2011)\n",
    "\n",
    "år = list(range(2008,2019))\n",
    "# vi har indsat 0 i år efter 2015 for at sikre at disse markeder ikke er restrikteret\n",
    "gnsrecept = [13.1, 13.12, 13.19, 13.13, 13.24, 13.26, 13.53, 13.13, float(\"inf\") ,float(\"inf\") ,float(\"inf\")]\n",
    "gnsreceptdic = {}\n",
    "for i in range(len(gnsrecept)):\n",
    "    gnsreceptdic[år[i]] = gnsrecept[i]\n",
    "    \n",
    "restriction = []\n",
    "\n",
    "for år in range(2008,2019):\n",
    "    liste = list((df['Befolkning'][df['År']==år]*gnsreceptdic[år]-df['receptgrænse'][df['År']==år]*df['antal_apo'][df['År']==år])>=df['receptgrænse'][df['År']==år])\n",
    "    for i in liste:\n",
    "        restriction.append(i)\n",
    "        \n",
    "df['restriction'] = restriction"
   ]
  },
  {
   "cell_type": "code",
   "execution_count": 62,
   "metadata": {},
   "outputs": [],
   "source": [
    "## FIX YDERKOMMUNER ##\n",
    "df_komkode_yder = pd.read_excel('kommunerkoderyder.xlsx')\n",
    "df = df.merge(df_komkode_yder, on = \"Kommune\")\n",
    "df  = df.drop('yderkom', axis = 1)\n",
    "df = df.rename(columns={'Yderkommuner':'yderkom'})"
   ]
  },
  {
   "cell_type": "code",
   "execution_count": 63,
   "metadata": {},
   "outputs": [
    {
     "name": "stderr",
     "output_type": "stream",
     "text": [
      "C:\\PythonMan\\lib\\site-packages\\pandas\\core\\computation\\expressions.py:200: UserWarning: evaluating in Python space because the '*' operator is not supported by numexpr for the bool dtype, use '&' instead\n",
      "  warnings.warn(\n"
     ]
    }
   ],
   "source": [
    "df['yder_mono'] = ((df['antal_apo']<=1)* (df['yderkom']==1))\n",
    "df['yder_mono'] = df['yder_mono'].astype(int)"
   ]
  },
  {
   "cell_type": "code",
   "execution_count": 64,
   "metadata": {},
   "outputs": [],
   "source": [
    "# KOMMUNER\n",
    "df['logbefolkning'] = df['Befolkning']/1000#df['By_befolkning']/1000\n",
    "\n",
    "# BYMARKEDER\n",
    "#df['logbefolkning'] = df['By_befolkning']/1000#\n",
    "\n",
    "\n",
    "###\n",
    "df['logmarkedsvalue'] = df['markedsvaerdix']/100000 #np.log()\n",
    "df['logindkomst'] = df['samlet_ind']/100000 #np.log()\n",
    "\n",
    "# Unrestricted markets\n",
    "#df = df[df['restriction']==True]"
   ]
  },
  {
   "cell_type": "code",
   "execution_count": 65,
   "metadata": {},
   "outputs": [
    {
     "data": {
      "text/plain": [
       "{'divide': 'ignore', 'over': 'warn', 'under': 'ignore', 'invalid': 'warn'}"
      ]
     },
     "execution_count": 65,
     "metadata": {},
     "output_type": "execute_result"
    }
   ],
   "source": [
    "np.seterr(divide = 'ignore') "
   ]
  },
  {
   "cell_type": "code",
   "execution_count": 66,
   "metadata": {},
   "outputs": [],
   "source": [
    "def V(df, Ni, alpha=np.ones(5), beta=np.ones(6)):\n",
    "    \"\"\"Per-capita variable profit\n",
    "    \n",
    "    df: data\n",
    "    Ni: number of incumbents in market i\n",
    "    alpha: alpha parameters\n",
    "    beta: beta parameter\n",
    "    \"\"\"\n",
    "    n = np.min([5, Ni])\n",
    "#     n = Ni\n",
    "    a = 0\n",
    "    for i in range(1,n):\n",
    "        a = a + alpha[i]\n",
    "    \n",
    "\n",
    "    Z = np.c_[df.d65, df.d17, df.logindkomst, df.Besk1864, df.DK, df.yder_mono]# np.log(), \n",
    "\n",
    "    # W = df.LANDV\n",
    "    # X = np.c_[W, Z]\n",
    "\n",
    "    X = np.c_[Z]\n",
    "    \n",
    "    \n",
    "    profit = alpha[0] + X @ beta - a\n",
    "    return profit\n",
    "\n",
    "def F(df, Ni, gamma=np.ones(5)):\n",
    "    n = np.min([5, Ni])\n",
    "#     n = Ni\n",
    "    g = 0\n",
    "    # gamma 2 through gamma 5 (indices 1 through 4)\n",
    "    for i in range(1,n):\n",
    "        g = g + gamma[i]\n",
    "\n",
    "    fixed_cost = gamma[0] + gamma[5]*df.logmarkedsvalue + g\n",
    "    return fixed_cost\n",
    "\n",
    "#def S_func(df, lam):\n",
    "def S_func(df, lam): #, lam\n",
    "    S =   lam * df.logbefolkning #np.log() #\n",
    "    return S\n",
    "\n",
    "\n",
    "def neg_log_lik(theta=np.ones(18), market='antal_apo', df=df):#, df=None):\n",
    "    lam = theta[0]\n",
    "    beta = theta[1:7]\n",
    "    alpha = theta[7:12]\n",
    "    gamma = theta[12:18]\n",
    "#    beta = theta[0:5]\n",
    "#    alpha = theta[5:10]\n",
    "#    gamma = theta[10:16]\n",
    "    \n",
    "    \n",
    "    Phi = scipy.stats.norm.cdf\n",
    "    \n",
    "    S = S_func(df, lam) #, lam\n",
    "\n",
    "    \n",
    "    P_U = [0] * 6\n",
    "    P_R = [0] * 6\n",
    "    Pi_bar = lambda N: S * V(df, N, alpha=alpha, beta=beta) - F(df, N, gamma=gamma)\n",
    "    P_U[0] = np.log( 1 - Phi(Pi_bar(0)) )\n",
    "    P_R[0] = np.log( 1 - Phi(Pi_bar(0)) )    \n",
    "    P_U[5] = np.log( Phi(Pi_bar(5)) )\n",
    "    P_R[5] = np.log( Phi(Pi_bar(5)) )\n",
    "    for i in range(1,5):\n",
    "        P_U[i] = np.log( Phi(Pi_bar(i)) - Phi(Pi_bar(i+1)) )\n",
    "    for i in range(1,5):\n",
    "        P_R[i] = np.log( Phi(Pi_bar(i)))\n",
    "        \n",
    "    for i in range(6):\n",
    "        P_U[i][P_U[i] == -np.inf] = -100000000\n",
    "    for i in range(6):\n",
    "        P_R[i][P_R[i] == -np.inf] = -100000000\n",
    "        \n",
    "        \n",
    "    log_lik = 0 \n",
    "    for i in range(5):\n",
    "        log_lik = log_lik + np.sum(P_R[i] * (df[market] == i) * (df['restriction'] == 0))\n",
    "    log_lik = log_lik + np.sum(P_R[5] * (df[market] >= 5) * (df['restriction'] == 0))\n",
    "    for i in range(5):\n",
    "        log_lik = log_lik + np.sum(P_U[i] * (df[market] == i) * (df['restriction'] == 1))\n",
    "    log_lik = log_lik + np.sum(P_U[5] * (df[market] >= 5) * (df['restriction'] == 1))\n",
    "\n",
    "    return -log_lik\n",
    "\n",
    "\n",
    "def theta_to_param_dict(theta):\n",
    "    lam = theta[0]\n",
    "    beta = theta[1:7]\n",
    "    alpha = theta[7:12]\n",
    "    gamma = theta[12:18]\n",
    "#    beta = theta[0:5]\n",
    "#    alpha = theta[5:10]\n",
    "#    gamma = theta[10:16]\n",
    "    \n",
    "    \n",
    "    d = {'lam': lam, 'beta': beta, 'alpha': alpha, 'gamma': gamma, 'theta': theta} \n",
    "    return d"
   ]
  },
  {
   "cell_type": "code",
   "execution_count": 67,
   "metadata": {},
   "outputs": [
    {
     "data": {
      "text/plain": [
       "1621.1016588652974"
      ]
     },
     "execution_count": 67,
     "metadata": {},
     "output_type": "execute_result"
    }
   ],
   "source": [
    "theta0 = np.ones(18) * 0.1\n",
    "neg_log_lik(df=df, theta=theta0)"
   ]
  },
  {
   "cell_type": "code",
   "execution_count": 72,
   "metadata": {},
   "outputs": [],
   "source": [
    "df = df.sample(frac=1, random_state = 3).reset_index(drop=True)"
   ]
  },
  {
   "cell_type": "code",
   "execution_count": 73,
   "metadata": {},
   "outputs": [],
   "source": [
    "df = df.sort_values('antal_apo', ascending = False)\n",
    "df = df.reset_index(drop=True)"
   ]
  },
  {
   "cell_type": "code",
   "execution_count": 74,
   "metadata": {},
   "outputs": [
    {
     "name": "stdout",
     "output_type": "stream",
     "text": [
      "Wall time: 4min 19s\n"
     ]
    }
   ],
   "source": [
    "%%time\n",
    "ba = [-np.inf] * 7\n",
    "bb = [0] * 10\n",
    "lower_bounds = [*ba, *bb, -np.inf]\n",
    "upper_bounds = [np.inf] * 18\n",
    "bounds = list(zip(lower_bounds, upper_bounds))\n",
    "\n",
    "\n",
    "theta0 = np.ones(18) * 0.1\n",
    "nll = lambda theta: neg_log_lik(theta=theta, df=df)\n",
    "out = scipy.optimize.minimize(nll, theta0, bounds=bounds,\n",
    "    options={'disp': False, 'maxiter': 10000}\n",
    "    )"
   ]
  },
  {
   "cell_type": "code",
   "execution_count": 75,
   "metadata": {},
   "outputs": [
    {
     "data": {
      "text/plain": [
       "      fun: 397.15286039420084\n",
       " hess_inv: <18x18 LbfgsInvHessProduct with dtype=float64>\n",
       "      jac: array([ 7.54084799e-02, -1.74208026e-01,  3.31522187e-01,  1.76670483e+00,\n",
       "        3.04112291e-02,  1.19954962e+00, -3.13832514e-01,  1.29597311e+00,\n",
       "       -1.61343224e+00, -1.78314394e+00, -1.52166422e+00,  1.10154207e+02,\n",
       "       -6.82410932e-01,  2.66685447e+00, -8.13145112e-02,  1.10572955e+00,\n",
       "       -5.11221285e-01,  1.35381697e+00])\n",
       "  message: b'STOP: TOTAL NO. of f AND g EVALUATIONS EXCEEDS LIMIT'\n",
       "     nfev: 15010\n",
       "      nit: 667\n",
       "     njev: 790\n",
       "   status: 1\n",
       "  success: False\n",
       "        x: array([ 1.06637906,  0.09988622,  0.05721341, -0.01471634, -0.22178922,\n",
       "        0.07824096, -0.87721013,  1.5545037 ,  1.37302829,  0.00425096,\n",
       "        0.02473087,  0.        ,  1.79236361,  0.        ,  1.34997911,\n",
       "        0.        ,  0.82834734, -0.04652529])"
      ]
     },
     "execution_count": 75,
     "metadata": {},
     "output_type": "execute_result"
    }
   ],
   "source": [
    "out"
   ]
  },
  {
   "cell_type": "code",
   "execution_count": 49,
   "metadata": {},
   "outputs": [
    {
     "data": {
      "text/plain": [
       "array([1.62654645, 0.11834581, 0.17956348, 0.03351646, 0.7091238 ,\n",
       "       0.20687723, 0.40042034, 0.31554379, 0.35944401, 0.14553163,\n",
       "       0.03864912, 0.03045725, 2.48460612, 0.03045725, 1.4216678 ,\n",
       "       0.03045725, 0.55687727, 0.13294995])"
      ]
     },
     "execution_count": 49,
     "metadata": {},
     "output_type": "execute_result"
    }
   ],
   "source": [
    "N = len(df) #Korriger så det passer til antal observationer. \n",
    "test = out.hess_inv.todense()/N\n",
    "se3 = np.sqrt(np.diag(test))\n",
    "se3"
   ]
  },
  {
   "cell_type": "code",
   "execution_count": 50,
   "metadata": {},
   "outputs": [
    {
     "data": {
      "text/html": [
       "<div>\n",
       "<style scoped>\n",
       "    .dataframe tbody tr th:only-of-type {\n",
       "        vertical-align: middle;\n",
       "    }\n",
       "\n",
       "    .dataframe tbody tr th {\n",
       "        vertical-align: top;\n",
       "    }\n",
       "\n",
       "    .dataframe thead th {\n",
       "        text-align: right;\n",
       "    }\n",
       "</style>\n",
       "<table border=\"1\" class=\"dataframe\">\n",
       "  <thead>\n",
       "    <tr style=\"text-align: right;\">\n",
       "      <th></th>\n",
       "      <th>parameters</th>\n",
       "      <th>std err diag</th>\n",
       "    </tr>\n",
       "  </thead>\n",
       "  <tbody>\n",
       "    <tr>\n",
       "      <th>lambda - befolkning</th>\n",
       "      <td>1.22</td>\n",
       "      <td>1.63</td>\n",
       "    </tr>\n",
       "    <tr>\n",
       "      <th>beta_1 - d65</th>\n",
       "      <td>0.09</td>\n",
       "      <td>0.12</td>\n",
       "    </tr>\n",
       "    <tr>\n",
       "      <th>beta_2 - d17</th>\n",
       "      <td>0.05</td>\n",
       "      <td>0.18</td>\n",
       "    </tr>\n",
       "    <tr>\n",
       "      <th>beta_3 - indkomst</th>\n",
       "      <td>-0.01</td>\n",
       "      <td>0.03</td>\n",
       "    </tr>\n",
       "    <tr>\n",
       "      <th>beta_4 - besk</th>\n",
       "      <td>-0.19</td>\n",
       "      <td>0.71</td>\n",
       "    </tr>\n",
       "    <tr>\n",
       "      <th>beta_5 - Foreigner</th>\n",
       "      <td>0.07</td>\n",
       "      <td>0.21</td>\n",
       "    </tr>\n",
       "    <tr>\n",
       "      <th>beta_6 - yderkom</th>\n",
       "      <td>-0.90</td>\n",
       "      <td>0.40</td>\n",
       "    </tr>\n",
       "    <tr>\n",
       "      <th>alpha_1</th>\n",
       "      <td>1.52</td>\n",
       "      <td>0.32</td>\n",
       "    </tr>\n",
       "    <tr>\n",
       "      <th>alpha_2</th>\n",
       "      <td>1.36</td>\n",
       "      <td>0.36</td>\n",
       "    </tr>\n",
       "    <tr>\n",
       "      <th>alpha_3</th>\n",
       "      <td>0.01</td>\n",
       "      <td>0.15</td>\n",
       "    </tr>\n",
       "    <tr>\n",
       "      <th>alpha_4</th>\n",
       "      <td>0.02</td>\n",
       "      <td>0.04</td>\n",
       "    </tr>\n",
       "    <tr>\n",
       "      <th>alpha_5</th>\n",
       "      <td>0.00</td>\n",
       "      <td>0.03</td>\n",
       "    </tr>\n",
       "    <tr>\n",
       "      <th>gamma_1</th>\n",
       "      <td>1.93</td>\n",
       "      <td>2.48</td>\n",
       "    </tr>\n",
       "    <tr>\n",
       "      <th>gamma_2</th>\n",
       "      <td>0.00</td>\n",
       "      <td>0.03</td>\n",
       "    </tr>\n",
       "    <tr>\n",
       "      <th>gamma_3</th>\n",
       "      <td>1.29</td>\n",
       "      <td>1.42</td>\n",
       "    </tr>\n",
       "    <tr>\n",
       "      <th>gamma_4</th>\n",
       "      <td>0.00</td>\n",
       "      <td>0.03</td>\n",
       "    </tr>\n",
       "    <tr>\n",
       "      <th>gamma_5</th>\n",
       "      <td>0.83</td>\n",
       "      <td>0.56</td>\n",
       "    </tr>\n",
       "    <tr>\n",
       "      <th>gamma_6 - Landvalue</th>\n",
       "      <td>-0.05</td>\n",
       "      <td>0.13</td>\n",
       "    </tr>\n",
       "  </tbody>\n",
       "</table>\n",
       "</div>"
      ],
      "text/plain": [
       "                     parameters  std err diag\n",
       "lambda - befolkning        1.22          1.63\n",
       "beta_1 - d65               0.09          0.12\n",
       "beta_2 - d17               0.05          0.18\n",
       "beta_3 - indkomst         -0.01          0.03\n",
       "beta_4 - besk             -0.19          0.71\n",
       "beta_5 - Foreigner         0.07          0.21\n",
       "beta_6 - yderkom          -0.90          0.40\n",
       "alpha_1                    1.52          0.32\n",
       "alpha_2                    1.36          0.36\n",
       "alpha_3                    0.01          0.15\n",
       "alpha_4                    0.02          0.04\n",
       "alpha_5                    0.00          0.03\n",
       "gamma_1                    1.93          2.48\n",
       "gamma_2                    0.00          0.03\n",
       "gamma_3                    1.29          1.42\n",
       "gamma_4                    0.00          0.03\n",
       "gamma_5                    0.83          0.56\n",
       "gamma_6 - Landvalue       -0.05          0.13"
      ]
     },
     "execution_count": 50,
     "metadata": {},
     "output_type": "execute_result"
    }
   ],
   "source": [
    "# Hfun = nd.Hessian(nll, full_output=True)\n",
    "# hessian_nd, info= Hfun(out['x'])\n",
    "# se = np.sqrt(np.diag(np.linalg.inv(hessian_nd)))\n",
    "results = pd.DataFrame({'parameters':out['x'], \"std err diag\":se3})\n",
    "results.index=['lambda - befolkning','beta_1 - d65','beta_2 - d17','beta_3 - indkomst','beta_4 - besk','beta_5 - Foreigner', 'beta_6 - yderkom' ,'alpha_1','alpha_2','alpha_3','alpha_4','alpha_5','gamma_1','gamma_2','gamma_3','gamma_4','gamma_5', 'gamma_6 - Landvalue'] #,'gamma6' \n",
    "results"
   ]
  },
  {
   "cell_type": "code",
   "execution_count": 51,
   "metadata": {},
   "outputs": [],
   "source": [
    "hat_theta = theta_to_param_dict(out.x)"
   ]
  },
  {
   "cell_type": "code",
   "execution_count": 52,
   "metadata": {},
   "outputs": [
    {
     "name": "stdout",
     "output_type": "stream",
     "text": [
      "1.233647283968558\n",
      "[1.40808094]\n",
      "1.233647283968558\n",
      "[0.04545213]\n",
      "2.52494199041006\n",
      "[0.03986334]\n",
      "2.52494199041006\n",
      "[0.01827242]\n",
      "3.358752341861583\n",
      "[0.01827242]\n"
     ]
    }
   ],
   "source": [
    "def calcS(df, theta):\n",
    "    d = theta_to_param_dict(theta)\n",
    "    S_grid = np.zeros(5)\n",
    "    \n",
    "    dfm = df.mean()\n",
    "    for i in range(5):\n",
    "        n = i + 1\n",
    "        S_grid[i] = F(dfm, n, d['gamma']) / V(dfm, n, d['alpha'], d['beta'])\n",
    "        print(F(dfm, n, d['gamma']) )\n",
    "        print(V(dfm, n, d['alpha'], d['beta']))\n",
    "    return S_grid\n",
    "\n",
    "S_vals = calcS(df, out.x)"
   ]
  },
  {
   "cell_type": "code",
   "execution_count": 53,
   "metadata": {},
   "outputs": [
    {
     "data": {
      "text/plain": [
       "array([  0.87611958,  27.14168151,  63.33995759, 138.18323129,\n",
       "       183.81541179])"
      ]
     },
     "execution_count": 53,
     "metadata": {},
     "output_type": "execute_result"
    }
   ],
   "source": [
    "S_vals"
   ]
  },
  {
   "cell_type": "code",
   "execution_count": 54,
   "metadata": {},
   "outputs": [
    {
     "data": {
      "text/html": [
       "<div>\n",
       "<style scoped>\n",
       "    .dataframe tbody tr th:only-of-type {\n",
       "        vertical-align: middle;\n",
       "    }\n",
       "\n",
       "    .dataframe tbody tr th {\n",
       "        vertical-align: top;\n",
       "    }\n",
       "\n",
       "    .dataframe thead th {\n",
       "        text-align: right;\n",
       "    }\n",
       "</style>\n",
       "<table border=\"1\" class=\"dataframe\">\n",
       "  <thead>\n",
       "    <tr style=\"text-align: right;\">\n",
       "      <th></th>\n",
       "      <th>S_1</th>\n",
       "      <th>S_2</th>\n",
       "      <th>S_3</th>\n",
       "      <th>S_4</th>\n",
       "      <th>S_5</th>\n",
       "    </tr>\n",
       "  </thead>\n",
       "  <tbody>\n",
       "    <tr>\n",
       "      <th>Apoteker</th>\n",
       "      <td>0.88</td>\n",
       "      <td>27.14</td>\n",
       "      <td>63.34</td>\n",
       "      <td>138.18</td>\n",
       "      <td>183.82</td>\n",
       "    </tr>\n",
       "  </tbody>\n",
       "</table>\n",
       "</div>"
      ],
      "text/plain": [
       "          S_1   S_2   S_3    S_4    S_5\n",
       "Apoteker 0.88 27.14 63.34 138.18 183.82"
      ]
     },
     "execution_count": 54,
     "metadata": {},
     "output_type": "execute_result"
    }
   ],
   "source": [
    "table5A_left = pd.DataFrame({'Apoteker':S_vals}).T\n",
    "table5A_left.columns = ['S_1', 'S_2', 'S_3', 'S_4', 'S_5']\n",
    "table5A_left"
   ]
  },
  {
   "cell_type": "code",
   "execution_count": 55,
   "metadata": {},
   "outputs": [],
   "source": [
    "a = [S_vals[i+1]/S_vals[i] * ((i+1)/(i+2)) for i in range(4)]\n",
    "table5A_right = pd.DataFrame(a).T\n",
    "table5A_right.columns = ['s2/s1', 's3/s2', 's4/s3', 's5/s4']"
   ]
  },
  {
   "cell_type": "code",
   "execution_count": 56,
   "metadata": {},
   "outputs": [
    {
     "data": {
      "text/html": [
       "<div>\n",
       "<style scoped>\n",
       "    .dataframe tbody tr th:only-of-type {\n",
       "        vertical-align: middle;\n",
       "    }\n",
       "\n",
       "    .dataframe tbody tr th {\n",
       "        vertical-align: top;\n",
       "    }\n",
       "\n",
       "    .dataframe thead th {\n",
       "        text-align: right;\n",
       "    }\n",
       "</style>\n",
       "<table border=\"1\" class=\"dataframe\">\n",
       "  <thead>\n",
       "    <tr style=\"text-align: right;\">\n",
       "      <th></th>\n",
       "      <th>s2/s1</th>\n",
       "      <th>s3/s2</th>\n",
       "      <th>s4/s3</th>\n",
       "      <th>s5/s4</th>\n",
       "    </tr>\n",
       "  </thead>\n",
       "  <tbody>\n",
       "    <tr>\n",
       "      <th>0</th>\n",
       "      <td>15.49</td>\n",
       "      <td>1.56</td>\n",
       "      <td>1.64</td>\n",
       "      <td>1.06</td>\n",
       "    </tr>\n",
       "  </tbody>\n",
       "</table>\n",
       "</div>"
      ],
      "text/plain": [
       "   s2/s1  s3/s2  s4/s3  s5/s4\n",
       "0  15.49   1.56   1.64   1.06"
      ]
     },
     "execution_count": 56,
     "metadata": {},
     "output_type": "execute_result"
    }
   ],
   "source": [
    "table5A_right"
   ]
  },
  {
   "cell_type": "code",
   "execution_count": 64,
   "metadata": {},
   "outputs": [],
   "source": [
    "SN_S5_ratio = S_vals[5-1]* np.arange(1,5+1) / (S_vals * 5)"
   ]
  },
  {
   "cell_type": "code",
   "execution_count": 65,
   "metadata": {},
   "outputs": [
    {
     "data": {
      "text/plain": [
       "array([15.64361973,  1.28355154,  1.16673055,  1.02664433,  1.        ])"
      ]
     },
     "execution_count": 65,
     "metadata": {},
     "output_type": "execute_result"
    }
   ],
   "source": [
    "SN_S5_ratio"
   ]
  },
  {
   "cell_type": "code",
   "execution_count": 66,
   "metadata": {},
   "outputs": [
    {
     "data": {
      "image/png": "[encoded data removed]",
      "text/plain": [
       "<Figure size 648x504 with 1 Axes>"
      ]
     },
     "metadata": {},
     "output_type": "display_data"
    }
   ],
   "source": [
    "BIG = 18\n",
    "fig = plt.figure(figsize=(9,7))\n",
    "plt.plot([1,2,3,4,5], SN_S5_ratio, 'D', label='Apoteker')\n",
    "ax = fig.get_axes()[0]\n",
    "plt.legend(fontsize=BIG)\n",
    "plt.xlim(0,6)\n",
    "plt.ylim(0.8, 20)\n",
    "plt.title('Industry ratios of $s_5$ to $s_N$ by $N$', fontsize=BIG)\n",
    "plt.xlabel('Number of Firms', fontsize=BIG)\n",
    "plt.ylabel('$s_5/s_N$', fontsize=BIG);\n",
    "# ax.set_ylabel('$s_5/s_N$', fontsize=40)"
   ]
  }
 ],
 "metadata": {
  "kernelspec": {
   "display_name": "Python 3",
   "language": "python",
   "name": "python3"
  },
  "language_info": {
   "codemirror_mode": {
    "name": "ipython",
    "version": 3
   },
   "file_extension": ".py",
   "mimetype": "text/x-python",
   "name": "python",
   "nbconvert_exporter": "python",
   "pygments_lexer": "ipython3",
   "version": "3.8.5"
  },
  "varInspector": {
   "cols": {
    "lenName": 16,
    "lenType": 16,
    "lenVar": 40
   },
   "kernels_config": {
    "python": {
     "delete_cmd_postfix": "",
     "delete_cmd_prefix": "del ",
     "library": "var_list.py",
     "varRefreshCmd": "print(var_dic_list())"
    },
    "r": {
     "delete_cmd_postfix": ") ",
     "delete_cmd_prefix": "rm(",
     "library": "var_list.r",
     "varRefreshCmd": "cat(var_dic_list()) "
    }
   },
   "types_to_exclude": [
    "module",
    "function",
    "builtin_function_or_method",
    "instance",
    "_Feature"
   ],
   "window_display": false
  }
 },
 "nbformat": 4,
 "nbformat_minor": 4
}
