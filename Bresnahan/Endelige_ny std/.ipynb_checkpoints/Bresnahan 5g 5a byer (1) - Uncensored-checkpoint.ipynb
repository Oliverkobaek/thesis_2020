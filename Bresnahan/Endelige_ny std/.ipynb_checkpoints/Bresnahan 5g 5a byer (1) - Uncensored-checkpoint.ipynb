{
 "cells": [
  {
   "cell_type": "code",
   "execution_count": 30,
   "metadata": {},
   "outputs": [],
   "source": [
    "import pandas as pd\n",
    "import numpy as np\n",
    "from matplotlib import pyplot as plt\n",
    "%matplotlib inline\n",
    "import seaborn as sns\n",
    "import scipy.stats\n",
    "import scipy.optimize\n",
    "import numdifftools as nd\n",
    "from numdifftools import Jacobian, Hessian\n",
    "sns.set()"
   ]
  },
  {
   "cell_type": "code",
   "execution_count": 31,
   "metadata": {},
   "outputs": [],
   "source": [
    "pd.set_option('precision', 2)\n",
    "pd.set_option('display.float_format', lambda x: '%.2f' % x)"
   ]
  },
  {
   "cell_type": "code",
   "execution_count": 32,
   "metadata": {},
   "outputs": [],
   "source": [
    "# BYMARKEDER\n",
    "df = pd.read_csv(\"https://raw.githubusercontent.com/Oliverkobaek/thesis_2020/master/Bresnahan/by%20markeder/Bresnahan_data_by.csv\")\n",
    "\n",
    "# KOMMUNEMARKEDER\n",
    "#df = pd.read_csv(\"https://raw.githubusercontent.com/Oliverkobaek/thesis_2020/master/Bresnahan/Bresnahan_data_full_l%C3%A6s%C3%B8.csv\")\n",
    "\n",
    "df = df.drop(['Unnamed: 0'], axis=1)"
   ]
  },
  {
   "cell_type": "code",
   "execution_count": 33,
   "metadata": {},
   "outputs": [
    {
     "data": {
      "text/html": [
       "<div>\n",
       "<style scoped>\n",
       "    .dataframe tbody tr th:only-of-type {\n",
       "        vertical-align: middle;\n",
       "    }\n",
       "\n",
       "    .dataframe tbody tr th {\n",
       "        vertical-align: top;\n",
       "    }\n",
       "\n",
       "    .dataframe thead th {\n",
       "        text-align: right;\n",
       "    }\n",
       "</style>\n",
       "<table border=\"1\" class=\"dataframe\">\n",
       "  <thead>\n",
       "    <tr style=\"text-align: right;\">\n",
       "      <th></th>\n",
       "      <th>Kommune</th>\n",
       "      <th>by</th>\n",
       "      <th>By_befolkning</th>\n",
       "      <th>ALDER</th>\n",
       "      <th>d65</th>\n",
       "      <th>d17</th>\n",
       "      <th>samlet_ind</th>\n",
       "      <th>Besk</th>\n",
       "      <th>Besk1864</th>\n",
       "      <th>DK</th>\n",
       "      <th>Befolkning</th>\n",
       "      <th>markedsvaerdix</th>\n",
       "      <th>yderkom</th>\n",
       "      <th>År</th>\n",
       "      <th>antal_apo</th>\n",
       "    </tr>\n",
       "  </thead>\n",
       "  <tbody>\n",
       "    <tr>\n",
       "      <th>0</th>\n",
       "      <td>101</td>\n",
       "      <td>København</td>\n",
       "      <td>528208</td>\n",
       "      <td>35.67</td>\n",
       "      <td>0.10</td>\n",
       "      <td>0.17</td>\n",
       "      <td>195272.57</td>\n",
       "      <td>0.53</td>\n",
       "      <td>0.70</td>\n",
       "      <td>0.78</td>\n",
       "      <td>539542</td>\n",
       "      <td>1564751.11</td>\n",
       "      <td>0</td>\n",
       "      <td>2010</td>\n",
       "      <td>17</td>\n",
       "    </tr>\n",
       "    <tr>\n",
       "      <th>1</th>\n",
       "      <td>147</td>\n",
       "      <td>Frederiksberg</td>\n",
       "      <td>100115</td>\n",
       "      <td>39.06</td>\n",
       "      <td>0.16</td>\n",
       "      <td>0.17</td>\n",
       "      <td>222330.66</td>\n",
       "      <td>0.52</td>\n",
       "      <td>0.74</td>\n",
       "      <td>0.84</td>\n",
       "      <td>98782</td>\n",
       "      <td>1783339.80</td>\n",
       "      <td>0</td>\n",
       "      <td>2010</td>\n",
       "      <td>5</td>\n",
       "    </tr>\n",
       "    <tr>\n",
       "      <th>2</th>\n",
       "      <td>230</td>\n",
       "      <td>Rudersdal</td>\n",
       "      <td>40199</td>\n",
       "      <td>41.74</td>\n",
       "      <td>0.21</td>\n",
       "      <td>0.24</td>\n",
       "      <td>269124.85</td>\n",
       "      <td>0.48</td>\n",
       "      <td>0.78</td>\n",
       "      <td>0.90</td>\n",
       "      <td>54765</td>\n",
       "      <td>2904041.88</td>\n",
       "      <td>0</td>\n",
       "      <td>2010</td>\n",
       "      <td>3</td>\n",
       "    </tr>\n",
       "    <tr>\n",
       "      <th>3</th>\n",
       "      <td>240</td>\n",
       "      <td>Ølstykke-Stenløse</td>\n",
       "      <td>23556</td>\n",
       "      <td>38.39</td>\n",
       "      <td>0.15</td>\n",
       "      <td>0.27</td>\n",
       "      <td>223787.65</td>\n",
       "      <td>0.52</td>\n",
       "      <td>0.83</td>\n",
       "      <td>0.94</td>\n",
       "      <td>41614</td>\n",
       "      <td>1461145.92</td>\n",
       "      <td>0</td>\n",
       "      <td>2010</td>\n",
       "      <td>1</td>\n",
       "    </tr>\n",
       "    <tr>\n",
       "      <th>4</th>\n",
       "      <td>240</td>\n",
       "      <td>Veksø</td>\n",
       "      <td>1891</td>\n",
       "      <td>38.39</td>\n",
       "      <td>0.15</td>\n",
       "      <td>0.27</td>\n",
       "      <td>223787.65</td>\n",
       "      <td>0.52</td>\n",
       "      <td>0.83</td>\n",
       "      <td>0.94</td>\n",
       "      <td>41614</td>\n",
       "      <td>1461145.92</td>\n",
       "      <td>0</td>\n",
       "      <td>2010</td>\n",
       "      <td>0</td>\n",
       "    </tr>\n",
       "    <tr>\n",
       "      <th>...</th>\n",
       "      <td>...</td>\n",
       "      <td>...</td>\n",
       "      <td>...</td>\n",
       "      <td>...</td>\n",
       "      <td>...</td>\n",
       "      <td>...</td>\n",
       "      <td>...</td>\n",
       "      <td>...</td>\n",
       "      <td>...</td>\n",
       "      <td>...</td>\n",
       "      <td>...</td>\n",
       "      <td>...</td>\n",
       "      <td>...</td>\n",
       "      <td>...</td>\n",
       "      <td>...</td>\n",
       "    </tr>\n",
       "    <tr>\n",
       "      <th>3496</th>\n",
       "      <td>820</td>\n",
       "      <td>Løgstør</td>\n",
       "      <td>4112</td>\n",
       "      <td>43.50</td>\n",
       "      <td>0.23</td>\n",
       "      <td>0.20</td>\n",
       "      <td>166023.23</td>\n",
       "      <td>0.49</td>\n",
       "      <td>0.76</td>\n",
       "      <td>0.91</td>\n",
       "      <td>37121</td>\n",
       "      <td>960791.40</td>\n",
       "      <td>0</td>\n",
       "      <td>2018</td>\n",
       "      <td>1</td>\n",
       "    </tr>\n",
       "    <tr>\n",
       "      <th>3497</th>\n",
       "      <td>183</td>\n",
       "      <td>Ishøj</td>\n",
       "      <td>22058</td>\n",
       "      <td>38.48</td>\n",
       "      <td>0.16</td>\n",
       "      <td>0.22</td>\n",
       "      <td>169250.18</td>\n",
       "      <td>0.48</td>\n",
       "      <td>0.72</td>\n",
       "      <td>0.60</td>\n",
       "      <td>22946</td>\n",
       "      <td>1459692.96</td>\n",
       "      <td>0</td>\n",
       "      <td>2018</td>\n",
       "      <td>1</td>\n",
       "    </tr>\n",
       "    <tr>\n",
       "      <th>3498</th>\n",
       "      <td>155</td>\n",
       "      <td>Søvang</td>\n",
       "      <td>13837</td>\n",
       "      <td>43.83</td>\n",
       "      <td>0.24</td>\n",
       "      <td>0.23</td>\n",
       "      <td>245042.36</td>\n",
       "      <td>0.49</td>\n",
       "      <td>0.83</td>\n",
       "      <td>0.92</td>\n",
       "      <td>14270</td>\n",
       "      <td>2653095.42</td>\n",
       "      <td>0</td>\n",
       "      <td>2018</td>\n",
       "      <td>1</td>\n",
       "    </tr>\n",
       "    <tr>\n",
       "      <th>3499</th>\n",
       "      <td>607</td>\n",
       "      <td>Fredericia</td>\n",
       "      <td>44394</td>\n",
       "      <td>42.01</td>\n",
       "      <td>0.21</td>\n",
       "      <td>0.20</td>\n",
       "      <td>184063.49</td>\n",
       "      <td>0.48</td>\n",
       "      <td>0.74</td>\n",
       "      <td>0.89</td>\n",
       "      <td>51427</td>\n",
       "      <td>1225318.90</td>\n",
       "      <td>0</td>\n",
       "      <td>2018</td>\n",
       "      <td>6</td>\n",
       "    </tr>\n",
       "    <tr>\n",
       "      <th>3500</th>\n",
       "      <td>727</td>\n",
       "      <td>Hov</td>\n",
       "      <td>13628</td>\n",
       "      <td>43.22</td>\n",
       "      <td>0.23</td>\n",
       "      <td>0.21</td>\n",
       "      <td>185984.83</td>\n",
       "      <td>0.49</td>\n",
       "      <td>0.79</td>\n",
       "      <td>0.92</td>\n",
       "      <td>22675</td>\n",
       "      <td>1430394.30</td>\n",
       "      <td>0</td>\n",
       "      <td>2018</td>\n",
       "      <td>2</td>\n",
       "    </tr>\n",
       "  </tbody>\n",
       "</table>\n",
       "<p>3501 rows × 15 columns</p>\n",
       "</div>"
      ],
      "text/plain": [
       "      Kommune                 by  By_befolkning  ALDER  d65  d17  samlet_ind  \\\n",
       "0         101          København         528208  35.67 0.10 0.17   195272.57   \n",
       "1         147      Frederiksberg         100115  39.06 0.16 0.17   222330.66   \n",
       "2         230          Rudersdal          40199  41.74 0.21 0.24   269124.85   \n",
       "3         240  Ølstykke-Stenløse          23556  38.39 0.15 0.27   223787.65   \n",
       "4         240              Veksø           1891  38.39 0.15 0.27   223787.65   \n",
       "...       ...                ...            ...    ...  ...  ...         ...   \n",
       "3496      820            Løgstør           4112  43.50 0.23 0.20   166023.23   \n",
       "3497      183              Ishøj          22058  38.48 0.16 0.22   169250.18   \n",
       "3498      155             Søvang          13837  43.83 0.24 0.23   245042.36   \n",
       "3499      607         Fredericia          44394  42.01 0.21 0.20   184063.49   \n",
       "3500      727                Hov          13628  43.22 0.23 0.21   185984.83   \n",
       "\n",
       "      Besk  Besk1864   DK  Befolkning  markedsvaerdix  yderkom    År  \\\n",
       "0     0.53      0.70 0.78      539542      1564751.11        0  2010   \n",
       "1     0.52      0.74 0.84       98782      1783339.80        0  2010   \n",
       "2     0.48      0.78 0.90       54765      2904041.88        0  2010   \n",
       "3     0.52      0.83 0.94       41614      1461145.92        0  2010   \n",
       "4     0.52      0.83 0.94       41614      1461145.92        0  2010   \n",
       "...    ...       ...  ...         ...             ...      ...   ...   \n",
       "3496  0.49      0.76 0.91       37121       960791.40        0  2018   \n",
       "3497  0.48      0.72 0.60       22946      1459692.96        0  2018   \n",
       "3498  0.49      0.83 0.92       14270      2653095.42        0  2018   \n",
       "3499  0.48      0.74 0.89       51427      1225318.90        0  2018   \n",
       "3500  0.49      0.79 0.92       22675      1430394.30        0  2018   \n",
       "\n",
       "      antal_apo  \n",
       "0            17  \n",
       "1             5  \n",
       "2             3  \n",
       "3             1  \n",
       "4             0  \n",
       "...         ...  \n",
       "3496          1  \n",
       "3497          1  \n",
       "3498          1  \n",
       "3499          6  \n",
       "3500          2  \n",
       "\n",
       "[3501 rows x 15 columns]"
      ]
     },
     "execution_count": 33,
     "metadata": {},
     "output_type": "execute_result"
    }
   ],
   "source": [
    "df"
   ]
  },
  {
   "cell_type": "code",
   "execution_count": 40,
   "metadata": {},
   "outputs": [],
   "source": [
    "df['receptgrænse'] = 270000*1.02317**(df['År']-2011)\n",
    "\n",
    "år = list(range(2008,2019))\n",
    "# vi har indsat 0 i år efter 2015 for at sikre at disse markeder ikke er restrikteret\n",
    "gnsrecept = [13.1, 13.12, 13.19, 13.13, 13.24, 13.26, 13.53, 13.13, float(\"inf\") ,float(\"inf\") ,float(\"inf\")]\n",
    "gnsreceptdic = {}\n",
    "for i in range(len(gnsrecept)):\n",
    "    gnsreceptdic[år[i]] = gnsrecept[i]\n",
    "    \n",
    "restriction = []\n",
    "\n",
    "for år in range(2008,2019):\n",
    "    liste = list((df['By_befolkning'][df['År']==år]*gnsreceptdic[år]-df['receptgrænse'][df['År']==år]*df['antal_apo'][df['År']==år])>=df['receptgrænse'][df['År']==år])\n",
    "    #liste = list((df['Befolkning'][df['År']==år]*gnsreceptdic[år]-df['receptgrænse'][df['År']==år]*df['antal_apo'][df['År']==år])>=df['receptgrænse'][df['År']==år])\n",
    "    for i in liste:\n",
    "        restriction.append(i)\n",
    "        \n",
    "df['restriction'] = restriction"
   ]
  },
  {
   "cell_type": "code",
   "execution_count": 41,
   "metadata": {},
   "outputs": [],
   "source": [
    "## FIX YDERKOMMUNER ##\n",
    "df_komkode_yder = pd.read_excel('kommunerkoderyder.xlsx')\n",
    "df = df.merge(df_komkode_yder, on = \"Kommune\")\n",
    "df  = df.drop('yderkom', axis = 1)\n",
    "df = df.rename(columns={'Yderkommuner':'yderkom'})"
   ]
  },
  {
   "cell_type": "code",
   "execution_count": 42,
   "metadata": {},
   "outputs": [
    {
     "name": "stderr",
     "output_type": "stream",
     "text": [
      "C:\\PythonMan\\lib\\site-packages\\pandas\\core\\computation\\expressions.py:200: UserWarning: evaluating in Python space because the '*' operator is not supported by numexpr for the bool dtype, use '&' instead\n",
      "  warnings.warn(\n"
     ]
    }
   ],
   "source": [
    "df['yder_mono'] = ((df['antal_apo']<=1)* (df['yderkom']==1))\n",
    "df['yder_mono'] = df['yder_mono'].astype(int)"
   ]
  },
  {
   "cell_type": "code",
   "execution_count": 43,
   "metadata": {},
   "outputs": [
    {
     "data": {
      "text/plain": [
       "{'divide': 'ignore', 'over': 'warn', 'under': 'ignore', 'invalid': 'warn'}"
      ]
     },
     "execution_count": 43,
     "metadata": {},
     "output_type": "execute_result"
    }
   ],
   "source": [
    "np.seterr(divide = 'ignore') "
   ]
  },
  {
   "cell_type": "code",
   "execution_count": 44,
   "metadata": {},
   "outputs": [],
   "source": [
    "# KOMMUNER\n",
    "#df['logbefolkning'] = df['Befolkning']/1000#df['By_befolkning']/1000\n",
    "\n",
    "# BYMARKEDER\n",
    "df['logbefolkning'] = df['By_befolkning']/1000#\n",
    "\n",
    "\n",
    "###\n",
    "df['logmarkedsvalue'] = df['markedsvaerdix']/100000 #np.log()\n",
    "df['logindkomst'] = df['samlet_ind']/100000 #np.log()\n",
    "\n",
    "# Unrestricted markets\n",
    "#df = df[df['restriction']==True]"
   ]
  },
  {
   "cell_type": "code",
   "execution_count": 45,
   "metadata": {},
   "outputs": [],
   "source": [
    "def V(df, Ni, alpha=np.ones(5), beta=np.ones(6)):\n",
    "    \"\"\"Per-capita variable profit\n",
    "    \n",
    "    df: data\n",
    "    Ni: number of incumbents in market i\n",
    "    alpha: alpha parameters\n",
    "    beta: beta parameter\n",
    "    \"\"\"\n",
    "    n = np.min([5, Ni])\n",
    "#     n = Ni\n",
    "    a = 0\n",
    "    for i in range(1,n):\n",
    "        a = a + alpha[i]\n",
    "    \n",
    "\n",
    "    Z = np.c_[df.d65, df.d17, df.logindkomst, df.Besk1864, df.DK, df.yder_mono]# np.log(), \n",
    "\n",
    "    # W = df.LANDV\n",
    "    # X = np.c_[W, Z]\n",
    "\n",
    "    X = np.c_[Z]\n",
    "    \n",
    "    \n",
    "    profit = alpha[0] + X @ beta - a\n",
    "    return profit\n",
    "\n",
    "def F(df, Ni, gamma=np.ones(5)):\n",
    "    n = np.min([5, Ni])\n",
    "#     n = Ni\n",
    "    g = 0\n",
    "    # gamma 2 through gamma 5 (indices 1 through 4)\n",
    "    for i in range(1,n):\n",
    "        g = g + gamma[i]\n",
    "\n",
    "    fixed_cost = gamma[0] + gamma[5]*df.logmarkedsvalue + g\n",
    "    return fixed_cost\n",
    "\n",
    "#def S_func(df, lam):\n",
    "def S_func(df, lam): #, lam\n",
    "    S =   lam * df.logbefolkning #np.log() #\n",
    "    return S\n",
    "\n",
    "\n",
    "def neg_log_lik(theta=np.ones(18), market='antal_apo', df=df):#, df=None):\n",
    "    lam = theta[0]\n",
    "    beta = theta[1:7]\n",
    "    alpha = theta[7:12]\n",
    "    gamma = theta[12:18]\n",
    "#    beta = theta[0:5]\n",
    "#    alpha = theta[5:10]\n",
    "#    gamma = theta[10:16]\n",
    "    \n",
    "    \n",
    "    Phi = scipy.stats.norm.cdf\n",
    "    \n",
    "    S = S_func(df, lam) #, lam\n",
    "\n",
    "    \n",
    "    P = [0] * 6\n",
    "    Pi_bar = lambda N: S * V(df, N, alpha=alpha, beta=beta) - F(df, N, gamma=gamma)\n",
    "    P[0] = np.log( 1 - Phi(Pi_bar(0)) )\n",
    "    P[5] = np.log( Phi(Pi_bar(5)) )\n",
    "    for i in range(1,5):\n",
    "        P[i] = np.log( Phi(Pi_bar(i)) - Phi(Pi_bar(i+1)) )\n",
    "\n",
    "        \n",
    "    for i in range(6):\n",
    "        P[i][P[i] == -np.inf] = -100000000\n",
    "    log_lik = 0 \n",
    "    for z in range(2):\n",
    "        for i in range(5):\n",
    "            log_lik = log_lik + np.sum(P[i] * (df[market] == i) * (df['restriction'] == z))\n",
    "        log_lik = log_lik + np.sum(P[5] * (df[market] >= 5) * (df['restriction'] == z))\n",
    "\n",
    "    return -log_lik\n",
    "\n",
    "\n",
    "def theta_to_param_dict(theta):\n",
    "    lam = theta[0]\n",
    "    beta = theta[1:7]\n",
    "    alpha = theta[7:12]\n",
    "    gamma = theta[12:18]\n",
    "#    beta = theta[0:5]\n",
    "#    alpha = theta[5:10]\n",
    "#    gamma = theta[10:16]\n",
    "    \n",
    "    \n",
    "    d = {'lam': lam, 'beta': beta, 'alpha': alpha, 'gamma': gamma, 'theta': theta} \n",
    "    return d"
   ]
  },
  {
   "cell_type": "code",
   "execution_count": 46,
   "metadata": {},
   "outputs": [
    {
     "data": {
      "text/plain": [
       "6300.357484587363"
      ]
     },
     "execution_count": 46,
     "metadata": {},
     "output_type": "execute_result"
    }
   ],
   "source": [
    "theta0 = np.ones(18) * 0.1\n",
    "neg_log_lik(df=df, theta=theta0)"
   ]
  },
  {
   "cell_type": "code",
   "execution_count": 47,
   "metadata": {},
   "outputs": [],
   "source": [
    "df = df.sample(frac=1, random_state = 1).reset_index(drop=True)"
   ]
  },
  {
   "cell_type": "code",
   "execution_count": 48,
   "metadata": {},
   "outputs": [
    {
     "name": "stdout",
     "output_type": "stream",
     "text": [
      "Wall time: 2min 23s\n"
     ]
    }
   ],
   "source": [
    "%%time\n",
    "ba = [-np.inf] * 7\n",
    "bb = [0] * 10\n",
    "lower_bounds = [*ba, *bb, -np.inf]\n",
    "upper_bounds = [np.inf] * 18\n",
    "bounds = list(zip(lower_bounds, upper_bounds))\n",
    "\n",
    "\n",
    "theta0 = np.ones(18) * 0.1\n",
    "nll = lambda theta: neg_log_lik(theta=theta, df=df)\n",
    "out = scipy.optimize.minimize(nll, theta0, bounds=bounds,\n",
    "    options={'disp': False, 'maxiter': 10000}\n",
    "    )"
   ]
  },
  {
   "cell_type": "code",
   "execution_count": 49,
   "metadata": {},
   "outputs": [
    {
     "data": {
      "text/plain": [
       "      fun: 2259.183911092342\n",
       " hess_inv: <18x18 LbfgsInvHessProduct with dtype=float64>\n",
       "      jac: array([ 0.50658855,  0.03328751,  0.12391865,  1.27770363,  0.43842192,\n",
       "        0.46024979, -0.04638423, 13.78193701, -0.27857823, -0.16566446,\n",
       "       -0.44428816, -0.14897523,  0.07585186, -0.07053131, -0.09836185,\n",
       "       -0.06502887, -0.0473392 , -1.27861313])\n",
       "  message: b'CONVERGENCE: REL_REDUCTION_OF_F_<=_FACTR*EPSMCH'\n",
       "     nfev: 10013\n",
       "      nit: 463\n",
       "     njev: 527\n",
       "   status: 0\n",
       "  success: True\n",
       "        x: array([ 3.15332911e-01,  1.35108281e+00, -3.78685475e+00, -1.82742421e-01,\n",
       "        1.92287601e+00,  3.11923746e-01, -4.27168859e-03,  0.00000000e+00,\n",
       "        4.44095528e-01,  1.33957633e-01,  4.59741848e-02,  9.71080640e-04,\n",
       "        9.23816437e-01,  1.98380462e+00,  3.37421414e-01,  4.63054762e-01,\n",
       "        4.65124417e-01,  9.87690191e-03])"
      ]
     },
     "execution_count": 49,
     "metadata": {},
     "output_type": "execute_result"
    }
   ],
   "source": [
    "out"
   ]
  },
  {
   "cell_type": "code",
   "execution_count": 50,
   "metadata": {},
   "outputs": [
    {
     "data": {
      "text/plain": [
       "array([0.02441731, 0.1131077 , 0.08410323, 0.01249593, 0.02785226,\n",
       "       0.09451606, 0.06853045, 0.01690067, 0.02791366, 0.02286007,\n",
       "       0.0119427 , 0.0397816 , 0.02143849, 0.06332914, 0.25992542,\n",
       "       0.14963727, 0.42908866, 0.0098382 ])"
      ]
     },
     "execution_count": 50,
     "metadata": {},
     "output_type": "execute_result"
    }
   ],
   "source": [
    "N = len(df) #Korriger så det passer til antal observationer. \n",
    "test = out.hess_inv.todense()/N\n",
    "se3 = np.sqrt(np.diag(test))\n",
    "se3"
   ]
  },
  {
   "cell_type": "code",
   "execution_count": 51,
   "metadata": {},
   "outputs": [
    {
     "data": {
      "text/html": [
       "<div>\n",
       "<style scoped>\n",
       "    .dataframe tbody tr th:only-of-type {\n",
       "        vertical-align: middle;\n",
       "    }\n",
       "\n",
       "    .dataframe tbody tr th {\n",
       "        vertical-align: top;\n",
       "    }\n",
       "\n",
       "    .dataframe thead th {\n",
       "        text-align: right;\n",
       "    }\n",
       "</style>\n",
       "<table border=\"1\" class=\"dataframe\">\n",
       "  <thead>\n",
       "    <tr style=\"text-align: right;\">\n",
       "      <th></th>\n",
       "      <th>parameters</th>\n",
       "      <th>std err diag</th>\n",
       "    </tr>\n",
       "  </thead>\n",
       "  <tbody>\n",
       "    <tr>\n",
       "      <th>lambda - befolkning</th>\n",
       "      <td>0.32</td>\n",
       "      <td>0.02</td>\n",
       "    </tr>\n",
       "    <tr>\n",
       "      <th>beta_1 - d65</th>\n",
       "      <td>1.35</td>\n",
       "      <td>0.11</td>\n",
       "    </tr>\n",
       "    <tr>\n",
       "      <th>beta_2 - d17</th>\n",
       "      <td>-3.79</td>\n",
       "      <td>0.08</td>\n",
       "    </tr>\n",
       "    <tr>\n",
       "      <th>beta_3 - indkomst</th>\n",
       "      <td>-0.18</td>\n",
       "      <td>0.01</td>\n",
       "    </tr>\n",
       "    <tr>\n",
       "      <th>beta_4 - besk</th>\n",
       "      <td>1.92</td>\n",
       "      <td>0.03</td>\n",
       "    </tr>\n",
       "    <tr>\n",
       "      <th>beta_5 - Foreigner</th>\n",
       "      <td>0.31</td>\n",
       "      <td>0.09</td>\n",
       "    </tr>\n",
       "    <tr>\n",
       "      <th>beta_6 - yderkom</th>\n",
       "      <td>-0.00</td>\n",
       "      <td>0.07</td>\n",
       "    </tr>\n",
       "    <tr>\n",
       "      <th>alpha_1</th>\n",
       "      <td>0.00</td>\n",
       "      <td>0.02</td>\n",
       "    </tr>\n",
       "    <tr>\n",
       "      <th>alpha_2</th>\n",
       "      <td>0.44</td>\n",
       "      <td>0.03</td>\n",
       "    </tr>\n",
       "    <tr>\n",
       "      <th>alpha_3</th>\n",
       "      <td>0.13</td>\n",
       "      <td>0.02</td>\n",
       "    </tr>\n",
       "    <tr>\n",
       "      <th>alpha_4</th>\n",
       "      <td>0.05</td>\n",
       "      <td>0.01</td>\n",
       "    </tr>\n",
       "    <tr>\n",
       "      <th>alpha_5</th>\n",
       "      <td>0.00</td>\n",
       "      <td>0.04</td>\n",
       "    </tr>\n",
       "    <tr>\n",
       "      <th>gamma_1</th>\n",
       "      <td>0.92</td>\n",
       "      <td>0.02</td>\n",
       "    </tr>\n",
       "    <tr>\n",
       "      <th>gamma_2</th>\n",
       "      <td>1.98</td>\n",
       "      <td>0.06</td>\n",
       "    </tr>\n",
       "    <tr>\n",
       "      <th>gamma_3</th>\n",
       "      <td>0.34</td>\n",
       "      <td>0.26</td>\n",
       "    </tr>\n",
       "    <tr>\n",
       "      <th>gamma_4</th>\n",
       "      <td>0.46</td>\n",
       "      <td>0.15</td>\n",
       "    </tr>\n",
       "    <tr>\n",
       "      <th>gamma_5</th>\n",
       "      <td>0.47</td>\n",
       "      <td>0.43</td>\n",
       "    </tr>\n",
       "    <tr>\n",
       "      <th>gamma_6 - Landvalue</th>\n",
       "      <td>0.01</td>\n",
       "      <td>0.01</td>\n",
       "    </tr>\n",
       "  </tbody>\n",
       "</table>\n",
       "</div>"
      ],
      "text/plain": [
       "                     parameters  std err diag\n",
       "lambda - befolkning        0.32          0.02\n",
       "beta_1 - d65               1.35          0.11\n",
       "beta_2 - d17              -3.79          0.08\n",
       "beta_3 - indkomst         -0.18          0.01\n",
       "beta_4 - besk              1.92          0.03\n",
       "beta_5 - Foreigner         0.31          0.09\n",
       "beta_6 - yderkom          -0.00          0.07\n",
       "alpha_1                    0.00          0.02\n",
       "alpha_2                    0.44          0.03\n",
       "alpha_3                    0.13          0.02\n",
       "alpha_4                    0.05          0.01\n",
       "alpha_5                    0.00          0.04\n",
       "gamma_1                    0.92          0.02\n",
       "gamma_2                    1.98          0.06\n",
       "gamma_3                    0.34          0.26\n",
       "gamma_4                    0.46          0.15\n",
       "gamma_5                    0.47          0.43\n",
       "gamma_6 - Landvalue        0.01          0.01"
      ]
     },
     "execution_count": 51,
     "metadata": {},
     "output_type": "execute_result"
    }
   ],
   "source": [
    "# Hfun = nd.Hessian(nll, full_output=True)\n",
    "# hessian_nd, info= Hfun(out['x'])\n",
    "# se = np.sqrt(np.diag(np.linalg.inv(hessian_nd)))\n",
    "results = pd.DataFrame({'parameters':out['x'], \"std err diag\":se3})\n",
    "results.index=['lambda - befolkning','beta_1 - d65','beta_2 - d17','beta_3 - indkomst','beta_4 - besk','beta_5 - Foreigner', 'beta_6 - yderkom' ,'alpha_1','alpha_2','alpha_3','alpha_4','alpha_5','gamma_1','gamma_2','gamma_3','gamma_4','gamma_5', 'gamma_6 - Landvalue'] #,'gamma6' \n",
    "results"
   ]
  },
  {
   "cell_type": "code",
   "execution_count": 52,
   "metadata": {},
   "outputs": [],
   "source": [
    "hat_theta = theta_to_param_dict(out.x)"
   ]
  },
  {
   "cell_type": "code",
   "execution_count": 64,
   "metadata": {},
   "outputs": [
    {
     "name": "stdout",
     "output_type": "stream",
     "text": [
      "1.0447078456196974\n",
      "[0.86109648]\n",
      "3.0285124678103115\n",
      "[0.41700095]\n",
      "3.3659338814108537\n",
      "[0.28304332]\n",
      "3.82898864379648\n",
      "[0.23706913]\n",
      "4.294113060877033\n",
      "[0.23609805]\n"
     ]
    }
   ],
   "source": [
    "def calcS(df, theta):\n",
    "    d = theta_to_param_dict(theta)\n",
    "    S_grid = np.zeros(5)\n",
    "    \n",
    "    dfm = df.mean()\n",
    "    for i in range(5):\n",
    "        n = i + 1\n",
    "        S_grid[i] = F(dfm, n, d['gamma']) / V(dfm, n, d['alpha'], d['beta'])\n",
    "        print(F(dfm, n, d['gamma']) )\n",
    "        print(V(dfm, n, d['alpha'], d['beta']))\n",
    "    return S_grid\n",
    "\n",
    "S_vals = calcS(df, out.x)"
   ]
  },
  {
   "cell_type": "code",
   "execution_count": 65,
   "metadata": {},
   "outputs": [
    {
     "data": {
      "text/plain": [
       "array([ 1.21322972,  7.26260323, 11.89193897, 16.15135875, 18.18783758])"
      ]
     },
     "execution_count": 65,
     "metadata": {},
     "output_type": "execute_result"
    }
   ],
   "source": [
    "S_vals"
   ]
  },
  {
   "cell_type": "code",
   "execution_count": 66,
   "metadata": {},
   "outputs": [
    {
     "data": {
      "text/html": [
       "<div>\n",
       "<style scoped>\n",
       "    .dataframe tbody tr th:only-of-type {\n",
       "        vertical-align: middle;\n",
       "    }\n",
       "\n",
       "    .dataframe tbody tr th {\n",
       "        vertical-align: top;\n",
       "    }\n",
       "\n",
       "    .dataframe thead th {\n",
       "        text-align: right;\n",
       "    }\n",
       "</style>\n",
       "<table border=\"1\" class=\"dataframe\">\n",
       "  <thead>\n",
       "    <tr style=\"text-align: right;\">\n",
       "      <th></th>\n",
       "      <th>S_1</th>\n",
       "      <th>S_2</th>\n",
       "      <th>S_3</th>\n",
       "      <th>S_4</th>\n",
       "      <th>S_5</th>\n",
       "    </tr>\n",
       "  </thead>\n",
       "  <tbody>\n",
       "    <tr>\n",
       "      <th>Apoteker</th>\n",
       "      <td>1.21</td>\n",
       "      <td>7.26</td>\n",
       "      <td>11.89</td>\n",
       "      <td>16.15</td>\n",
       "      <td>18.19</td>\n",
       "    </tr>\n",
       "  </tbody>\n",
       "</table>\n",
       "</div>"
      ],
      "text/plain": [
       "          S_1  S_2   S_3   S_4   S_5\n",
       "Apoteker 1.21 7.26 11.89 16.15 18.19"
      ]
     },
     "execution_count": 66,
     "metadata": {},
     "output_type": "execute_result"
    }
   ],
   "source": [
    "table5A_left = pd.DataFrame({'Apoteker':S_vals}).T\n",
    "table5A_left.columns = ['S_1', 'S_2', 'S_3', 'S_4', 'S_5']\n",
    "table5A_left"
   ]
  },
  {
   "cell_type": "code",
   "execution_count": 67,
   "metadata": {},
   "outputs": [],
   "source": [
    "a = [S_vals[i+1]/S_vals[i] * ((i+1)/(i+2)) for i in range(4)]\n",
    "table5A_right = pd.DataFrame(a).T\n",
    "table5A_right.columns = ['s2/s1', 's3/s2', 's4/s3', 's5/s4']"
   ]
  },
  {
   "cell_type": "code",
   "execution_count": 68,
   "metadata": {},
   "outputs": [
    {
     "data": {
      "text/html": [
       "<div>\n",
       "<style scoped>\n",
       "    .dataframe tbody tr th:only-of-type {\n",
       "        vertical-align: middle;\n",
       "    }\n",
       "\n",
       "    .dataframe tbody tr th {\n",
       "        vertical-align: top;\n",
       "    }\n",
       "\n",
       "    .dataframe thead th {\n",
       "        text-align: right;\n",
       "    }\n",
       "</style>\n",
       "<table border=\"1\" class=\"dataframe\">\n",
       "  <thead>\n",
       "    <tr style=\"text-align: right;\">\n",
       "      <th></th>\n",
       "      <th>s2/s1</th>\n",
       "      <th>s3/s2</th>\n",
       "      <th>s4/s3</th>\n",
       "      <th>s5/s4</th>\n",
       "    </tr>\n",
       "  </thead>\n",
       "  <tbody>\n",
       "    <tr>\n",
       "      <th>0</th>\n",
       "      <td>2.99</td>\n",
       "      <td>1.09</td>\n",
       "      <td>1.02</td>\n",
       "      <td>0.90</td>\n",
       "    </tr>\n",
       "  </tbody>\n",
       "</table>\n",
       "</div>"
      ],
      "text/plain": [
       "   s2/s1  s3/s2  s4/s3  s5/s4\n",
       "0   2.99   1.09   1.02   0.90"
      ]
     },
     "execution_count": 68,
     "metadata": {},
     "output_type": "execute_result"
    }
   ],
   "source": [
    "table5A_right"
   ]
  },
  {
   "cell_type": "code",
   "execution_count": 61,
   "metadata": {},
   "outputs": [],
   "source": [
    "SN_S5_ratio = S_vals[5-1]* np.arange(1,5+1) / (S_vals * 5)"
   ]
  },
  {
   "cell_type": "code",
   "execution_count": 62,
   "metadata": {},
   "outputs": [
    {
     "data": {
      "text/plain": [
       "array([2.99825123, 1.00172552, 0.91765545, 0.90086972, 1.        ])"
      ]
     },
     "execution_count": 62,
     "metadata": {},
     "output_type": "execute_result"
    }
   ],
   "source": [
    "SN_S5_ratio"
   ]
  },
  {
   "cell_type": "code",
   "execution_count": 63,
   "metadata": {},
   "outputs": [
    {
     "data": {
      "image/png": "[encoded data removed]",
      "text/plain": [
       "<Figure size 648x504 with 1 Axes>"
      ]
     },
     "metadata": {},
     "output_type": "display_data"
    }
   ],
   "source": [
    "BIG = 18\n",
    "fig = plt.figure(figsize=(9,7))\n",
    "plt.plot([1,2,3,4,5], SN_S5_ratio, 'D', label='Apoteker')\n",
    "ax = fig.get_axes()[0]\n",
    "plt.legend(fontsize=BIG)\n",
    "plt.xlim(0,6)\n",
    "plt.ylim(0.8, 3.5)\n",
    "plt.title('Industry ratios of $s_5$ to $s_N$ by $N$', fontsize=BIG)\n",
    "plt.xlabel('Number of Firms', fontsize=BIG)\n",
    "plt.ylabel('$s_5/s_N$', fontsize=BIG);\n",
    "# ax.set_ylabel('$s_5/s_N$', fontsize=40)"
   ]
  },
  {
   "cell_type": "code",
   "execution_count": null,
   "metadata": {},
   "outputs": [],
   "source": []
  }
 ],
 "metadata": {
  "kernelspec": {
   "display_name": "Python 3",
   "language": "python",
   "name": "python3"
  },
  "language_info": {
   "codemirror_mode": {
    "name": "ipython",
    "version": 3
   },
   "file_extension": ".py",
   "mimetype": "text/x-python",
   "name": "python",
   "nbconvert_exporter": "python",
   "pygments_lexer": "ipython3",
   "version": "3.8.5"
  },
  "varInspector": {
   "cols": {
    "lenName": 16,
    "lenType": 16,
    "lenVar": 40
   },
   "kernels_config": {
    "python": {
     "delete_cmd_postfix": "",
     "delete_cmd_prefix": "del ",
     "library": "var_list.py",
     "varRefreshCmd": "print(var_dic_list())"
    },
    "r": {
     "delete_cmd_postfix": ") ",
     "delete_cmd_prefix": "rm(",
     "library": "var_list.r",
     "varRefreshCmd": "cat(var_dic_list()) "
    }
   },
   "types_to_exclude": [
    "module",
    "function",
    "builtin_function_or_method",
    "instance",
    "_Feature"
   ],
   "window_display": false
  }
 },
 "nbformat": 4,
 "nbformat_minor": 4
}
