{
 "cells": [
  {
   "cell_type": "code",
   "execution_count": 35,
   "metadata": {},
   "outputs": [],
   "source": [
    "import pandas as pd\n",
    "import numpy as np\n",
    "from matplotlib import pyplot as plt\n",
    "%matplotlib inline\n",
    "import seaborn as sns\n",
    "import scipy.stats\n",
    "import scipy.optimize\n",
    "import numdifftools as nd\n",
    "from numdifftools import Jacobian, Hessian\n",
    "sns.set()"
   ]
  },
  {
   "cell_type": "code",
   "execution_count": 36,
   "metadata": {},
   "outputs": [],
   "source": [
    "#!pip install numdifftools"
   ]
  },
  {
   "cell_type": "code",
   "execution_count": 37,
   "metadata": {},
   "outputs": [],
   "source": [
    "pd.set_option('precision', 2)\n",
    "pd.set_option('display.float_format', lambda x: '%.2f' % x)"
   ]
  },
  {
   "cell_type": "code",
   "execution_count": 38,
   "metadata": {},
   "outputs": [],
   "source": [
    "#df = pd.read_csv(\"https://raw.githubusercontent.com/Oliverkobaek/thesis_2020/master/Bresnahan/Bresnahan_data_2.csv\")\n",
    "#df = pd.read_csv(\"Bresnahan_data_full_inf.csv\")\n",
    "df = pd.read_csv(\"https://raw.githubusercontent.com/Oliverkobaek/thesis_2020/master/Bresnahan/by%20markeder/Bresnahan_data_by.csv\")\n",
    "\n",
    "\n",
    "df = df.drop(['Unnamed: 0'], axis=1)"
   ]
  },
  {
   "cell_type": "code",
   "execution_count": 39,
   "metadata": {},
   "outputs": [],
   "source": [
    "df['receptgrænse'] = 270000*1.02317**(df['År']-2011)\n",
    "\n",
    "år = list(range(2008,2019))\n",
    "# vi har indsat 0 i år efter 2015 for at sikre at disse markeder ikke er restrikteret\n",
    "gnsrecept = [13.1, 13.12, 13.19, 13.13, 13.24, 13.26, 13.53, 13.13, 0 ,0 ,0]\n",
    "gnsreceptdic = {}\n",
    "for i in range(len(gnsrecept)):\n",
    "    gnsreceptdic[år[i]] = gnsrecept[i]\n",
    "    \n",
    "restriction = []\n",
    "\n",
    "for år in range(2008,2019):\n",
    "    liste = list((df['Befolkning'][df['År']==år]*gnsreceptdic[år]-df['receptgrænse'][df['År']==år]*df['antal_apo'][df['År']==år])>=df['receptgrænse'][df['År']==år])\n",
    "    for i in liste:\n",
    "        restriction.append(i)\n",
    "        \n",
    "df['restriction'] = restriction"
   ]
  },
  {
   "cell_type": "code",
   "execution_count": 41,
   "metadata": {},
   "outputs": [],
   "source": [
    "## FIX YDERKOMMUNER ##\n",
    "df_komkode_yder = pd.read_excel('kommunerkoderyder.xlsx')\n",
    "df = df.merge(df_komkode_yder, on = \"Kommune\")\n",
    "df  = df.drop('yderkom', axis = 1)\n",
    "df = df.rename(columns={'Yderkommuner':'yderkom'})"
   ]
  },
  {
   "cell_type": "code",
   "execution_count": 42,
   "metadata": {},
   "outputs": [
    {
     "name": "stderr",
     "output_type": "stream",
     "text": [
      "C:\\Users\\Camilla\\Anaconda3\\lib\\site-packages\\pandas\\core\\computation\\expressions.py:183: UserWarning: evaluating in Python space because the '*' operator is not supported by numexpr for the bool dtype, use '&' instead\n",
      "  .format(op=op_str, alt_op=unsupported[op_str]))\n"
     ]
    }
   ],
   "source": [
    "df['yder_mono'] = ((df['antal_apo']<=1)* (df['yderkom']==1))\n",
    "df['yder_mono'] = df['yder_mono'].astype(int)"
   ]
  },
  {
   "cell_type": "code",
   "execution_count": 43,
   "metadata": {},
   "outputs": [],
   "source": [
    "# Fjerner København\n",
    "#\n",
    "#storbyer = [101, 147, 461, 751, 851] #\n",
    "#storbyer = [101, 147, 151, 153, 155, 157, 159, 161, 163, 165, 167, 169, 173, 175, 183, 185]\n",
    "\n",
    "  \n",
    "#for i in storbyer:\n",
    "#    df = df[df['Kommune'] != i]\n",
    "    \n",
    "    \n",
    "#df = df[df['Kommune'] != 101]\n",
    "#df = df[df['Kommune'] != 147]\n",
    "#df = df[df['Kommune']]\n",
    "\n",
    "#år = [2008, 2009, 2010, 2011, 2012, 2013, 2014]\n",
    "    \n",
    "\n",
    "#df = df[(df['År'] == 2015) # & (df['År'] !=  2016) & (df['År'] !=  2017) & (df['År'] !=  2018)]\n",
    "\n",
    "#df = df[(df['År'] != 2008) & (df['År'] !=  2009) & (df['År'] !=  2010) & (df['År'] !=  2011)& (df['År'] !=  2012)& (df['År'] !=  2013)& (df['År'] !=  2014)]\n",
    "#df = df[(df['År'] == 2017)] & (df['År'] !=  2015)\n",
    "\n",
    "df['logbefolkning'] = df['By_befolkning']/1000\n",
    "df['logmarkedsvalue'] = df['markedsvaerdix']/100000 #np.log()\n",
    "df['logindkomst'] = df['samlet_ind']/100000 #np.log()\n",
    "\n",
    "# Unrestricted markets\n",
    "df = df[df['restriction']==True]"
   ]
  },
  {
   "cell_type": "code",
   "execution_count": 45,
   "metadata": {},
   "outputs": [],
   "source": [
    "def V(df, Ni, alpha=np.ones(5), beta=np.ones(6)):\n",
    "    \"\"\"Per-capita variable profit\n",
    "    \n",
    "    df: data\n",
    "    Ni: number of incumbents in market i\n",
    "    alpha: alpha parameters\n",
    "    beta: beta parameter\n",
    "    \"\"\"\n",
    "    n = np.min([5, Ni])\n",
    "#     n = Ni\n",
    "    a = 0\n",
    "    for i in range(1,n):\n",
    "        a = a + alpha[i]\n",
    "    \n",
    "\n",
    "    Z = np.c_[df.d65, df.d17, df.logindkomst, df.Besk1864, df.DK, df.yder_mono]# np.log()\n",
    "\n",
    "    # W = df.LANDV\n",
    "    # X = np.c_[W, Z]\n",
    "\n",
    "    X = np.c_[Z]\n",
    "    \n",
    "    \n",
    "    profit = alpha[0] + X @ beta - a\n",
    "    return profit\n",
    "\n",
    "def F(df, Ni, gamma=np.ones(5)):\n",
    "    n = np.min([5, Ni])\n",
    "#     n = Ni\n",
    "    g = 0\n",
    "    # gamma 2 through gamma 5 (indices 1 through 4)\n",
    "    for i in range(1,n):\n",
    "        g = g + gamma[i]\n",
    "\n",
    "    fixed_cost = gamma[0] + gamma[5]*df.logmarkedsvalue + g\n",
    "    return fixed_cost\n",
    "\n",
    "#def S_func(df, lam):\n",
    "def S_func(df, lam): #, lam\n",
    "    S =   lam * df.logbefolkning #np.log() #\n",
    "    return S\n",
    "\n",
    "#def neg_log_lik(theta=np.ones(19), market='TIRE', df=None):\n",
    "def neg_log_lik(theta=np.ones(18), market='antal_apo', df=df):#, df=None):\n",
    "    lam = theta[0]\n",
    "    beta = theta[1:7]\n",
    "    alpha = theta[7:12]\n",
    "    gamma = theta[12:18]\n",
    "#    beta = theta[0:5]\n",
    "#    alpha = theta[5:10]\n",
    "#    gamma = theta[10:16]\n",
    "    \n",
    "    \n",
    "    Phi = scipy.stats.norm.cdf\n",
    "    \n",
    "    S = S_func(df, lam) #, lam\n",
    "\n",
    "    \n",
    "    P = [0] * 6\n",
    "    Pi_bar = lambda N: S * V(df, N, alpha=alpha, beta=beta) - F(df, N, gamma=gamma)\n",
    "    P[0] = np.log( 1 - Phi(Pi_bar(0)) )\n",
    "    P[5] = np.log( Phi(Pi_bar(5)) )\n",
    "    for i in range(1,5):\n",
    "        P[i] = np.log( Phi(Pi_bar(i)) - Phi(Pi_bar(i+1)) )\n",
    "\n",
    "        \n",
    "    for i in range(6):\n",
    "        P[i][P[i] == -np.inf] = -100000000\n",
    "    log_lik = 0 \n",
    "    for i in range(5):\n",
    "        log_lik = log_lik + np.sum(P[i] * (df[market] == i))\n",
    "    log_lik = log_lik + np.sum(P[5] * (df[market] >= 5))\n",
    "    return -log_lik\n",
    "\n",
    "\n",
    "def theta_to_param_dict(theta):\n",
    "    lam = theta[0]\n",
    "    beta = theta[1:7]\n",
    "    alpha = theta[7:12]\n",
    "    gamma = theta[12:18]\n",
    "#    beta = theta[0:5]\n",
    "#    alpha = theta[5:10]\n",
    "#    gamma = theta[10:16]\n",
    "    \n",
    "    \n",
    "    d = {'lam': lam, 'beta': beta, 'alpha': alpha, 'gamma': gamma, 'theta': theta} \n",
    "    return d"
   ]
  },
  {
   "cell_type": "code",
   "execution_count": 46,
   "metadata": {},
   "outputs": [
    {
     "name": "stderr",
     "output_type": "stream",
     "text": [
      "C:\\Users\\Camilla\\Anaconda3\\lib\\site-packages\\ipykernel_launcher.py:61: RuntimeWarning: divide by zero encountered in log\n",
      "C:\\Users\\Camilla\\Anaconda3\\lib\\site-packages\\ipykernel_launcher.py:64: RuntimeWarning: divide by zero encountered in log\n"
     ]
    },
    {
     "data": {
      "text/plain": [
       "2311.017264840079"
      ]
     },
     "execution_count": 46,
     "metadata": {},
     "output_type": "execute_result"
    }
   ],
   "source": [
    "theta0 = np.ones(18) * 0.1\n",
    "neg_log_lik(df=df, theta=theta0)"
   ]
  },
  {
   "cell_type": "code",
   "execution_count": 47,
   "metadata": {},
   "outputs": [
    {
     "name": "stderr",
     "output_type": "stream",
     "text": [
      "C:\\Users\\Camilla\\Anaconda3\\lib\\site-packages\\ipykernel_launcher.py:61: RuntimeWarning: divide by zero encountered in log\n",
      "C:\\Users\\Camilla\\Anaconda3\\lib\\site-packages\\ipykernel_launcher.py:64: RuntimeWarning: divide by zero encountered in log\n"
     ]
    },
    {
     "name": "stdout",
     "output_type": "stream",
     "text": [
      "Wall time: 3min 32s\n"
     ]
    }
   ],
   "source": [
    "%%time\n",
    "ba = [-np.inf] * 7\n",
    "bb = [0] * 10\n",
    "lower_bounds = [*ba, *bb, -np.inf]\n",
    "upper_bounds = [np.inf] * 18\n",
    "bounds = list(zip(lower_bounds, upper_bounds))\n",
    "\n",
    "\n",
    "theta0 = np.ones(18) * 0.1\n",
    "nll = lambda theta: neg_log_lik(theta=theta, df=df)\n",
    "out = scipy.optimize.minimize(nll, theta0, bounds=bounds,\n",
    "    options={'disp': False, 'maxiter': 10000}\n",
    "    )"
   ]
  },
  {
   "cell_type": "code",
   "execution_count": 48,
   "metadata": {},
   "outputs": [
    {
     "data": {
      "text/plain": [
       "      fun: 886.3867567829931\n",
       " hess_inv: <18x18 LbfgsInvHessProduct with dtype=float64>\n",
       "      jac: array([-4.03247213e-01,  5.78893378e-02, -1.44041223e-02, -2.08706297e-01,\n",
       "       -8.15930434e-02, -1.88151716e-02, -3.06727088e-02,  1.75948571e+00,\n",
       "        1.95973371e-01,  1.06717835e-01,  8.95302037e+00,  1.40445195e+01,\n",
       "        3.97903932e-03,  2.43517206e-02,  1.80940560e+00, -8.52651283e-03,\n",
       "        4.47016646e-01,  5.06497599e-01])\n",
       "  message: b'CONVERGENCE: REL_REDUCTION_OF_F_<=_FACTR*EPSMCH'\n",
       "     nfev: 14383\n",
       "      nit: 681\n",
       "   status: 0\n",
       "  success: True\n",
       "        x: array([ 0.17204015, -4.57234168, -2.48704706, -0.68600003,  0.50630523,\n",
       "        4.00343246,  0.24761508,  0.        ,  0.36314199,  0.65001538,\n",
       "        0.        ,  0.        ,  1.26279209,  3.49011547,  0.        ,\n",
       "        3.73861237,  0.        ,  0.00723302])"
      ]
     },
     "execution_count": 48,
     "metadata": {},
     "output_type": "execute_result"
    }
   ],
   "source": [
    "out"
   ]
  },
  {
   "cell_type": "code",
   "execution_count": 49,
   "metadata": {},
   "outputs": [
    {
     "name": "stderr",
     "output_type": "stream",
     "text": [
      "C:\\Users\\Camilla\\Anaconda3\\lib\\site-packages\\ipykernel_launcher.py:61: RuntimeWarning: divide by zero encountered in log\n",
      "C:\\Users\\Camilla\\Anaconda3\\lib\\site-packages\\ipykernel_launcher.py:64: RuntimeWarning: divide by zero encountered in log\n",
      "C:\\Users\\Camilla\\Anaconda3\\lib\\site-packages\\ipykernel_launcher.py:62: RuntimeWarning: divide by zero encountered in log\n",
      "C:\\Users\\Camilla\\Anaconda3\\lib\\site-packages\\ipykernel_launcher.py:64: RuntimeWarning: invalid value encountered in log\n",
      "C:\\Users\\Camilla\\Anaconda3\\lib\\site-packages\\ipykernel_launcher.py:3: RuntimeWarning: invalid value encountered in sqrt\n",
      "  This is separate from the ipykernel package so we can avoid doing imports until\n"
     ]
    }
   ],
   "source": [
    "Hfun = nd.Hessian(nll, full_output=True)\n",
    "hessian_nd, info= Hfun(out['x'])\n",
    "se = np.sqrt(np.diag(np.linalg.inv(hessian_nd)))\n",
    "results = pd.DataFrame({'parameters':out['x'],'std err':se})\n",
    "results.index=['lambda - befolkning','beta_1 - d65','beta_2 - d17','beta_3 - indkomst','beta_4 - besk','beta_5 - Foreigner', 'beta_6 - yderkom','alpha_1','alpha_2','alpha_3','alpha_4','alpha_5','gamma_1','gamma_2','gamma_3','gamma_4','gamma_5', 'gamma_6 - Landvalue'] #,'gamma6'  \n"
   ]
  },
  {
   "cell_type": "code",
   "execution_count": 51,
   "metadata": {},
   "outputs": [
    {
     "data": {
      "text/html": [
       "<div>\n",
       "<style scoped>\n",
       "    .dataframe tbody tr th:only-of-type {\n",
       "        vertical-align: middle;\n",
       "    }\n",
       "\n",
       "    .dataframe tbody tr th {\n",
       "        vertical-align: top;\n",
       "    }\n",
       "\n",
       "    .dataframe thead th {\n",
       "        text-align: right;\n",
       "    }\n",
       "</style>\n",
       "<table border=\"1\" class=\"dataframe\">\n",
       "  <thead>\n",
       "    <tr style=\"text-align: right;\">\n",
       "      <th></th>\n",
       "      <th>parameters</th>\n",
       "      <th>std err</th>\n",
       "    </tr>\n",
       "  </thead>\n",
       "  <tbody>\n",
       "    <tr>\n",
       "      <th>lambda - befolkning</th>\n",
       "      <td>0.17</td>\n",
       "      <td>nan</td>\n",
       "    </tr>\n",
       "    <tr>\n",
       "      <th>beta_1 - d65</th>\n",
       "      <td>-4.57</td>\n",
       "      <td>1.97</td>\n",
       "    </tr>\n",
       "    <tr>\n",
       "      <th>beta_2 - d17</th>\n",
       "      <td>-2.49</td>\n",
       "      <td>3.00</td>\n",
       "    </tr>\n",
       "    <tr>\n",
       "      <th>beta_3 - indkomst</th>\n",
       "      <td>-0.69</td>\n",
       "      <td>0.24</td>\n",
       "    </tr>\n",
       "    <tr>\n",
       "      <th>beta_4 - besk</th>\n",
       "      <td>0.51</td>\n",
       "      <td>2.92</td>\n",
       "    </tr>\n",
       "    <tr>\n",
       "      <th>beta_5 - Foreigner</th>\n",
       "      <td>4.00</td>\n",
       "      <td>1.70</td>\n",
       "    </tr>\n",
       "    <tr>\n",
       "      <th>beta_6 - yderkom</th>\n",
       "      <td>0.25</td>\n",
       "      <td>0.11</td>\n",
       "    </tr>\n",
       "    <tr>\n",
       "      <th>alpha_1</th>\n",
       "      <td>0.00</td>\n",
       "      <td>0.90</td>\n",
       "    </tr>\n",
       "    <tr>\n",
       "      <th>alpha_2</th>\n",
       "      <td>0.36</td>\n",
       "      <td>0.21</td>\n",
       "    </tr>\n",
       "    <tr>\n",
       "      <th>alpha_3</th>\n",
       "      <td>0.65</td>\n",
       "      <td>0.23</td>\n",
       "    </tr>\n",
       "    <tr>\n",
       "      <th>alpha_4</th>\n",
       "      <td>0.00</td>\n",
       "      <td>1.88</td>\n",
       "    </tr>\n",
       "    <tr>\n",
       "      <th>alpha_5</th>\n",
       "      <td>0.00</td>\n",
       "      <td>1.73</td>\n",
       "    </tr>\n",
       "    <tr>\n",
       "      <th>gamma_1</th>\n",
       "      <td>1.26</td>\n",
       "      <td>0.13</td>\n",
       "    </tr>\n",
       "    <tr>\n",
       "      <th>gamma_2</th>\n",
       "      <td>3.49</td>\n",
       "      <td>0.67</td>\n",
       "    </tr>\n",
       "    <tr>\n",
       "      <th>gamma_3</th>\n",
       "      <td>0.00</td>\n",
       "      <td>1.34</td>\n",
       "    </tr>\n",
       "    <tr>\n",
       "      <th>gamma_4</th>\n",
       "      <td>3.74</td>\n",
       "      <td>21.48</td>\n",
       "    </tr>\n",
       "    <tr>\n",
       "      <th>gamma_5</th>\n",
       "      <td>0.00</td>\n",
       "      <td>17.76</td>\n",
       "    </tr>\n",
       "    <tr>\n",
       "      <th>gamma_6 - Landvalue</th>\n",
       "      <td>0.01</td>\n",
       "      <td>0.01</td>\n",
       "    </tr>\n",
       "  </tbody>\n",
       "</table>\n",
       "</div>"
      ],
      "text/plain": [
       "                     parameters  std err\n",
       "lambda - befolkning        0.17      nan\n",
       "beta_1 - d65              -4.57     1.97\n",
       "beta_2 - d17              -2.49     3.00\n",
       "beta_3 - indkomst         -0.69     0.24\n",
       "beta_4 - besk              0.51     2.92\n",
       "beta_5 - Foreigner         4.00     1.70\n",
       "beta_6 - yderkom           0.25     0.11\n",
       "alpha_1                    0.00     0.90\n",
       "alpha_2                    0.36     0.21\n",
       "alpha_3                    0.65     0.23\n",
       "alpha_4                    0.00     1.88\n",
       "alpha_5                    0.00     1.73\n",
       "gamma_1                    1.26     0.13\n",
       "gamma_2                    3.49     0.67\n",
       "gamma_3                    0.00     1.34\n",
       "gamma_4                    3.74    21.48\n",
       "gamma_5                    0.00    17.76\n",
       "gamma_6 - Landvalue        0.01     0.01"
      ]
     },
     "execution_count": 51,
     "metadata": {},
     "output_type": "execute_result"
    }
   ],
   "source": [
    "results"
   ]
  },
  {
   "cell_type": "code",
   "execution_count": 52,
   "metadata": {},
   "outputs": [],
   "source": [
    "hat_theta = theta_to_param_dict(out.x)"
   ]
  },
  {
   "cell_type": "code",
   "execution_count": 53,
   "metadata": {},
   "outputs": [
    {
     "data": {
      "text/plain": [
       "{'lam': 0.17204015274660217,\n",
       " 'beta': array([-4.57234168, -2.48704706, -0.68600003,  0.50630523,  4.00343246,\n",
       "         0.24761508]),\n",
       " 'alpha': array([0.        , 0.36314199, 0.65001538, 0.        , 0.        ]),\n",
       " 'gamma': array([1.26279209, 3.49011547, 0.        , 3.73861237, 0.        ,\n",
       "        0.00723302]),\n",
       " 'theta': array([ 0.17204015, -4.57234168, -2.48704706, -0.68600003,  0.50630523,\n",
       "         4.00343246,  0.24761508,  0.        ,  0.36314199,  0.65001538,\n",
       "         0.        ,  0.        ,  1.26279209,  3.49011547,  0.        ,\n",
       "         3.73861237,  0.        ,  0.00723302])}"
      ]
     },
     "execution_count": 53,
     "metadata": {},
     "output_type": "execute_result"
    }
   ],
   "source": [
    "hat_theta"
   ]
  },
  {
   "cell_type": "code",
   "execution_count": 54,
   "metadata": {},
   "outputs": [
    {
     "name": "stdout",
     "output_type": "stream",
     "text": [
      "1.3505922362302656\n",
      "[1.54641622]\n",
      "4.840707704757288\n",
      "[1.18327423]\n",
      "4.840707704757288\n",
      "[0.53325885]\n",
      "8.57932006986345\n",
      "[0.53325885]\n",
      "8.57932006986345\n",
      "[0.53325885]\n"
     ]
    }
   ],
   "source": [
    "def calcS(df, theta):\n",
    "    d = theta_to_param_dict(theta)\n",
    "    S_grid = np.zeros(5)\n",
    "    \n",
    "    dfm = df.mean()\n",
    "    for i in range(5):\n",
    "        n = i + 1\n",
    "        S_grid[i] = F(dfm, n, d['gamma']) / V(dfm, n, d['alpha'], d['beta'])\n",
    "        print(F(dfm, n, d['gamma']) )\n",
    "        print(V(dfm, n, d['alpha'], d['beta']))\n",
    "    return S_grid\n",
    "\n",
    "S_vals = calcS(df, out.x)"
   ]
  },
  {
   "cell_type": "code",
   "execution_count": 55,
   "metadata": {},
   "outputs": [
    {
     "data": {
      "text/plain": [
       "array([ 0.87336916,  4.09094323,  9.07759471, 16.08847202, 16.08847202])"
      ]
     },
     "execution_count": 55,
     "metadata": {},
     "output_type": "execute_result"
    }
   ],
   "source": [
    "S_vals"
   ]
  },
  {
   "cell_type": "code",
   "execution_count": 56,
   "metadata": {},
   "outputs": [
    {
     "data": {
      "text/html": [
       "<div>\n",
       "<style scoped>\n",
       "    .dataframe tbody tr th:only-of-type {\n",
       "        vertical-align: middle;\n",
       "    }\n",
       "\n",
       "    .dataframe tbody tr th {\n",
       "        vertical-align: top;\n",
       "    }\n",
       "\n",
       "    .dataframe thead th {\n",
       "        text-align: right;\n",
       "    }\n",
       "</style>\n",
       "<table border=\"1\" class=\"dataframe\">\n",
       "  <thead>\n",
       "    <tr style=\"text-align: right;\">\n",
       "      <th></th>\n",
       "      <th>S_1</th>\n",
       "      <th>S_2</th>\n",
       "      <th>S_3</th>\n",
       "      <th>S_4</th>\n",
       "      <th>S_5</th>\n",
       "    </tr>\n",
       "  </thead>\n",
       "  <tbody>\n",
       "    <tr>\n",
       "      <th>Apoteker</th>\n",
       "      <td>0.87</td>\n",
       "      <td>4.09</td>\n",
       "      <td>9.08</td>\n",
       "      <td>16.09</td>\n",
       "      <td>16.09</td>\n",
       "    </tr>\n",
       "  </tbody>\n",
       "</table>\n",
       "</div>"
      ],
      "text/plain": [
       "          S_1  S_2  S_3   S_4   S_5\n",
       "Apoteker 0.87 4.09 9.08 16.09 16.09"
      ]
     },
     "execution_count": 56,
     "metadata": {},
     "output_type": "execute_result"
    }
   ],
   "source": [
    "table5A_left = pd.DataFrame({'Apoteker':S_vals}).T\n",
    "table5A_left.columns = ['S_1', 'S_2', 'S_3', 'S_4', 'S_5']\n",
    "table5A_left"
   ]
  },
  {
   "cell_type": "code",
   "execution_count": 57,
   "metadata": {},
   "outputs": [],
   "source": [
    "a = [S_vals[i+1]/S_vals[i] * ((i+1)/(i+2)) for i in range(4)]\n",
    "table5A_right = pd.DataFrame(a).T\n",
    "table5A_right.columns = ['s2/s1', 's3/s2', 's4/s3', 's5/s4']"
   ]
  },
  {
   "cell_type": "code",
   "execution_count": 58,
   "metadata": {},
   "outputs": [
    {
     "data": {
      "text/html": [
       "<div>\n",
       "<style scoped>\n",
       "    .dataframe tbody tr th:only-of-type {\n",
       "        vertical-align: middle;\n",
       "    }\n",
       "\n",
       "    .dataframe tbody tr th {\n",
       "        vertical-align: top;\n",
       "    }\n",
       "\n",
       "    .dataframe thead th {\n",
       "        text-align: right;\n",
       "    }\n",
       "</style>\n",
       "<table border=\"1\" class=\"dataframe\">\n",
       "  <thead>\n",
       "    <tr style=\"text-align: right;\">\n",
       "      <th></th>\n",
       "      <th>s2/s1</th>\n",
       "      <th>s3/s2</th>\n",
       "      <th>s4/s3</th>\n",
       "      <th>s5/s4</th>\n",
       "    </tr>\n",
       "  </thead>\n",
       "  <tbody>\n",
       "    <tr>\n",
       "      <th>0</th>\n",
       "      <td>2.34</td>\n",
       "      <td>1.48</td>\n",
       "      <td>1.33</td>\n",
       "      <td>0.80</td>\n",
       "    </tr>\n",
       "  </tbody>\n",
       "</table>\n",
       "</div>"
      ],
      "text/plain": [
       "   s2/s1  s3/s2  s4/s3  s5/s4\n",
       "0   2.34   1.48   1.33   0.80"
      ]
     },
     "execution_count": 58,
     "metadata": {},
     "output_type": "execute_result"
    }
   ],
   "source": [
    "table5A_right"
   ]
  },
  {
   "cell_type": "code",
   "execution_count": 59,
   "metadata": {},
   "outputs": [],
   "source": [
    "SN_S5_ratio = S_vals[5-1]* np.arange(1,5+1) / (S_vals * 5)"
   ]
  },
  {
   "cell_type": "code",
   "execution_count": 60,
   "metadata": {},
   "outputs": [
    {
     "data": {
      "text/plain": [
       "array([3.68423177, 1.57308192, 1.06339658, 0.8       , 1.        ])"
      ]
     },
     "execution_count": 60,
     "metadata": {},
     "output_type": "execute_result"
    }
   ],
   "source": [
    "SN_S5_ratio"
   ]
  },
  {
   "cell_type": "code",
   "execution_count": 61,
   "metadata": {},
   "outputs": [
    {
     "data": {
      "image/png": "[encoded data removed]",
      "text/plain": [
       "<Figure size 648x504 with 1 Axes>"
      ]
     },
     "metadata": {},
     "output_type": "display_data"
    }
   ],
   "source": [
    "BIG = 18\n",
    "fig = plt.figure(figsize=(9,7))\n",
    "plt.plot([1,2,3,4,5], SN_S5_ratio, 'D', label='Apoteker')\n",
    "ax = fig.get_axes()[0]\n",
    "plt.legend(fontsize=BIG)\n",
    "plt.xlim(0,6)\n",
    "plt.ylim(0.8, 3.6)\n",
    "plt.title('Industry ratios of $s_5$ to $s_N$ by $N$', fontsize=BIG)\n",
    "plt.xlabel('Number of Firms', fontsize=BIG)\n",
    "plt.ylabel('$s_5/s_N$', fontsize=BIG);\n",
    "# ax.set_ylabel('$s_5/s_N$', fontsize=40)"
   ]
  }
 ],
 "metadata": {
  "kernelspec": {
   "display_name": "Python 3",
   "language": "python",
   "name": "python3"
  },
  "language_info": {
   "codemirror_mode": {
    "name": "ipython",
    "version": 3
   },
   "file_extension": ".py",
   "mimetype": "text/x-python",
   "name": "python",
   "nbconvert_exporter": "python",
   "pygments_lexer": "ipython3",
   "version": "3.7.3"
  },
  "varInspector": {
   "cols": {
    "lenName": 16,
    "lenType": 16,
    "lenVar": 40
   },
   "kernels_config": {
    "python": {
     "delete_cmd_postfix": "",
     "delete_cmd_prefix": "del ",
     "library": "var_list.py",
     "varRefreshCmd": "print(var_dic_list())"
    },
    "r": {
     "delete_cmd_postfix": ") ",
     "delete_cmd_prefix": "rm(",
     "library": "var_list.r",
     "varRefreshCmd": "cat(var_dic_list()) "
    }
   },
   "types_to_exclude": [
    "module",
    "function",
    "builtin_function_or_method",
    "instance",
    "_Feature"
   ],
   "window_display": false
  }
 },
 "nbformat": 4,
 "nbformat_minor": 4
}
