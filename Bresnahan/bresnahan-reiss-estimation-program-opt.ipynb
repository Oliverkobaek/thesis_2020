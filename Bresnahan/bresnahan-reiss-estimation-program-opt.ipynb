{
 "cells": [
  {
   "cell_type": "code",
   "execution_count": 1,
   "metadata": {},
   "outputs": [],
   "source": [
    "import pandas as pd\n",
    "import numpy as np\n",
    "from matplotlib import pyplot as plt\n",
    "%matplotlib inline\n",
    "import seaborn as sns\n",
    "import scipy.stats\n",
    "import scipy.optimize\n",
    "import numdifftools as nd\n",
    "from numdifftools import Jacobian, Hessian\n",
    "sns.set()"
   ]
  },
  {
   "cell_type": "code",
   "execution_count": 8,
   "metadata": {},
   "outputs": [
    {
     "name": "stdout",
     "output_type": "stream",
     "text": [
      "Collecting numdifftools\n",
      "  Downloading https://files.pythonhosted.org/packages/ab/c0/b0d967160ecc8db52ae34e063937d85e8d386f140ad4826aae2086245a5e/numdifftools-0.9.39-py2.py3-none-any.whl (953kB)\n",
      "Installing collected packages: numdifftools\n",
      "Successfully installed numdifftools-0.9.39\n"
     ]
    }
   ],
   "source": [
    "#!pip install numdifftools"
   ]
  },
  {
   "cell_type": "code",
   "execution_count": 2,
   "metadata": {},
   "outputs": [],
   "source": [
    "pd.set_option('precision', 2)\n",
    "pd.set_option('display.float_format', lambda x: '%.2f' % x)"
   ]
  },
  {
   "cell_type": "code",
   "execution_count": 166,
   "metadata": {},
   "outputs": [],
   "source": [
    "# Importerer data skabt med \"Bresnahan - data\"\n",
    "df = pd.read_csv(\"https://raw.githubusercontent.com/Oliverkobaek/thesis_2020/master/Bresnahan/Bresnahan_data_full_l%C3%A6s%C3%B8.csv\")\n",
    "df = df.drop(['Unnamed: 0'], axis=1)"
   ]
  },
  {
   "cell_type": "code",
   "execution_count": 176,
   "metadata": {},
   "outputs": [],
   "source": [
    "# Her har implementerert forskellige udgaver af data\n",
    "\n",
    "### Med og uden storbyer ###\n",
    "\n",
    "# Fjerner København\n",
    "#\n",
    "#storbyer = [101, 147, 461, 751, 851]\n",
    "  \n",
    "#for i in storbyer:\n",
    "#    df = df[df['Kommune'] != i]\n",
    "  \n",
    "#df = df[df['Kommune'] != 101]\n",
    "#df = df[df['Kommune'] != 147]\n",
    "\n",
    "\n",
    "### Forskellige år ###\n",
    "\n",
    "# Vi har primært fokuseret på perioden 2015-2018, da denne passer bedst på urestrikteret Bresnahan\n",
    "    \n",
    "\n",
    "df = df[(df['År'] != 2008) & (df['År'] !=  2009) & (df['År'] !=  2010) & (df['År'] !=  2011)& (df['År'] !=  2012)& (df['År'] !=  2013)& (df['År'] !=  2014)] #& (df['År'] !=  2015)\n",
    "#df = df[(df['År'] == 2017)] & (df['År'] !=  2015)\n",
    "#df = df[(df['År'] != 2015) & (df['År'] !=  2016) & (df['År'] !=  2017) & (df['År'] !=  2018)]\n",
    "\n",
    "\n",
    "### Forskellige skaleringer ###\n",
    "\n",
    "# Vi har forsøgt skaleringer som i Bresnahan, Schauman og andet - nogle skaleringer virker ikke til at konvergerer i vores optimizer\n",
    "\n",
    "df['logbefolkning'] = np.log(df['Befolkning'])\n",
    "df['logmarkedsvalue'] = df['markedsvaerdix']/100000 #np.log()\n",
    "df['logindkomst'] = df['samlet_ind']/100000 #np.log()"
   ]
  },
  {
   "cell_type": "code",
   "execution_count": 177,
   "metadata": {
    "scrolled": true
   },
   "outputs": [
    {
     "data": {
      "text/html": [
       "<div>\n",
       "<style scoped>\n",
       "    .dataframe tbody tr th:only-of-type {\n",
       "        vertical-align: middle;\n",
       "    }\n",
       "\n",
       "    .dataframe tbody tr th {\n",
       "        vertical-align: top;\n",
       "    }\n",
       "\n",
       "    .dataframe thead th {\n",
       "        text-align: right;\n",
       "    }\n",
       "</style>\n",
       "<table border=\"1\" class=\"dataframe\">\n",
       "  <thead>\n",
       "    <tr style=\"text-align: right;\">\n",
       "      <th></th>\n",
       "      <th>Kommune</th>\n",
       "      <th>ALDER</th>\n",
       "      <th>d65</th>\n",
       "      <th>d17</th>\n",
       "      <th>samlet_ind</th>\n",
       "      <th>Besk</th>\n",
       "      <th>Besk1864</th>\n",
       "      <th>DK</th>\n",
       "      <th>Befolkning</th>\n",
       "      <th>markedsvaerdix</th>\n",
       "      <th>yderkom</th>\n",
       "      <th>antal_apo</th>\n",
       "      <th>År</th>\n",
       "      <th>logbefolkning</th>\n",
       "      <th>logmarkedsvalue</th>\n",
       "      <th>logindkomst</th>\n",
       "    </tr>\n",
       "  </thead>\n",
       "  <tbody>\n",
       "    <tr>\n",
       "      <th>679</th>\n",
       "      <td>101</td>\n",
       "      <td>35.38</td>\n",
       "      <td>0.10</td>\n",
       "      <td>0.18</td>\n",
       "      <td>203077.10</td>\n",
       "      <td>0.54</td>\n",
       "      <td>0.71</td>\n",
       "      <td>0.76</td>\n",
       "      <td>591481</td>\n",
       "      <td>1768450.97</td>\n",
       "      <td>0</td>\n",
       "      <td>27</td>\n",
       "      <td>2015</td>\n",
       "      <td>13.29</td>\n",
       "      <td>17.68</td>\n",
       "      <td>2.03</td>\n",
       "    </tr>\n",
       "    <tr>\n",
       "      <th>680</th>\n",
       "      <td>147</td>\n",
       "      <td>38.84</td>\n",
       "      <td>0.17</td>\n",
       "      <td>0.17</td>\n",
       "      <td>230605.31</td>\n",
       "      <td>0.52</td>\n",
       "      <td>0.75</td>\n",
       "      <td>0.82</td>\n",
       "      <td>104481</td>\n",
       "      <td>2245134.86</td>\n",
       "      <td>0</td>\n",
       "      <td>5</td>\n",
       "      <td>2015</td>\n",
       "      <td>11.56</td>\n",
       "      <td>22.45</td>\n",
       "      <td>2.31</td>\n",
       "    </tr>\n",
       "    <tr>\n",
       "      <th>681</th>\n",
       "      <td>151</td>\n",
       "      <td>41.36</td>\n",
       "      <td>0.21</td>\n",
       "      <td>0.22</td>\n",
       "      <td>185774.19</td>\n",
       "      <td>0.46</td>\n",
       "      <td>0.74</td>\n",
       "      <td>0.85</td>\n",
       "      <td>48224</td>\n",
       "      <td>1652916.86</td>\n",
       "      <td>0</td>\n",
       "      <td>4</td>\n",
       "      <td>2015</td>\n",
       "      <td>10.78</td>\n",
       "      <td>16.53</td>\n",
       "      <td>1.86</td>\n",
       "    </tr>\n",
       "    <tr>\n",
       "      <th>682</th>\n",
       "      <td>153</td>\n",
       "      <td>40.83</td>\n",
       "      <td>0.19</td>\n",
       "      <td>0.21</td>\n",
       "      <td>162131.78</td>\n",
       "      <td>0.45</td>\n",
       "      <td>0.69</td>\n",
       "      <td>0.69</td>\n",
       "      <td>35322</td>\n",
       "      <td>1704673.21</td>\n",
       "      <td>0</td>\n",
       "      <td>3</td>\n",
       "      <td>2015</td>\n",
       "      <td>10.47</td>\n",
       "      <td>17.05</td>\n",
       "      <td>1.62</td>\n",
       "    </tr>\n",
       "    <tr>\n",
       "      <th>683</th>\n",
       "      <td>155</td>\n",
       "      <td>43.41</td>\n",
       "      <td>0.24</td>\n",
       "      <td>0.23</td>\n",
       "      <td>234501.33</td>\n",
       "      <td>0.48</td>\n",
       "      <td>0.80</td>\n",
       "      <td>0.92</td>\n",
       "      <td>14142</td>\n",
       "      <td>2232076.06</td>\n",
       "      <td>0</td>\n",
       "      <td>1</td>\n",
       "      <td>2015</td>\n",
       "      <td>9.56</td>\n",
       "      <td>22.32</td>\n",
       "      <td>2.35</td>\n",
       "    </tr>\n",
       "    <tr>\n",
       "      <th>...</th>\n",
       "      <td>...</td>\n",
       "      <td>...</td>\n",
       "      <td>...</td>\n",
       "      <td>...</td>\n",
       "      <td>...</td>\n",
       "      <td>...</td>\n",
       "      <td>...</td>\n",
       "      <td>...</td>\n",
       "      <td>...</td>\n",
       "      <td>...</td>\n",
       "      <td>...</td>\n",
       "      <td>...</td>\n",
       "      <td>...</td>\n",
       "      <td>...</td>\n",
       "      <td>...</td>\n",
       "      <td>...</td>\n",
       "    </tr>\n",
       "    <tr>\n",
       "      <th>1066</th>\n",
       "      <td>860</td>\n",
       "      <td>43.69</td>\n",
       "      <td>0.23</td>\n",
       "      <td>0.20</td>\n",
       "      <td>170647.52</td>\n",
       "      <td>0.48</td>\n",
       "      <td>0.76</td>\n",
       "      <td>0.92</td>\n",
       "      <td>64665</td>\n",
       "      <td>1131648.25</td>\n",
       "      <td>0</td>\n",
       "      <td>7</td>\n",
       "      <td>2018</td>\n",
       "      <td>11.08</td>\n",
       "      <td>11.32</td>\n",
       "      <td>1.71</td>\n",
       "    </tr>\n",
       "    <tr>\n",
       "      <th>1074</th>\n",
       "      <td>825</td>\n",
       "      <td>51.80</td>\n",
       "      <td>0.36</td>\n",
       "      <td>0.14</td>\n",
       "      <td>156511.19</td>\n",
       "      <td>0.47</td>\n",
       "      <td>0.74</td>\n",
       "      <td>0.92</td>\n",
       "      <td>1817</td>\n",
       "      <td>547791.16</td>\n",
       "      <td>1</td>\n",
       "      <td>0</td>\n",
       "      <td>2015</td>\n",
       "      <td>7.50</td>\n",
       "      <td>5.48</td>\n",
       "      <td>1.57</td>\n",
       "    </tr>\n",
       "    <tr>\n",
       "      <th>1075</th>\n",
       "      <td>825</td>\n",
       "      <td>52.28</td>\n",
       "      <td>0.37</td>\n",
       "      <td>0.13</td>\n",
       "      <td>158750.32</td>\n",
       "      <td>0.47</td>\n",
       "      <td>0.75</td>\n",
       "      <td>0.92</td>\n",
       "      <td>1793</td>\n",
       "      <td>489477.15</td>\n",
       "      <td>1</td>\n",
       "      <td>0</td>\n",
       "      <td>2016</td>\n",
       "      <td>7.49</td>\n",
       "      <td>4.89</td>\n",
       "      <td>1.59</td>\n",
       "    </tr>\n",
       "    <tr>\n",
       "      <th>1076</th>\n",
       "      <td>825</td>\n",
       "      <td>52.95</td>\n",
       "      <td>0.38</td>\n",
       "      <td>0.13</td>\n",
       "      <td>165000.49</td>\n",
       "      <td>0.48</td>\n",
       "      <td>0.75</td>\n",
       "      <td>0.91</td>\n",
       "      <td>1807</td>\n",
       "      <td>570316.13</td>\n",
       "      <td>1</td>\n",
       "      <td>0</td>\n",
       "      <td>2017</td>\n",
       "      <td>7.50</td>\n",
       "      <td>5.70</td>\n",
       "      <td>1.65</td>\n",
       "    </tr>\n",
       "    <tr>\n",
       "      <th>1077</th>\n",
       "      <td>825</td>\n",
       "      <td>53.05</td>\n",
       "      <td>0.39</td>\n",
       "      <td>0.13</td>\n",
       "      <td>166023.23</td>\n",
       "      <td>0.49</td>\n",
       "      <td>0.76</td>\n",
       "      <td>0.91</td>\n",
       "      <td>1806</td>\n",
       "      <td>556332.47</td>\n",
       "      <td>1</td>\n",
       "      <td>0</td>\n",
       "      <td>2018</td>\n",
       "      <td>7.50</td>\n",
       "      <td>5.56</td>\n",
       "      <td>1.66</td>\n",
       "    </tr>\n",
       "  </tbody>\n",
       "</table>\n",
       "<p>392 rows × 16 columns</p>\n",
       "</div>"
      ],
      "text/plain": [
       "      Kommune  ALDER  d65  d17  samlet_ind  Besk  Besk1864   DK  Befolkning  \\\n",
       "679       101  35.38 0.10 0.18   203077.10  0.54      0.71 0.76      591481   \n",
       "680       147  38.84 0.17 0.17   230605.31  0.52      0.75 0.82      104481   \n",
       "681       151  41.36 0.21 0.22   185774.19  0.46      0.74 0.85       48224   \n",
       "682       153  40.83 0.19 0.21   162131.78  0.45      0.69 0.69       35322   \n",
       "683       155  43.41 0.24 0.23   234501.33  0.48      0.80 0.92       14142   \n",
       "...       ...    ...  ...  ...         ...   ...       ...  ...         ...   \n",
       "1066      860  43.69 0.23 0.20   170647.52  0.48      0.76 0.92       64665   \n",
       "1074      825  51.80 0.36 0.14   156511.19  0.47      0.74 0.92        1817   \n",
       "1075      825  52.28 0.37 0.13   158750.32  0.47      0.75 0.92        1793   \n",
       "1076      825  52.95 0.38 0.13   165000.49  0.48      0.75 0.91        1807   \n",
       "1077      825  53.05 0.39 0.13   166023.23  0.49      0.76 0.91        1806   \n",
       "\n",
       "      markedsvaerdix  yderkom  antal_apo    År  logbefolkning  \\\n",
       "679       1768450.97        0         27  2015          13.29   \n",
       "680       2245134.86        0          5  2015          11.56   \n",
       "681       1652916.86        0          4  2015          10.78   \n",
       "682       1704673.21        0          3  2015          10.47   \n",
       "683       2232076.06        0          1  2015           9.56   \n",
       "...              ...      ...        ...   ...            ...   \n",
       "1066      1131648.25        0          7  2018          11.08   \n",
       "1074       547791.16        1          0  2015           7.50   \n",
       "1075       489477.15        1          0  2016           7.49   \n",
       "1076       570316.13        1          0  2017           7.50   \n",
       "1077       556332.47        1          0  2018           7.50   \n",
       "\n",
       "      logmarkedsvalue  logindkomst  \n",
       "679             17.68         2.03  \n",
       "680             22.45         2.31  \n",
       "681             16.53         1.86  \n",
       "682             17.05         1.62  \n",
       "683             22.32         2.35  \n",
       "...               ...          ...  \n",
       "1066            11.32         1.71  \n",
       "1074             5.48         1.57  \n",
       "1075             4.89         1.59  \n",
       "1076             5.70         1.65  \n",
       "1077             5.56         1.66  \n",
       "\n",
       "[392 rows x 16 columns]"
      ]
     },
     "execution_count": 177,
     "metadata": {},
     "output_type": "execute_result"
    }
   ],
   "source": [
    "df"
   ]
  },
  {
   "cell_type": "code",
   "execution_count": 178,
   "metadata": {},
   "outputs": [],
   "source": [
    "# Opsætning af log-likelihood\n",
    "\n",
    "\n",
    "def V(df, Ni, alpha=np.ones(5), beta=np.ones(5)):\n",
    "    \"\"\"Variabel profit funktion\n",
    "    df: data\n",
    "    Ni: Antal apoteker i markedet\n",
    "    alpha: alpha parametrer\n",
    "    beta: beta parametrer\n",
    "    \"\"\"\n",
    "    # opsætning af alpha parametrer alt efter om der er 0-5 incumbents\n",
    "    n = np.min([5, Ni])\n",
    "    a = 0\n",
    "    for i in range(1,n):\n",
    "        a = a + alpha[i]\n",
    "    \n",
    "# Her konstruerer vi Z af de kontrol variable vi har data på\n",
    "    Z = np.c_[df.d65, df.d17, df.logindkomst, df.Besk1864, df.DK]\n",
    "\n",
    "# Mulighed for at implementerer W i variabel profit\n",
    "    # W = df.LANDV\n",
    "    # X = np.c_[W, Z]\n",
    "\n",
    "    X = np.c_[Z]\n",
    "        \n",
    "    profit = alpha[0] + X @ beta - a\n",
    "    return profit\n",
    "\n",
    "def F(df, Ni, gamma=np.ones(5)):\n",
    "    \"\"\"Fixed cost funktion\n",
    "    df: data\n",
    "    Ni: Antal apoteker i markedet\n",
    "    gamma: gamma parametrer\n",
    "    \"\"\"\n",
    "    # opsætning af gamma parametrer alt efter om der er 0-5 incumbents\n",
    "    n = np.min([5, Ni])\n",
    "    g = 0\n",
    "    for i in range(1,n):\n",
    "        g = g + gamma[i]\n",
    "\n",
    "    fixed_cost = gamma[0] + gamma[5]*df.logmarkedsvalue + g\n",
    "    return fixed_cost\n",
    "\n",
    "# Vi har en meget reduceret S(Y, lam) funktion forhold til Bresnahan, da vi ikke har befolkningstilvækst, pendler og nærliggende byer med\n",
    "def S_func(df, lam): #, lam - Vi har forsøgt at kører med lam = 1 som i Bresnahan\n",
    "    \"\"\"Antal forbrugere funktion\n",
    "    df: data\n",
    "    lam: lam parametrer\n",
    "    \"\"\"\n",
    "    S =   lam * df.logbefolkning\n",
    "    return S\n",
    "\n",
    "\n",
    "def neg_log_lik(theta=np.ones(17), market='antal_apo', df=df):\n",
    "    lam = theta[0]\n",
    "    beta = theta[1:6]\n",
    "    alpha = theta[6:11]\n",
    "    gamma = theta[11:17]\n",
    "#    my = theta[17]\n",
    "#    beta = theta[0:5]\n",
    "#    alpha = theta[5:10]\n",
    "#    gamma = theta[10:16]\n",
    "    \n",
    "    \n",
    "    Phi = scipy.stats.norm.cdf\n",
    "    \n",
    "    S = S_func(df, lam) #, lam\n",
    "\n",
    "    \n",
    "    P = [0] * 6\n",
    "    Pi_bar = lambda N: S * V(df, N, alpha=alpha, beta=beta) - F(df, N, gamma=gamma)\n",
    "    P[0] = np.log( 1 - Phi(Pi_bar(0)) )\n",
    "    P[5] = np.log( Phi(Pi_bar(5)) )\n",
    "    for i in range(1,5):\n",
    "        P[i] = np.log( Phi(Pi_bar(i)) - Phi(Pi_bar(i+1)) )\n",
    "\n",
    "        \n",
    "    for i in range(6):\n",
    "        P[i][P[i] == -np.inf] = -100000000\n",
    "    log_lik = 0 \n",
    "    for i in range(5):\n",
    "        log_lik = log_lik + np.sum(P[i] * (df[market] == i))\n",
    "    log_lik = log_lik + np.sum(P[5] * (df[market] >= 5))\n",
    "    return -log_lik\n",
    "\n",
    "\n",
    "def theta_to_param_dict(theta):\n",
    "    lam = theta[0]\n",
    "    beta = theta[1:6]\n",
    "    alpha = theta[6:11]\n",
    "    gamma = theta[11:17]\n",
    "#    my = theta[17]\n",
    "#    beta = theta[0:5]\n",
    "#    alpha = theta[5:10]\n",
    "#    gamma = theta[10:16]\n",
    "    \n",
    "    \n",
    "    d = {'lam': lam, 'beta': beta, 'alpha': alpha, 'gamma': gamma, 'theta': theta } #'my': my,\n",
    "    return d"
   ]
  },
  {
   "cell_type": "code",
   "execution_count": 179,
   "metadata": {},
   "outputs": [
    {
     "data": {
      "text/plain": [
       "1346.721885901282"
      ]
     },
     "execution_count": 179,
     "metadata": {},
     "output_type": "execute_result"
    }
   ],
   "source": [
    "# Hurtig test om det kører\n",
    "theta0 = np.ones(17) * 0.1\n",
    "neg_log_lik(df=df, theta=theta0)"
   ]
  },
  {
   "cell_type": "code",
   "execution_count": 180,
   "metadata": {},
   "outputs": [
    {
     "name": "stderr",
     "output_type": "stream",
     "text": [
      "C:\\Users\\Oliver\\Anaconda3\\lib\\site-packages\\ipykernel_launcher.py:55: RuntimeWarning: divide by zero encountered in log\n",
      "C:\\Users\\Oliver\\Anaconda3\\lib\\site-packages\\ipykernel_launcher.py:58: RuntimeWarning: divide by zero encountered in log\n"
     ]
    },
    {
     "name": "stdout",
     "output_type": "stream",
     "text": [
      "Wall time: 19.9 s\n"
     ]
    }
   ],
   "source": [
    "%%time\n",
    "# Opsætning af bounds for parametrer \n",
    "#  - vi vil ikke have negative alpha 1-5 eller gamma 1-5\n",
    "\n",
    "ba = [-np.inf] * 6\n",
    "bb = [0] * 10\n",
    "lower_bounds = [*ba, *bb, -np.inf]\n",
    "upper_bounds = [np.inf] * 17\n",
    "bounds = list(zip(lower_bounds, upper_bounds))\n",
    "\n",
    "# Optimering af log-likelihood (tager ca. 2 min)\n",
    "# Start gæt er 0.1 for alle parametrer\n",
    "theta0 = np.ones(17) * 0.1\n",
    "\n",
    "nll = lambda theta: neg_log_lik(theta=theta, df=df)\n",
    "out = scipy.optimize.minimize(nll, theta0, bounds=bounds,\n",
    "    options={'disp': False, 'maxiter': 10000}\n",
    "    )"
   ]
  },
  {
   "cell_type": "code",
   "execution_count": 181,
   "metadata": {},
   "outputs": [
    {
     "data": {
      "text/plain": [
       "      fun: 478.7061936641023\n",
       " hess_inv: <17x17 LbfgsInvHessProduct with dtype=float64>\n",
       "      jac: array([-113.48685121,  -29.43899631,   -6.28162411, -144.22248569,\n",
       "        -49.33897912,  -70.54663911,  -79.77881751,   92.84677276,\n",
       "         50.14110798,  120.24374314,   81.23802786,    4.47525395,\n",
       "          7.33901402,    1.48887125,   13.95885079,    9.20495609,\n",
       "        216.27103592])\n",
       "  message: b'CONVERGENCE: REL_REDUCTION_OF_F_<=_FACTR*EPSMCH'\n",
       "     nfev: 1260\n",
       "      nit: 56\n",
       "   status: 0\n",
       "  success: True\n",
       "        x: array([ 0.65647408, -2.88542427, -0.10067677,  0.1627941 , -1.54652838,\n",
       "        1.05254497,  1.87876807,  0.00463175,  0.        ,  0.0612556 ,\n",
       "        0.04235205,  3.28062836,  3.28035405,  0.92088514,  0.32617598,\n",
       "        0.27893406,  0.07156334])"
      ]
     },
     "execution_count": 181,
     "metadata": {},
     "output_type": "execute_result"
    }
   ],
   "source": [
    "out"
   ]
  },
  {
   "cell_type": "code",
   "execution_count": 182,
   "metadata": {},
   "outputs": [
    {
     "name": "stderr",
     "output_type": "stream",
     "text": [
      "C:\\Users\\Oliver\\Anaconda3\\lib\\site-packages\\ipykernel_launcher.py:55: RuntimeWarning: divide by zero encountered in log\n",
      "C:\\Users\\Oliver\\Anaconda3\\lib\\site-packages\\ipykernel_launcher.py:58: RuntimeWarning: divide by zero encountered in log\n",
      "C:\\Users\\Oliver\\Anaconda3\\lib\\site-packages\\ipykernel_launcher.py:56: RuntimeWarning: divide by zero encountered in log\n",
      "C:\\Users\\Oliver\\Anaconda3\\lib\\site-packages\\ipykernel_launcher.py:58: RuntimeWarning: invalid value encountered in log\n",
      "C:\\Users\\Oliver\\Anaconda3\\lib\\site-packages\\ipykernel_launcher.py:3: RuntimeWarning: invalid value encountered in sqrt\n",
      "  This is separate from the ipykernel package so we can avoid doing imports until\n"
     ]
    }
   ],
   "source": [
    "# Beregning af standard errors til parametrerne:\n",
    "# Vi anvender numdifftools\n",
    "\n",
    "Hfun = nd.Hessian(nll, full_output=True)\n",
    "hessian_nd, info= Hfun(out['x'])\n",
    "se = np.sqrt(np.diag(np.linalg.inv(hessian_nd)))\n",
    "\n",
    "results = pd.DataFrame({'parameters':out['x'],'std err':se})\n",
    "results.index=['lambda - befolkning','beta_1 - Andel over 65','beta_2 - Andel under 17','beta_3 - indkomst','beta_4 - Beskæftiget mellem 18-64','beta_5 - Andel med udenlandsk baggrund','alpha_1','alpha_2','alpha_3','alpha_4','alpha_5','gamma_1','gamma_2','gamma_3','gamma_4','gamma_5', 'gamma_6 - Markedsværdi'] #,'gamma6'  \n"
   ]
  },
  {
   "cell_type": "code",
   "execution_count": 183,
   "metadata": {},
   "outputs": [
    {
     "data": {
      "text/html": [
       "<div>\n",
       "<style scoped>\n",
       "    .dataframe tbody tr th:only-of-type {\n",
       "        vertical-align: middle;\n",
       "    }\n",
       "\n",
       "    .dataframe tbody tr th {\n",
       "        vertical-align: top;\n",
       "    }\n",
       "\n",
       "    .dataframe thead th {\n",
       "        text-align: right;\n",
       "    }\n",
       "</style>\n",
       "<table border=\"1\" class=\"dataframe\">\n",
       "  <thead>\n",
       "    <tr style=\"text-align: right;\">\n",
       "      <th></th>\n",
       "      <th>parameters</th>\n",
       "      <th>std err</th>\n",
       "    </tr>\n",
       "  </thead>\n",
       "  <tbody>\n",
       "    <tr>\n",
       "      <th>lambda - befolkning</th>\n",
       "      <td>0.66</td>\n",
       "      <td>nan</td>\n",
       "    </tr>\n",
       "    <tr>\n",
       "      <th>beta_1 - Andel over 65</th>\n",
       "      <td>-2.89</td>\n",
       "      <td>0.50</td>\n",
       "    </tr>\n",
       "    <tr>\n",
       "      <th>beta_2 - Andel under 17</th>\n",
       "      <td>-0.10</td>\n",
       "      <td>0.93</td>\n",
       "    </tr>\n",
       "    <tr>\n",
       "      <th>beta_3 - indkomst</th>\n",
       "      <td>0.16</td>\n",
       "      <td>0.07</td>\n",
       "    </tr>\n",
       "    <tr>\n",
       "      <th>beta_4 - Beskæftiget mellem 18-64</th>\n",
       "      <td>-1.55</td>\n",
       "      <td>0.42</td>\n",
       "    </tr>\n",
       "    <tr>\n",
       "      <th>beta_5 - Andel med udenlandsk baggrund</th>\n",
       "      <td>1.05</td>\n",
       "      <td>0.20</td>\n",
       "    </tr>\n",
       "    <tr>\n",
       "      <th>alpha_1</th>\n",
       "      <td>1.88</td>\n",
       "      <td>1.09</td>\n",
       "    </tr>\n",
       "    <tr>\n",
       "      <th>alpha_2</th>\n",
       "      <td>0.00</td>\n",
       "      <td>1.11</td>\n",
       "    </tr>\n",
       "    <tr>\n",
       "      <th>alpha_3</th>\n",
       "      <td>0.00</td>\n",
       "      <td>0.36</td>\n",
       "    </tr>\n",
       "    <tr>\n",
       "      <th>alpha_4</th>\n",
       "      <td>0.06</td>\n",
       "      <td>0.33</td>\n",
       "    </tr>\n",
       "    <tr>\n",
       "      <th>alpha_5</th>\n",
       "      <td>0.04</td>\n",
       "      <td>0.39</td>\n",
       "    </tr>\n",
       "    <tr>\n",
       "      <th>gamma_1</th>\n",
       "      <td>3.28</td>\n",
       "      <td>5.84</td>\n",
       "    </tr>\n",
       "    <tr>\n",
       "      <th>gamma_2</th>\n",
       "      <td>3.28</td>\n",
       "      <td>5.99</td>\n",
       "    </tr>\n",
       "    <tr>\n",
       "      <th>gamma_3</th>\n",
       "      <td>0.92</td>\n",
       "      <td>2.46</td>\n",
       "    </tr>\n",
       "    <tr>\n",
       "      <th>gamma_4</th>\n",
       "      <td>0.33</td>\n",
       "      <td>2.32</td>\n",
       "    </tr>\n",
       "    <tr>\n",
       "      <th>gamma_5</th>\n",
       "      <td>0.28</td>\n",
       "      <td>2.79</td>\n",
       "    </tr>\n",
       "    <tr>\n",
       "      <th>gamma_6 - Markedsværdi</th>\n",
       "      <td>0.07</td>\n",
       "      <td>0.03</td>\n",
       "    </tr>\n",
       "  </tbody>\n",
       "</table>\n",
       "</div>"
      ],
      "text/plain": [
       "                                        parameters  std err\n",
       "lambda - befolkning                           0.66      nan\n",
       "beta_1 - Andel over 65                       -2.89     0.50\n",
       "beta_2 - Andel under 17                      -0.10     0.93\n",
       "beta_3 - indkomst                             0.16     0.07\n",
       "beta_4 - Beskæftiget mellem 18-64            -1.55     0.42\n",
       "beta_5 - Andel med udenlandsk baggrund        1.05     0.20\n",
       "alpha_1                                       1.88     1.09\n",
       "alpha_2                                       0.00     1.11\n",
       "alpha_3                                       0.00     0.36\n",
       "alpha_4                                       0.06     0.33\n",
       "alpha_5                                       0.04     0.39\n",
       "gamma_1                                       3.28     5.84\n",
       "gamma_2                                       3.28     5.99\n",
       "gamma_3                                       0.92     2.46\n",
       "gamma_4                                       0.33     2.32\n",
       "gamma_5                                       0.28     2.79\n",
       "gamma_6 - Markedsværdi                        0.07     0.03"
      ]
     },
     "execution_count": 183,
     "metadata": {},
     "output_type": "execute_result"
    }
   ],
   "source": [
    "results"
   ]
  },
  {
   "cell_type": "code",
   "execution_count": 184,
   "metadata": {},
   "outputs": [
    {
     "data": {
      "text/plain": [
       "array([       nan, 0.49633777, 0.93376073, 0.06784275, 0.42086398,\n",
       "       0.19612377, 1.08896746, 1.11480096, 0.36403264, 0.33197016,\n",
       "       0.39451774, 5.84257171, 5.99034759, 2.45528275, 2.31661203,\n",
       "       2.78762187, 0.02881246])"
      ]
     },
     "execution_count": 184,
     "metadata": {},
     "output_type": "execute_result"
    }
   ],
   "source": [
    "se"
   ]
  },
  {
   "cell_type": "code",
   "execution_count": 185,
   "metadata": {},
   "outputs": [],
   "source": [
    "hat_theta = theta_to_param_dict(out.x)"
   ]
  },
  {
   "cell_type": "code",
   "execution_count": 186,
   "metadata": {},
   "outputs": [
    {
     "data": {
      "text/plain": [
       "{'lam': 0.6564740789792425,\n",
       " 'beta': array([-2.88542427, -0.10067677,  0.1627941 , -1.54652838,  1.05254497]),\n",
       " 'alpha': array([1.87876807, 0.00463175, 0.        , 0.0612556 , 0.04235205]),\n",
       " 'gamma': array([3.28062836, 3.28035405, 0.92088514, 0.32617598, 0.27893406,\n",
       "        0.07156334]),\n",
       " 'theta': array([ 0.65647408, -2.88542427, -0.10067677,  0.1627941 , -1.54652838,\n",
       "         1.05254497,  1.87876807,  0.00463175,  0.        ,  0.0612556 ,\n",
       "         0.04235205,  3.28062836,  3.28035405,  0.92088514,  0.32617598,\n",
       "         0.27893406,  0.07156334])}"
      ]
     },
     "execution_count": 186,
     "metadata": {},
     "output_type": "execute_result"
    }
   ],
   "source": [
    "hat_theta"
   ]
  },
  {
   "cell_type": "code",
   "execution_count": 187,
   "metadata": {},
   "outputs": [
    {
     "name": "stdout",
     "output_type": "stream",
     "text": [
      "4.228786495848466\n",
      "[1.30352637]\n",
      "7.50914054121737\n",
      "[1.29889462]\n",
      "8.43002568519968\n",
      "[1.29889462]\n",
      "8.756201660366251\n",
      "[1.23763902]\n",
      "9.0351357227572\n",
      "[1.19528697]\n"
     ]
    }
   ],
   "source": [
    "# Beregning af S_1 - S_5\n",
    "def calcS(df, theta):\n",
    "    d = theta_to_param_dict(theta)\n",
    "    S_grid = np.zeros(5)\n",
    "    \n",
    "    dfm = df.mean()\n",
    "    for i in range(5):\n",
    "        n = i + 1\n",
    "        S_grid[i] = F(dfm, n, d['gamma']) / V(dfm, n, d['alpha'], d['beta'])\n",
    "        # Vi har indsat print fordi vi havde problemer med negative værdier\n",
    "        print(F(dfm, n, d['gamma']) )\n",
    "        print(V(dfm, n, d['alpha'], d['beta']))\n",
    "    return S_grid\n",
    "\n",
    "S_vals = calcS(df, out.x)"
   ]
  },
  {
   "cell_type": "code",
   "execution_count": 189,
   "metadata": {},
   "outputs": [
    {
     "data": {
      "text/html": [
       "<div>\n",
       "<style scoped>\n",
       "    .dataframe tbody tr th:only-of-type {\n",
       "        vertical-align: middle;\n",
       "    }\n",
       "\n",
       "    .dataframe tbody tr th {\n",
       "        vertical-align: top;\n",
       "    }\n",
       "\n",
       "    .dataframe thead th {\n",
       "        text-align: right;\n",
       "    }\n",
       "</style>\n",
       "<table border=\"1\" class=\"dataframe\">\n",
       "  <thead>\n",
       "    <tr style=\"text-align: right;\">\n",
       "      <th></th>\n",
       "      <th>S_1</th>\n",
       "      <th>S_2</th>\n",
       "      <th>S_3</th>\n",
       "      <th>S_4</th>\n",
       "      <th>S_5</th>\n",
       "    </tr>\n",
       "  </thead>\n",
       "  <tbody>\n",
       "    <tr>\n",
       "      <th>Apoteker</th>\n",
       "      <td>3.24</td>\n",
       "      <td>5.78</td>\n",
       "      <td>6.49</td>\n",
       "      <td>7.07</td>\n",
       "      <td>7.56</td>\n",
       "    </tr>\n",
       "  </tbody>\n",
       "</table>\n",
       "</div>"
      ],
      "text/plain": [
       "          S_1  S_2  S_3  S_4  S_5\n",
       "Apoteker 3.24 5.78 6.49 7.07 7.56"
      ]
     },
     "execution_count": 189,
     "metadata": {},
     "output_type": "execute_result"
    }
   ],
   "source": [
    "table5A_left = pd.DataFrame({'Apoteker':S_vals}).T\n",
    "table5A_left.columns = ['S_1', 'S_2', 'S_3', 'S_4', 'S_5']\n",
    "table5A_left"
   ]
  },
  {
   "cell_type": "code",
   "execution_count": 190,
   "metadata": {},
   "outputs": [],
   "source": [
    "a = [S_vals[i+1]/S_vals[i] * ((i+1)/(i+2)) for i in range(4)]\n",
    "table5A_right = pd.DataFrame(a).T\n",
    "table5A_right.columns = ['s2/s1', 's3/s2', 's4/s3', 's5/s4']"
   ]
  },
  {
   "cell_type": "code",
   "execution_count": 191,
   "metadata": {},
   "outputs": [
    {
     "data": {
      "text/html": [
       "<div>\n",
       "<style scoped>\n",
       "    .dataframe tbody tr th:only-of-type {\n",
       "        vertical-align: middle;\n",
       "    }\n",
       "\n",
       "    .dataframe tbody tr th {\n",
       "        vertical-align: top;\n",
       "    }\n",
       "\n",
       "    .dataframe thead th {\n",
       "        text-align: right;\n",
       "    }\n",
       "</style>\n",
       "<table border=\"1\" class=\"dataframe\">\n",
       "  <thead>\n",
       "    <tr style=\"text-align: right;\">\n",
       "      <th></th>\n",
       "      <th>s2/s1</th>\n",
       "      <th>s3/s2</th>\n",
       "      <th>s4/s3</th>\n",
       "      <th>s5/s4</th>\n",
       "    </tr>\n",
       "  </thead>\n",
       "  <tbody>\n",
       "    <tr>\n",
       "      <th>0</th>\n",
       "      <td>0.89</td>\n",
       "      <td>0.75</td>\n",
       "      <td>0.82</td>\n",
       "      <td>0.85</td>\n",
       "    </tr>\n",
       "  </tbody>\n",
       "</table>\n",
       "</div>"
      ],
      "text/plain": [
       "   s2/s1  s3/s2  s4/s3  s5/s4\n",
       "0   0.89   0.75   0.82   0.85"
      ]
     },
     "execution_count": 191,
     "metadata": {},
     "output_type": "execute_result"
    }
   ],
   "source": [
    "table5A_right"
   ]
  },
  {
   "cell_type": "code",
   "execution_count": 192,
   "metadata": {},
   "outputs": [],
   "source": [
    "SN_S5_ratio = S_vals[5-1]* np.arange(1,5+1) / (S_vals * 5)"
   ]
  },
  {
   "cell_type": "code",
   "execution_count": 193,
   "metadata": {},
   "outputs": [
    {
     "data": {
      "text/plain": [
       "array([0.46601141, 0.5230054 , 0.69880944, 0.85473349, 1.        ])"
      ]
     },
     "execution_count": 193,
     "metadata": {},
     "output_type": "execute_result"
    }
   ],
   "source": [
    "SN_S5_ratio"
   ]
  },
  {
   "cell_type": "code",
   "execution_count": 194,
   "metadata": {},
   "outputs": [
    {
     "data": {
      "image/png": "[encoded data removed]",
      "text/plain": [
       "<Figure size 648x504 with 1 Axes>"
      ]
     },
     "metadata": {},
     "output_type": "display_data"
    }
   ],
   "source": [
    "BIG = 18\n",
    "fig = plt.figure(figsize=(9,7))\n",
    "plt.plot([1,2,3,4,5], SN_S5_ratio, 'D', label='Apoteker')\n",
    "ax = fig.get_axes()[0]\n",
    "plt.legend(fontsize=BIG)\n",
    "plt.xlim(0,6)\n",
    "plt.ylim(0.8, 3.6)\n",
    "plt.title('Fig. 4. -- Industry ratios of $s_5$ to $s_N$ by $N$', fontsize=BIG)\n",
    "plt.xlabel('Number of Firms', fontsize=BIG)\n",
    "plt.ylabel('$s_5/s_N$', fontsize=BIG);\n",
    "# ax.set_ylabel('$s_5/s_N$', fontsize=40)"
   ]
  }
 ],
 "metadata": {
  "kernelspec": {
   "display_name": "Python 3",
   "language": "python",
   "name": "python3"
  },
  "language_info": {
   "codemirror_mode": {
    "name": "ipython",
    "version": 3
   },
   "file_extension": ".py",
   "mimetype": "text/x-python",
   "name": "python",
   "nbconvert_exporter": "python",
   "pygments_lexer": "ipython3",
   "version": "3.7.3"
  },
  "varInspector": {
   "cols": {
    "lenName": 16,
    "lenType": 16,
    "lenVar": 40
   },
   "kernels_config": {
    "python": {
     "delete_cmd_postfix": "",
     "delete_cmd_prefix": "del ",
     "library": "var_list.py",
     "varRefreshCmd": "print(var_dic_list())"
    },
    "r": {
     "delete_cmd_postfix": ") ",
     "delete_cmd_prefix": "rm(",
     "library": "var_list.r",
     "varRefreshCmd": "cat(var_dic_list()) "
    }
   },
   "types_to_exclude": [
    "module",
    "function",
    "builtin_function_or_method",
    "instance",
    "_Feature"
   ],
   "window_display": false
  }
 },
 "nbformat": 4,
 "nbformat_minor": 4
}
