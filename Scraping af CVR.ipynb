{
 "cells": [
  {
   "cell_type": "code",
   "execution_count": 1,
   "metadata": {},
   "outputs": [],
   "source": [
    "import numpy as np\n",
    "import matplotlib.pyplot as plt \n",
    "import pandas as pd\n",
    "import json\n",
    "import os\n",
    "import requests\n",
    "import time\n",
    "from tqdm import tqdm"
   ]
  },
  {
   "cell_type": "code",
   "execution_count": 14,
   "metadata": {},
   "outputs": [],
   "source": [
    "url = 'https://raw.githubusercontent.com/Oliverkobaek/thesis_2020/master/APOTEK_20200109.csv'\n",
    "exceldata = pd.read_csv(url)\n",
    "exceldata = exceldata.dropna(subset=['Adresse', 'PostNr'])\n",
    "df=exceldata.reset_index(drop=True)"
   ]
  },
  {
   "cell_type": "code",
   "execution_count": 32,
   "metadata": {},
   "outputs": [],
   "source": [
    "import math\n",
    "mangler_start = []\n",
    "for i in range(len(df)):\n",
    "    try:\n",
    "        if math.isnan(df['Startdato'][i]):\n",
    "            mangler_start.append(df['Navn'][i])\n",
    "    except Exception:\n",
    "        continue"
   ]
  },
  {
   "cell_type": "code",
   "execution_count": 33,
   "metadata": {},
   "outputs": [
    {
     "data": {
      "text/plain": [
       "153"
      ]
     },
     "execution_count": 33,
     "metadata": {},
     "output_type": "execute_result"
    }
   ],
   "source": [
    "len(mangler_start)"
   ]
  },
  {
   "cell_type": "code",
   "execution_count": 76,
   "metadata": {},
   "outputs": [],
   "source": [
    "url_virk = 'https://raw.githubusercontent.com/Oliverkobaek/thesis_2020/master/CVR_virk.csv'\n",
    "cvr_virk = pd.read_csv(url_virk, sep=';')"
   ]
  },
  {
   "cell_type": "code",
   "execution_count": 79,
   "metadata": {},
   "outputs": [
    {
     "data": {
      "text/html": [
       "<div>\n",
       "<style scoped>\n",
       "    .dataframe tbody tr th:only-of-type {\n",
       "        vertical-align: middle;\n",
       "    }\n",
       "\n",
       "    .dataframe tbody tr th {\n",
       "        vertical-align: top;\n",
       "    }\n",
       "\n",
       "    .dataframe thead th {\n",
       "        text-align: right;\n",
       "    }\n",
       "</style>\n",
       "<table border=\"1\" class=\"dataframe\">\n",
       "  <thead>\n",
       "    <tr style=\"text-align: right;\">\n",
       "      <th></th>\n",
       "      <th>CVR-nummer</th>\n",
       "      <th>Startdato</th>\n",
       "      <th>Ophørsdato</th>\n",
       "      <th>Navn</th>\n",
       "      <th>Adresse</th>\n",
       "      <th>Postnr.</th>\n",
       "      <th>By</th>\n",
       "      <th>Virksomhedsform</th>\n",
       "      <th>Hovedbranche</th>\n",
       "      <th>Telefonnr</th>\n",
       "      <th>Email</th>\n",
       "      <th>Reklamebeskyttet</th>\n",
       "    </tr>\n",
       "  </thead>\n",
       "  <tbody>\n",
       "    <tr>\n",
       "      <th>0</th>\n",
       "      <td>36706333</td>\n",
       "      <td>07.04.2015</td>\n",
       "      <td>NaN</td>\n",
       "      <td>Det Gamle Apotek A/S</td>\n",
       "      <td>Hydrovej 5</td>\n",
       "      <td>6270</td>\n",
       "      <td>Tønder</td>\n",
       "      <td>Aktieselskab</td>\n",
       "      <td>464930 Engroshandel med kufferter og lædervarer</td>\n",
       "      <td>NaN</td>\n",
       "      <td>NaN</td>\n",
       "      <td>Nej</td>\n",
       "    </tr>\n",
       "    <tr>\n",
       "      <th>1</th>\n",
       "      <td>31896738</td>\n",
       "      <td>07.01.2009</td>\n",
       "      <td>NaN</td>\n",
       "      <td>CAFÉ BLÅGÅRDS APOTEK ApS</td>\n",
       "      <td>Blågårdsgade 20</td>\n",
       "      <td>2200</td>\n",
       "      <td>København</td>\n",
       "      <td>Anpartsselskab</td>\n",
       "      <td>563000 Cafeér  værtshuse  diskoteker mv.</td>\n",
       "      <td>35372442.0</td>\n",
       "      <td>bestyrer@kroteket.dk</td>\n",
       "      <td>Nej</td>\n",
       "    </tr>\n",
       "    <tr>\n",
       "      <th>2</th>\n",
       "      <td>28304641</td>\n",
       "      <td>22.12.2004</td>\n",
       "      <td>NaN</td>\n",
       "      <td>DET BETTE APOTEK ApS</td>\n",
       "      <td>Tolstrupvej 102</td>\n",
       "      <td>9700</td>\n",
       "      <td>Brønderslev</td>\n",
       "      <td>Anpartsselskab</td>\n",
       "      <td>999999 Uoplyst</td>\n",
       "      <td>NaN</td>\n",
       "      <td>NaN</td>\n",
       "      <td>Nej</td>\n",
       "    </tr>\n",
       "  </tbody>\n",
       "</table>\n",
       "</div>"
      ],
      "text/plain": [
       "  CVR-nummer   Startdato Ophørsdato                       Navn  \\\n",
       "0   36706333  07.04.2015        NaN      Det Gamle Apotek A/S    \n",
       "1   31896738  07.01.2009        NaN  CAFÉ BLÅGÅRDS APOTEK ApS    \n",
       "2   28304641  22.12.2004        NaN      DET BETTE APOTEK ApS    \n",
       "\n",
       "           Adresse  Postnr.           By Virksomhedsform  \\\n",
       "0       Hydrovej 5     6270       Tønder    Aktieselskab   \n",
       "1  Blågårdsgade 20     2200    København  Anpartsselskab   \n",
       "2  Tolstrupvej 102     9700  Brønderslev  Anpartsselskab   \n",
       "\n",
       "                                      Hovedbranche   Telefonnr  \\\n",
       "0  464930 Engroshandel med kufferter og lædervarer         NaN   \n",
       "1         563000 Cafeér  værtshuse  diskoteker mv.  35372442.0   \n",
       "2                                   999999 Uoplyst         NaN   \n",
       "\n",
       "                  Email Reklamebeskyttet  \n",
       "0                   NaN              Nej  \n",
       "1  bestyrer@kroteket.dk              Nej  \n",
       "2                   NaN              Nej  "
      ]
     },
     "execution_count": 79,
     "metadata": {},
     "output_type": "execute_result"
    }
   ],
   "source": [
    "cvr_virk.head(3)"
   ]
  },
  {
   "cell_type": "code",
   "execution_count": 74,
   "metadata": {
    "scrolled": true
   },
   "outputs": [],
   "source": [
    "# P-enheder\n",
    "url_p = 'https://raw.githubusercontent.com/Oliverkobaek/thesis_2020/master/CVR_P-enheder.csv'\n",
    "cvr_p = pd.read_csv(url_p, sep=';')"
   ]
  },
  {
   "cell_type": "code",
   "execution_count": 83,
   "metadata": {
    "scrolled": true
   },
   "outputs": [
    {
     "data": {
      "text/plain": [
       "'477300 '"
      ]
     },
     "execution_count": 83,
     "metadata": {},
     "output_type": "execute_result"
    }
   ],
   "source": [
    "cvr_p['Hovedbranche'][9][0:7]"
   ]
  },
  {
   "cell_type": "code",
   "execution_count": 87,
   "metadata": {},
   "outputs": [],
   "source": [
    "branche_kode_p = []\n",
    "for apotek in range(len(cvr_p)):\n",
    "    branche_kode_p.append(cvr_p['Hovedbranche'][apotek][0:6])\n",
    "    \n",
    "cvr_p['branche_kode_p']=branche_kode_p"
   ]
  },
  {
   "cell_type": "code",
   "execution_count": 90,
   "metadata": {},
   "outputs": [
    {
     "data": {
      "text/html": [
       "<div>\n",
       "<style scoped>\n",
       "    .dataframe tbody tr th:only-of-type {\n",
       "        vertical-align: middle;\n",
       "    }\n",
       "\n",
       "    .dataframe tbody tr th {\n",
       "        vertical-align: top;\n",
       "    }\n",
       "\n",
       "    .dataframe thead th {\n",
       "        text-align: right;\n",
       "    }\n",
       "</style>\n",
       "<table border=\"1\" class=\"dataframe\">\n",
       "  <thead>\n",
       "    <tr style=\"text-align: right;\">\n",
       "      <th></th>\n",
       "      <th>P-nummer</th>\n",
       "      <th>Startdato</th>\n",
       "      <th>Ophørsdato</th>\n",
       "      <th>Navn</th>\n",
       "      <th>Adresse</th>\n",
       "      <th>Postnr.</th>\n",
       "      <th>By</th>\n",
       "      <th>Hovedbranche</th>\n",
       "      <th>Telefonnr</th>\n",
       "      <th>Email</th>\n",
       "      <th>Reklamebeskyttet</th>\n",
       "      <th>branche_kode_p</th>\n",
       "    </tr>\n",
       "  </thead>\n",
       "  <tbody>\n",
       "    <tr>\n",
       "      <th>0</th>\n",
       "      <td>1023758268</td>\n",
       "      <td>18.08.2018</td>\n",
       "      <td>NaN</td>\n",
       "      <td>Skalborg Apotek</td>\n",
       "      <td>Otto Mønsteds Vej 1</td>\n",
       "      <td>9200.0</td>\n",
       "      <td>Aalborg</td>\n",
       "      <td>477300 Apoteker</td>\n",
       "      <td>21608664.0</td>\n",
       "      <td>063fo@apoteket.dk</td>\n",
       "      <td>Ja</td>\n",
       "      <td>477300</td>\n",
       "    </tr>\n",
       "    <tr>\n",
       "      <th>1</th>\n",
       "      <td>1025913309</td>\n",
       "      <td>01.09.2020</td>\n",
       "      <td>NaN</td>\n",
       "      <td>Stensballe Apotek</td>\n",
       "      <td>c/o Superbrugsen Stensballe -   Sundgårdsvej 1</td>\n",
       "      <td>8700.0</td>\n",
       "      <td>Horsens</td>\n",
       "      <td>477300 Apoteker</td>\n",
       "      <td>76254200.0</td>\n",
       "      <td>NaN</td>\n",
       "      <td>Ja</td>\n",
       "      <td>477300</td>\n",
       "    </tr>\n",
       "    <tr>\n",
       "      <th>2</th>\n",
       "      <td>1008657978</td>\n",
       "      <td>01.01.2000</td>\n",
       "      <td>NaN</td>\n",
       "      <td>Hasseris apotek</td>\n",
       "      <td>Hasseris Bymidte 9</td>\n",
       "      <td>9000.0</td>\n",
       "      <td>Aalborg</td>\n",
       "      <td>477300 Apoteker</td>\n",
       "      <td>NaN</td>\n",
       "      <td>NaN</td>\n",
       "      <td>Nej</td>\n",
       "      <td>477300</td>\n",
       "    </tr>\n",
       "    <tr>\n",
       "      <th>3</th>\n",
       "      <td>1003063457</td>\n",
       "      <td>19.11.1979</td>\n",
       "      <td>NaN</td>\n",
       "      <td>KORSØR APOTEK</td>\n",
       "      <td>Algade 49A</td>\n",
       "      <td>4220.0</td>\n",
       "      <td>Korsør</td>\n",
       "      <td>477300 Apoteker</td>\n",
       "      <td>58370003.0</td>\n",
       "      <td>korsoer@apotekeren.dk</td>\n",
       "      <td>Nej</td>\n",
       "      <td>477300</td>\n",
       "    </tr>\n",
       "    <tr>\n",
       "      <th>4</th>\n",
       "      <td>1019855666</td>\n",
       "      <td>31.10.2014</td>\n",
       "      <td>NaN</td>\n",
       "      <td>Farum Apotek</td>\n",
       "      <td>Farum Bytorv 69</td>\n",
       "      <td>3520.0</td>\n",
       "      <td>Farum</td>\n",
       "      <td>477300 Apoteker</td>\n",
       "      <td>44950239.0</td>\n",
       "      <td>vk@apoteket.dk</td>\n",
       "      <td>Ja</td>\n",
       "      <td>477300</td>\n",
       "    </tr>\n",
       "  </tbody>\n",
       "</table>\n",
       "</div>"
      ],
      "text/plain": [
       "     P-nummer   Startdato Ophørsdato               Navn  \\\n",
       "0  1023758268  18.08.2018        NaN    Skalborg Apotek   \n",
       "1  1025913309  01.09.2020        NaN  Stensballe Apotek   \n",
       "2  1008657978  01.01.2000        NaN    Hasseris apotek   \n",
       "3  1003063457  19.11.1979        NaN      KORSØR APOTEK   \n",
       "4  1019855666  31.10.2014        NaN       Farum Apotek   \n",
       "\n",
       "                                          Adresse  Postnr.       By  \\\n",
       "0                             Otto Mønsteds Vej 1   9200.0  Aalborg   \n",
       "1  c/o Superbrugsen Stensballe -   Sundgårdsvej 1   8700.0  Horsens   \n",
       "2                              Hasseris Bymidte 9   9000.0  Aalborg   \n",
       "3                                      Algade 49A   4220.0   Korsør   \n",
       "4                                 Farum Bytorv 69   3520.0    Farum   \n",
       "\n",
       "      Hovedbranche   Telefonnr                  Email Reklamebeskyttet  \\\n",
       "0  477300 Apoteker  21608664.0      063fo@apoteket.dk               Ja   \n",
       "1  477300 Apoteker  76254200.0                    NaN               Ja   \n",
       "2  477300 Apoteker         NaN                    NaN              Nej   \n",
       "3  477300 Apoteker  58370003.0  korsoer@apotekeren.dk              Nej   \n",
       "4  477300 Apoteker  44950239.0         vk@apoteket.dk               Ja   \n",
       "\n",
       "  branche_kode_p  \n",
       "0         477300  \n",
       "1         477300  \n",
       "2         477300  \n",
       "3         477300  \n",
       "4         477300  "
      ]
     },
     "execution_count": 90,
     "metadata": {},
     "output_type": "execute_result"
    }
   ],
   "source": [
    "cvr_p.head(5)"
   ]
  },
  {
   "cell_type": "code",
   "execution_count": null,
   "metadata": {},
   "outputs": [],
   "source": [
    "#link opbygning til scrape:\n",
    "'https://datacvr.virk.dk/data/visenhed?enhedstype=produktionsenhed&id=1025314774&soeg=1025314774&language=da'\n",
    "'https://datacvr.virk.dk/data/visenhed?enhedstype=virksomhed&id=34455287&soeg=34455287&language=da'"
   ]
  }
 ],
 "metadata": {
  "kernelspec": {
   "display_name": "Python 3",
   "language": "python",
   "name": "python3"
  },
  "language_info": {
   "codemirror_mode": {
    "name": "ipython",
    "version": 3
   },
   "file_extension": ".py",
   "mimetype": "text/x-python",
   "name": "python",
   "nbconvert_exporter": "python",
   "pygments_lexer": "ipython3",
   "version": "3.7.3"
  }
 },
 "nbformat": 4,
 "nbformat_minor": 2
}
